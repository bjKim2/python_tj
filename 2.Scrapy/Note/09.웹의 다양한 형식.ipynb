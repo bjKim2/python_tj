{
 "cells": [
  {
   "cell_type": "markdown",
   "metadata": {},
   "source": [
    "# XML 분석\n",
    "### 기상청 전국 날씨 분류하기"
   ]
  },
  {
   "cell_type": "code",
   "execution_count": 2,
   "metadata": {},
   "outputs": [],
   "source": [
    "from bs4 import BeautifulSoup\n",
    "from urllib.request import urlopen"
   ]
  },
  {
   "cell_type": "code",
   "execution_count": 33,
   "metadata": {},
   "outputs": [
    {
     "name": "stdout",
     "output_type": "stream",
     "text": [
      "{'kenny': [1, 2]}\n",
      "[1, 2]\n",
      "dict_keys(['kenny'])\n"
     ]
    }
   ],
   "source": [
    "test = {}\n",
    "test['kenny'] = []\n",
    "test['kenny'].append(1)\n",
    "test['kenny'].append(2)\n",
    "print(test)\n",
    "print(test['kenny'])\n",
    "print(test.keys())"
   ]
  },
  {
   "cell_type": "code",
   "execution_count": 34,
   "metadata": {},
   "outputs": [],
   "source": [
    "url = \"https://www.kma.go.kr/weather/forecast/mid-term-rss3.jsp?stnId=108\"\n",
    "res = urlopen(url)\n",
    "soup = BeautifulSoup(res, \"html.parser\")"
   ]
  },
  {
   "cell_type": "code",
   "execution_count": 49,
   "metadata": {},
   "outputs": [
    {
     "name": "stdout",
     "output_type": "stream",
     "text": [
      "41 41.0\n"
     ]
    }
   ],
   "source": [
    "reg = soup.find_all(\"city\")\n",
    "weather = soup.find_all(\"wf\")\n",
    "weather.pop(0)\n",
    "print(len(reg),(len(weather))/13)\n"
   ]
  },
  {
   "cell_type": "code",
   "execution_count": 56,
   "metadata": {},
   "outputs": [],
   "source": [
    "num = 13\n",
    "\n",
    "data = {}\n",
    "data['흐리고 비'] = []\n",
    "data['흐림'] = []\n",
    "data['구름많음'] = []\n",
    "\n",
    "\n",
    "for i in range(0,41):\n",
    "    if(weather[i*13].string == \"흐리고 비\"):\n",
    "        data['흐리고 비'].append(reg[i].string)\n",
    "    elif(weather[i*13].string == \"흐림\"):\n",
    "        data['흐림'].append(reg[i].string)\n",
    "    elif(weather[i*13].string == \"구름많음\"):\n",
    "        data['구름많음'].append(reg[i].string)\n",
    "    \n",
    "\n"
   ]
  },
  {
   "cell_type": "code",
   "execution_count": 57,
   "metadata": {},
   "outputs": [
    {
     "data": {
      "text/plain": [
       "{'흐리고 비': ['서울', '인천', '수원', '파주', '이천', '평택', '춘천', '원주'],\n",
       " '흐림': ['강릉', '청주', '충주', '영동'],\n",
       " '구름많음': ['대전',\n",
       "  '세종',\n",
       "  '홍성',\n",
       "  '광주',\n",
       "  '목포',\n",
       "  '여수',\n",
       "  '순천',\n",
       "  '광양',\n",
       "  '나주',\n",
       "  '전주',\n",
       "  '군산',\n",
       "  '정읍',\n",
       "  '남원',\n",
       "  '고창',\n",
       "  '무주',\n",
       "  '부산',\n",
       "  '울산',\n",
       "  '창원',\n",
       "  '진주',\n",
       "  '거창',\n",
       "  '통영',\n",
       "  '대구',\n",
       "  '안동',\n",
       "  '포항',\n",
       "  '경주',\n",
       "  '울진',\n",
       "  '울릉도',\n",
       "  '제주',\n",
       "  '서귀포']}"
      ]
     },
     "execution_count": 57,
     "metadata": {},
     "output_type": "execute_result"
    }
   ],
   "source": [
    "data\n"
   ]
  },
  {
   "cell_type": "code",
   "execution_count": 60,
   "metadata": {},
   "outputs": [
    {
     "name": "stdout",
     "output_type": "stream",
     "text": [
      "4 29 8\n"
     ]
    }
   ],
   "source": [
    "\n",
    "\n",
    "print(len(data['흐림']),len(data['구름많음']),len(data['흐리고 비']))"
   ]
  },
  {
   "cell_type": "code",
   "execution_count": 68,
   "metadata": {},
   "outputs": [
    {
     "name": "stdout",
     "output_type": "stream",
     "text": [
      "+ 흐리고 비\n",
      "| - 서울\n",
      "| - 인천\n",
      "| - 수원\n",
      "| - 파주\n",
      "| - 이천\n",
      "| - 평택\n",
      "| - 춘천\n",
      "| - 원주\n",
      "+ 흐림\n",
      "| - 강릉\n",
      "| - 청주\n",
      "| - 충주\n",
      "| - 영동\n",
      "+ 구름많음\n",
      "| - 대전\n",
      "| - 세종\n",
      "| - 홍성\n",
      "| - 광주\n",
      "| - 목포\n",
      "| - 여수\n",
      "| - 순천\n",
      "| - 광양\n",
      "| - 나주\n",
      "| - 전주\n",
      "| - 군산\n",
      "| - 정읍\n",
      "| - 남원\n",
      "| - 고창\n",
      "| - 무주\n",
      "| - 부산\n",
      "| - 울산\n",
      "| - 창원\n",
      "| - 진주\n",
      "| - 거창\n",
      "| - 통영\n",
      "| - 대구\n",
      "| - 안동\n",
      "| - 포항\n",
      "| - 경주\n",
      "| - 울진\n",
      "| - 울릉도\n",
      "| - 제주\n",
      "| - 서귀포\n"
     ]
    }
   ],
   "source": [
    "for i in data:\n",
    "    print('+',i)\n",
    "    for j in range(len(data[str(i)])):\n",
    "        print('| -',data[str(i)][j])"
   ]
  },
  {
   "cell_type": "code",
   "execution_count": 75,
   "metadata": {},
   "outputs": [],
   "source": [
    "# 각 지역 확인하기\n",
    "info = {}\n",
    "\n",
    "for location in soup.find_all(\"location\"):\n",
    "    name = location.find(\"city\").string\n",
    "    weather = location.find(\"wf\").string\n",
    "    if not(weather in  info):\n",
    "        info[weather] = []\n",
    "    info[weather].append(name)\n",
    "    "
   ]
  },
  {
   "cell_type": "code",
   "execution_count": 79,
   "metadata": {},
   "outputs": [
    {
     "name": "stdout",
     "output_type": "stream",
     "text": [
      "+ 흐리고 비\n",
      "| - 서울\n",
      "| - 인천\n",
      "| - 수원\n",
      "| - 파주\n",
      "| - 이천\n",
      "| - 평택\n",
      "| - 춘천\n",
      "| - 원주\n",
      "+ 흐림\n",
      "| - 강릉\n",
      "| - 청주\n",
      "| - 충주\n",
      "| - 영동\n",
      "+ 구름많음\n",
      "| - 대전\n",
      "| - 세종\n",
      "| - 홍성\n",
      "| - 광주\n",
      "| - 목포\n",
      "| - 여수\n",
      "| - 순천\n",
      "| - 광양\n",
      "| - 나주\n",
      "| - 전주\n",
      "| - 군산\n",
      "| - 정읍\n",
      "| - 남원\n",
      "| - 고창\n",
      "| - 무주\n",
      "| - 부산\n",
      "| - 울산\n",
      "| - 창원\n",
      "| - 진주\n",
      "| - 거창\n",
      "| - 통영\n",
      "| - 대구\n",
      "| - 안동\n",
      "| - 포항\n",
      "| - 경주\n",
      "| - 울진\n",
      "| - 울릉도\n",
      "| - 제주\n",
      "| - 서귀포\n"
     ]
    }
   ],
   "source": [
    "# 각 지역의 날씨를 구분해서 출력하기\n",
    "for weather in info.keys():\n",
    "    print(\"+\",weather)\n",
    "    for name in info[weather]:\n",
    "        print(\"| -\",name)"
   ]
  },
  {
   "cell_type": "code",
   "execution_count": 84,
   "metadata": {},
   "outputs": [],
   "source": [
    "# JSON\n",
    "import urllib.request as req\n",
    "import json\n",
    "\n",
    "url = \"https://zeushahn.github.io/Test/student.json\"\n",
    "res = urlopen(url)\n",
    "soup = BeautifulSoup(res , \"html.parser\")\n"
   ]
  },
  {
   "cell_type": "code",
   "execution_count": 88,
   "metadata": {},
   "outputs": [
    {
     "name": "stdout",
     "output_type": "stream",
     "text": [
      "{'results': [{'code': 'S001', 'phone': '123-4567', 'name': '박소명', 'dept': '컴퓨터공학과'}, {'code': 'S002', 'phone': '234-5678', 'name': '최민국', 'dept': '컴퓨터공학과'}, {'code': 'S003', 'phone': '345-6789', 'name': '이승호', 'dept': '국문학과'}, {'code': 'S004', 'phone': '456-7890', 'name': '정수봉', 'dept': '국문학과'}, {'code': 'S005', 'phone': '567-8901', 'name': '김상진', 'dept': '사학과'}, {'code': 'S006', 'phone': '678-9012', 'name': '황정숙', 'dept': '사학과'}]}\n",
      "<class 'dict'>\n"
     ]
    }
   ],
   "source": [
    "# soup을 string으로 변형해서 json 형태로 변형하기\n",
    "items = json.loads(str(soup))\n",
    "print(items)\n",
    "print(type(items))"
   ]
  },
  {
   "cell_type": "code",
   "execution_count": 91,
   "metadata": {},
   "outputs": [
    {
     "name": "stdout",
     "output_type": "stream",
     "text": [
      "[{'code': 'S001', 'phone': '123-4567', 'name': '박소명', 'dept': '컴퓨터공학과'}, {'code': 'S002', 'phone': '234-5678', 'name': '최민국', 'dept': '컴퓨터공학과'}, {'code': 'S003', 'phone': '345-6789', 'name': '이승호', 'dept': '국문학과'}, {'code': 'S004', 'phone': '456-7890', 'name': '정수봉', 'dept': '국문학과'}, {'code': 'S005', 'phone': '567-8901', 'name': '김상진', 'dept': '사학과'}, {'code': 'S006', 'phone': '678-9012', 'name': '황정숙', 'dept': '사학과'}] 6\n"
     ]
    }
   ],
   "source": [
    "# json의 object를 선택하기\n",
    "items2 = items['results']\n",
    "print(items2,len(items2))"
   ]
  },
  {
   "cell_type": "code",
   "execution_count": 92,
   "metadata": {},
   "outputs": [
    {
     "name": "stdout",
     "output_type": "stream",
     "text": [
      "S001 박소명 컴퓨터공학과 123-4567\n",
      "S002 최민국 컴퓨터공학과 234-5678\n",
      "S003 이승호 국문학과 345-6789\n",
      "S004 정수봉 국문학과 456-7890\n",
      "S005 김상진 사학과 567-8901\n",
      "S006 황정숙 사학과 678-9012\n"
     ]
    }
   ],
   "source": [
    "for item in items2:\n",
    "    print(item['code'],item['name'],item['dept'],item['phone'])"
   ]
  },
  {
   "cell_type": "code",
   "execution_count": 95,
   "metadata": {},
   "outputs": [
    {
     "name": "stdout",
     "output_type": "stream",
     "text": [
      "S001 123-4567 박소명 컴퓨터공학과 S002 234-5678 최민국 컴퓨터공학과 S003 345-6789 이승호 국문학과 S004 456-7890 정수봉 국문학과 S005 567-8901 김상진 사학과 S006 678-9012 황정숙 사학과 "
     ]
    }
   ],
   "source": [
    "for item in items2:\n",
    "    for j in item:\n",
    "        print(item[j],end = ' ')"
   ]
  },
  {
   "cell_type": "code",
   "execution_count": null,
   "metadata": {},
   "outputs": [],
   "source": []
  }
 ],
 "metadata": {
  "interpreter": {
   "hash": "c34e8390e776d2ee205b71ed5a6130fee3cef8da5e87e926ce18e14f4a070d72"
  },
  "kernelspec": {
   "display_name": "Python 3.9.7 ('base')",
   "language": "python",
   "name": "python3"
  },
  "language_info": {
   "codemirror_mode": {
    "name": "ipython",
    "version": 3
   },
   "file_extension": ".py",
   "mimetype": "text/x-python",
   "name": "python",
   "nbconvert_exporter": "python",
   "pygments_lexer": "ipython3",
   "version": "3.9.7"
  },
  "orig_nbformat": 4
 },
 "nbformat": 4,
 "nbformat_minor": 2
}
