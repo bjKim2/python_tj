{
 "cells": [
  {
   "cell_type": "code",
   "execution_count": 1,
   "metadata": {},
   "outputs": [],
   "source": [
    "# js가 구동된 후 html 을 가져오기 위해 selenium 사용"
   ]
  },
  {
   "cell_type": "markdown",
   "metadata": {},
   "source": [
    "# 서울시 구별 주유소 유가 정보 획득\n",
    "http://www.opinet.co.kr/searRgSelect.do"
   ]
  },
  {
   "cell_type": "code",
   "execution_count": 3,
   "metadata": {},
   "outputs": [
    {
     "name": "stdout",
     "output_type": "stream",
     "text": [
      "Collecting selenium\n",
      "  Downloading selenium-4.3.0-py3-none-any.whl (981 kB)\n",
      "\u001b[K     |████████████████████████████████| 981 kB 11.2 MB/s eta 0:00:01\n",
      "\u001b[?25hRequirement already satisfied: urllib3[secure,socks]~=1.26 in /Users/tj/opt/anaconda3/lib/python3.9/site-packages (from selenium) (1.26.7)\n",
      "Collecting trio-websocket~=0.9\n",
      "  Downloading trio_websocket-0.9.2-py3-none-any.whl (16 kB)\n",
      "Collecting trio~=0.17\n",
      "  Downloading trio-0.21.0-py3-none-any.whl (358 kB)\n",
      "\u001b[K     |████████████████████████████████| 358 kB 12.2 MB/s eta 0:00:01\n",
      "\u001b[?25hRequirement already satisfied: sortedcontainers in /Users/tj/opt/anaconda3/lib/python3.9/site-packages (from trio~=0.17->selenium) (2.4.0)\n",
      "Requirement already satisfied: async-generator>=1.9 in /Users/tj/opt/anaconda3/lib/python3.9/site-packages (from trio~=0.17->selenium) (1.10)\n",
      "Collecting outcome\n",
      "  Downloading outcome-1.2.0-py2.py3-none-any.whl (9.7 kB)\n",
      "Requirement already satisfied: sniffio in /Users/tj/opt/anaconda3/lib/python3.9/site-packages (from trio~=0.17->selenium) (1.2.0)\n",
      "Requirement already satisfied: attrs>=19.2.0 in /Users/tj/opt/anaconda3/lib/python3.9/site-packages (from trio~=0.17->selenium) (21.2.0)\n",
      "Requirement already satisfied: idna in /Users/tj/opt/anaconda3/lib/python3.9/site-packages (from trio~=0.17->selenium) (3.2)\n",
      "Collecting wsproto>=0.14\n",
      "  Downloading wsproto-1.1.0-py3-none-any.whl (24 kB)\n",
      "Requirement already satisfied: PySocks!=1.5.7,<2.0,>=1.5.6 in /Users/tj/opt/anaconda3/lib/python3.9/site-packages (from urllib3[secure,socks]~=1.26->selenium) (1.7.1)\n",
      "Requirement already satisfied: pyOpenSSL>=0.14 in /Users/tj/opt/anaconda3/lib/python3.9/site-packages (from urllib3[secure,socks]~=1.26->selenium) (21.0.0)\n",
      "Requirement already satisfied: cryptography>=1.3.4 in /Users/tj/opt/anaconda3/lib/python3.9/site-packages (from urllib3[secure,socks]~=1.26->selenium) (3.4.8)\n",
      "Requirement already satisfied: certifi in /Users/tj/opt/anaconda3/lib/python3.9/site-packages (from urllib3[secure,socks]~=1.26->selenium) (2021.10.8)\n",
      "Requirement already satisfied: cffi>=1.12 in /Users/tj/opt/anaconda3/lib/python3.9/site-packages (from cryptography>=1.3.4->urllib3[secure,socks]~=1.26->selenium) (1.14.6)\n",
      "Requirement already satisfied: pycparser in /Users/tj/opt/anaconda3/lib/python3.9/site-packages (from cffi>=1.12->cryptography>=1.3.4->urllib3[secure,socks]~=1.26->selenium) (2.20)\n",
      "Requirement already satisfied: six>=1.5.2 in /Users/tj/opt/anaconda3/lib/python3.9/site-packages (from pyOpenSSL>=0.14->urllib3[secure,socks]~=1.26->selenium) (1.16.0)\n",
      "Collecting h11<1,>=0.9.0\n",
      "  Downloading h11-0.13.0-py3-none-any.whl (58 kB)\n",
      "\u001b[K     |████████████████████████████████| 58 kB 9.5 MB/s  eta 0:00:01\n",
      "\u001b[?25hInstalling collected packages: outcome, h11, wsproto, trio, trio-websocket, selenium\n",
      "Successfully installed h11-0.13.0 outcome-1.2.0 selenium-4.3.0 trio-0.21.0 trio-websocket-0.9.2 wsproto-1.1.0\n"
     ]
    }
   ],
   "source": [
    "# !는 터미널 처럼 사용 가능한 jupyternotebook 의 문법\n",
    "\n",
    "# Selenium 설치\n",
    "#!pip install selenium"
   ]
  },
  {
   "cell_type": "code",
   "execution_count": 4,
   "metadata": {},
   "outputs": [
    {
     "name": "stdout",
     "output_type": "stream",
     "text": [
      "Collecting webdriver-manager\n",
      "  Downloading webdriver_manager-3.7.1-py2.py3-none-any.whl (25 kB)\n",
      "Collecting python-dotenv\n",
      "  Downloading python_dotenv-0.20.0-py3-none-any.whl (17 kB)\n",
      "Requirement already satisfied: requests in /Users/tj/opt/anaconda3/lib/python3.9/site-packages (from webdriver-manager) (2.26.0)\n",
      "Requirement already satisfied: idna<4,>=2.5 in /Users/tj/opt/anaconda3/lib/python3.9/site-packages (from requests->webdriver-manager) (3.2)\n",
      "Requirement already satisfied: charset-normalizer~=2.0.0 in /Users/tj/opt/anaconda3/lib/python3.9/site-packages (from requests->webdriver-manager) (2.0.4)\n",
      "Requirement already satisfied: urllib3<1.27,>=1.21.1 in /Users/tj/opt/anaconda3/lib/python3.9/site-packages (from requests->webdriver-manager) (1.26.7)\n",
      "Requirement already satisfied: certifi>=2017.4.17 in /Users/tj/opt/anaconda3/lib/python3.9/site-packages (from requests->webdriver-manager) (2021.10.8)\n",
      "Installing collected packages: python-dotenv, webdriver-manager\n",
      "Successfully installed python-dotenv-0.20.0 webdriver-manager-3.7.1\n"
     ]
    }
   ],
   "source": [
    "\n",
    "# Web Driver 설치하기 (따로 chrome 용 드라이버 설치하고 할 필요 없이 바꼈음!)\n",
    "#!pip install webdriver-manager"
   ]
  },
  {
   "cell_type": "code",
   "execution_count": 5,
   "metadata": {},
   "outputs": [],
   "source": [
    "from selenium import webdriver\n",
    "from selenium.webdriver.chrome.service import Service\n",
    "from webdriver_manager.chrome import ChromeDriverManager\n",
    "from selenium.webdriver.common.by import By"
   ]
  },
  {
   "cell_type": "code",
   "execution_count": 37,
   "metadata": {},
   "outputs": [
    {
     "name": "stdout",
     "output_type": "stream",
     "text": [
      "\n"
     ]
    },
    {
     "name": "stderr",
     "output_type": "stream",
     "text": [
      "[WDM] - ====== WebDriver manager ======\n",
      "[WDM] - Current google-chrome version is 102.0.5005\n",
      "[WDM] - Get LATEST chromedriver version for 102.0.5005 google-chrome\n",
      "[WDM] - Driver [/Users/tj/.wdm/drivers/chromedriver/mac64/102.0.5005.61/chromedriver] found in cache\n"
     ]
    }
   ],
   "source": [
    "# Chrome Browser와 Chrome Driver Version 확인하기\n",
    "\n",
    "chrome_options = webdriver.ChromeOptions()\n",
    "driver = webdriver.Chrome(service=Service(ChromeDriverManager().install()), options=chrome_options)\n",
    "driver.get('https://www.opinet.co.kr/searRgSelect.do')"
   ]
  },
  {
   "cell_type": "code",
   "execution_count": 10,
   "metadata": {},
   "outputs": [
    {
     "data": {
      "text/plain": [
       "True"
      ]
     },
     "execution_count": 10,
     "metadata": {},
     "output_type": "execute_result"
    }
   ],
   "source": [
    "# 현재 화면 Capture 하기\n",
    "\n",
    "driver.save_screenshot(\"../Data/001.png\")"
   ]
  },
  {
   "cell_type": "markdown",
   "metadata": {},
   "source": [
    "---\n",
    "# 서울시 유가 정보 획득을 위한 Test"
   ]
  },
  {
   "cell_type": "code",
   "execution_count": 12,
   "metadata": {},
   "outputs": [
    {
     "name": "stdout",
     "output_type": "stream",
     "text": [
      "<selenium.webdriver.remote.webelement.WebElement (session=\"e965a6c26bfce9bed240ab793e009f46\", element=\"9d9f71e3-ed9d-4b52-b3a9-34e253ddc933\")>\n"
     ]
    }
   ],
   "source": [
    "# 자치구명 가져오기\n",
    "# selenium 쓸 때는 Xpath 를 copy 해온다.\n",
    "# //*[@id=\"SIGUNGU_NM0\"]/option[2]\n",
    "\n",
    "gu_list_raw = driver.find_element(By.XPATH, '//*[@id=\"SIGUNGU_NM0\"]/option[2]') # '' 홑따옴표만 가능!\n",
    "print(gu_list_raw)\n"
   ]
  },
  {
   "cell_type": "code",
   "execution_count": 23,
   "metadata": {},
   "outputs": [
    {
     "name": "stdout",
     "output_type": "stream",
     "text": [
      "강동구\n"
     ]
    },
    {
     "data": {
      "text/plain": [
       "['강남구',\n",
       " '강동구',\n",
       " '강북구',\n",
       " '강서구',\n",
       " '관악구',\n",
       " '광진구',\n",
       " '구로구',\n",
       " '금천구',\n",
       " '노원구',\n",
       " '도봉구',\n",
       " '동대문구',\n",
       " '동작구',\n",
       " '마포구',\n",
       " '서대문구',\n",
       " '서초구',\n",
       " '성동구',\n",
       " '성북구',\n",
       " '송파구',\n",
       " '양천구',\n",
       " '영등포구',\n",
       " '용산구',\n",
       " '은평구',\n",
       " '종로구',\n",
       " '중구',\n",
       " '중랑구']"
      ]
     },
     "execution_count": 23,
     "metadata": {},
     "output_type": "execute_result"
    }
   ],
   "source": [
    "gu_list_raw = driver.find_element(By.XPATH, '//*[@id=\"SIGUNGU_NM0\"]') # '' 홑따옴표만 가능!\n",
    "gu_list = gu_list_raw.find_elements(By.TAG_NAME,'option')\n",
    "\n",
    "print(gu_list[2].get_attribute('value'))\n",
    "\n",
    "gu_names = [option.get_attribute('value') for option in gu_list]\n",
    "gu_names.remove('')\n",
    "gu_names"
   ]
  },
  {
   "cell_type": "code",
   "execution_count": 36,
   "metadata": {},
   "outputs": [],
   "source": [
    "# 조회버튼 click\n",
    "# //*[@id=\"searRgSelect\"]/span\n",
    "\n",
    "\n",
    "xpath = '//*[@id=\"searRgSelect\"]/span'\n",
    "element_sel_gu = driver.find_element(By.XPATH,xpath).click()"
   ]
  },
  {
   "cell_type": "code",
   "execution_count": 38,
   "metadata": {},
   "outputs": [],
   "source": [
    "# 엑셀 저장버튼 clock\n",
    "# //*[@id=\"glopopd_excel\"]/span\n",
    "\n",
    "xpath = '//*[@id=\"glopopd_excel\"]/span'\n",
    "\n",
    "element_sel_excel = driver.find_element(By.XPATH,xpath).click()"
   ]
  },
  {
   "cell_type": "markdown",
   "metadata": {},
   "source": [
    "> Test Good!"
   ]
  },
  {
   "cell_type": "markdown",
   "metadata": {},
   "source": [
    "---\n",
    "# 데이터 수집"
   ]
  },
  {
   "cell_type": "code",
   "execution_count": 40,
   "metadata": {},
   "outputs": [],
   "source": [
    "# 인터넷 화면 그림이 다 그려진 것이 js 가 다 끝났다는 뜻\n",
    "# 화면에 그림을 그리는 시간이 필요하므로 이를 delay시키자!\n",
    "\n",
    "import time\n",
    "\n",
    "for gu in gu_names:\n",
    "    element = driver.find_element(By.XPATH, '//*[@id=\"SIGUNGU_NM0\"]')\n",
    "    element.send_keys(gu)\n",
    "    \n",
    "    time.sleep(2)\n",
    "\n",
    "    xpath = '//*[@id=\"searRgSelect\"]/span'\n",
    "    element_sel_gu = driver.find_element(By.XPATH,xpath).click()\n",
    "\n",
    "    time.sleep(1)\n",
    "\n",
    "    xpath = '//*[@id=\"glopopd_excel\"]/span'\n",
    "    element_sel_excel = driver.find_element(By.XPATH,xpath).click()\n",
    "\n",
    "    time.sleep(1)\n",
    "    "
   ]
  },
  {
   "cell_type": "code",
   "execution_count": 67,
   "metadata": {},
   "outputs": [],
   "source": [
    "law = law.replace(\" \",\"\")\n",
    "law = law.replace(\"       \",\"\")"
   ]
  },
  {
   "cell_type": "code",
   "execution_count": 68,
   "metadata": {},
   "outputs": [],
   "source": [
    "law2 = law"
   ]
  },
  {
   "cell_type": "code",
   "execution_count": 69,
   "metadata": {},
   "outputs": [],
   "source": [
    "law = law.replace(\"\\n\",\" \")\n",
    "law = law.replace(\"\\t\",\" \")\n",
    "law = law.replace(\".\",\" \")\n",
    "law = law.replace(\".\",\" \")\n",
    "law = law.replace(\"ㆍ\",\" \")"
   ]
  },
  {
   "cell_type": "code",
   "execution_count": 94,
   "metadata": {},
   "outputs": [],
   "source": [
    "law = law.replace(\"①\",\" \")\n",
    "law = law.replace(\"②\",\" \")\n",
    "law = law.replace(\"③\",\" \")\n",
    "law = law.replace(\"④\",\" \")\n",
    "law = law.replace(\"⑤\",\" \")\n",
    "law = law.replace(\"⑥\",\" \")\n",
    "law = law.replace(\"⑦\",\" \")\n",
    "law = law.replace(\",\",\" \")\n",
    "law = law.replace(\"“\",\" \")\n",
    "law = law.replace(\"”\",\" \")"
   ]
  },
  {
   "cell_type": "code",
   "execution_count": 95,
   "metadata": {},
   "outputs": [],
   "source": [
    "for i in range(0,131):\n",
    "    law = law.replace(str(i),\" \")"
   ]
  },
  {
   "cell_type": "code",
   "execution_count": 96,
   "metadata": {},
   "outputs": [],
   "source": [
    "set_law=set(list(law))"
   ]
  },
  {
   "cell_type": "code",
   "execution_count": 97,
   "metadata": {},
   "outputs": [],
   "source": [
    "list_law = list(set_law)\n",
    "list_law.sort()"
   ]
  },
  {
   "cell_type": "code",
   "execution_count": null,
   "metadata": {},
   "outputs": [],
   "source": []
  },
  {
   "cell_type": "code",
   "execution_count": 98,
   "metadata": {},
   "outputs": [
    {
     "data": {
      "text/plain": [
       "[' ',\n",
       " '가',\n",
       " '각',\n",
       " '간',\n",
       " '감',\n",
       " '강',\n",
       " '같',\n",
       " '개',\n",
       " '거',\n",
       " '건',\n",
       " '검',\n",
       " '것',\n",
       " '게',\n",
       " '격',\n",
       " '견',\n",
       " '결',\n",
       " '겸',\n",
       " '경',\n",
       " '계',\n",
       " '고',\n",
       " '공',\n",
       " '과',\n",
       " '관',\n",
       " '광',\n",
       " '교',\n",
       " '구',\n",
       " '국',\n",
       " '군',\n",
       " '권',\n",
       " '궐',\n",
       " '규',\n",
       " '균',\n",
       " '그',\n",
       " '근',\n",
       " '금',\n",
       " '급',\n",
       " '기',\n",
       " '긴',\n",
       " '까',\n",
       " '나',\n",
       " '날',\n",
       " '남',\n",
       " '납',\n",
       " '내',\n",
       " '넘',\n",
       " '녀',\n",
       " '년',\n",
       " '녕',\n",
       " '노',\n",
       " '농',\n",
       " '누',\n",
       " '는',\n",
       " '능',\n",
       " '니',\n",
       " '닌',\n",
       " '다',\n",
       " '단',\n",
       " '달',\n",
       " '담',\n",
       " '답',\n",
       " '당',\n",
       " '대',\n",
       " '덕',\n",
       " '던',\n",
       " '데',\n",
       " '도',\n",
       " '독',\n",
       " '동',\n",
       " '되',\n",
       " '된',\n",
       " '될',\n",
       " '두',\n",
       " '둔',\n",
       " '둘',\n",
       " '득',\n",
       " '든',\n",
       " '듭',\n",
       " '등',\n",
       " '따',\n",
       " '때',\n",
       " '떠',\n",
       " '또',\n",
       " '라',\n",
       " '란',\n",
       " '략',\n",
       " '량',\n",
       " '러',\n",
       " '려',\n",
       " '력',\n",
       " '련',\n",
       " '렴',\n",
       " '령',\n",
       " '례',\n",
       " '로',\n",
       " '록',\n",
       " '론',\n",
       " '료',\n",
       " '류',\n",
       " '률',\n",
       " '르',\n",
       " '를',\n",
       " '리',\n",
       " '릴',\n",
       " '립',\n",
       " '마',\n",
       " '만',\n",
       " '망',\n",
       " '매',\n",
       " '며',\n",
       " '면',\n",
       " '멸',\n",
       " '명',\n",
       " '모',\n",
       " '목',\n",
       " '몰',\n",
       " '못',\n",
       " '무',\n",
       " '문',\n",
       " '물',\n",
       " '미',\n",
       " '민',\n",
       " '밀',\n",
       " '및',\n",
       " '바',\n",
       " '박',\n",
       " '반',\n",
       " '받',\n",
       " '발',\n",
       " '방',\n",
       " '배',\n",
       " '백',\n",
       " '벌',\n",
       " '범',\n",
       " '법',\n",
       " '변',\n",
       " '별',\n",
       " '병',\n",
       " '보',\n",
       " '복',\n",
       " '본',\n",
       " '봉',\n",
       " '부',\n",
       " '분',\n",
       " '불',\n",
       " '붙',\n",
       " '비',\n",
       " '사',\n",
       " '산',\n",
       " '삼',\n",
       " '상',\n",
       " '새',\n",
       " '색',\n",
       " '생',\n",
       " '서',\n",
       " '석',\n",
       " '선',\n",
       " '설',\n",
       " '섭',\n",
       " '성',\n",
       " '세',\n",
       " '소',\n",
       " '속',\n",
       " '손',\n",
       " '송',\n",
       " '수',\n",
       " '숙',\n",
       " '순',\n",
       " '술',\n",
       " '스',\n",
       " '승',\n",
       " '시',\n",
       " '식',\n",
       " '신',\n",
       " '실',\n",
       " '심',\n",
       " '써',\n",
       " '아',\n",
       " '안',\n",
       " '알',\n",
       " '압',\n",
       " '앙',\n",
       " '앞',\n",
       " '애',\n",
       " '액',\n",
       " '야',\n",
       " '약',\n",
       " '양',\n",
       " '어',\n",
       " '언',\n",
       " '얻',\n",
       " '엄',\n",
       " '업',\n",
       " '없',\n",
       " '었',\n",
       " '에',\n",
       " '여',\n",
       " '역',\n",
       " '연',\n",
       " '열',\n",
       " '염',\n",
       " '영',\n",
       " '예',\n",
       " '온',\n",
       " '와',\n",
       " '외',\n",
       " '요',\n",
       " '용',\n",
       " '우',\n",
       " '운',\n",
       " '원',\n",
       " '위',\n",
       " '유',\n",
       " '육',\n",
       " '윤',\n",
       " '율',\n",
       " '으',\n",
       " '은',\n",
       " '을',\n",
       " '음',\n",
       " '응',\n",
       " '의',\n",
       " '이',\n",
       " '익',\n",
       " '인',\n",
       " '일',\n",
       " '임',\n",
       " '입',\n",
       " '있',\n",
       " '자',\n",
       " '작',\n",
       " '장',\n",
       " '재',\n",
       " '쟁',\n",
       " '저',\n",
       " '적',\n",
       " '전',\n",
       " '절',\n",
       " '접',\n",
       " '정',\n",
       " '제',\n",
       " '져',\n",
       " '조',\n",
       " '족',\n",
       " '존',\n",
       " '종',\n",
       " '좌',\n",
       " '죄',\n",
       " '주',\n",
       " '준',\n",
       " '중',\n",
       " '즈',\n",
       " '즉',\n",
       " '증',\n",
       " '지',\n",
       " '직',\n",
       " '진',\n",
       " '질',\n",
       " '집',\n",
       " '징',\n",
       " '차',\n",
       " '찬',\n",
       " '찰',\n",
       " '참',\n",
       " '창',\n",
       " '채',\n",
       " '책',\n",
       " '처',\n",
       " '천',\n",
       " '첩',\n",
       " '청',\n",
       " '체',\n",
       " '쳐',\n",
       " '초',\n",
       " '촉',\n",
       " '촌',\n",
       " '총',\n",
       " '최',\n",
       " '추',\n",
       " '출',\n",
       " '취',\n",
       " '치',\n",
       " '칙',\n",
       " '친',\n",
       " '침',\n",
       " '쾌',\n",
       " '킬',\n",
       " '타',\n",
       " '탁',\n",
       " '탄',\n",
       " '탈',\n",
       " '태',\n",
       " '택',\n",
       " '터',\n",
       " '토',\n",
       " '통',\n",
       " '퇴',\n",
       " '투',\n",
       " '특',\n",
       " '파',\n",
       " '판',\n",
       " '편',\n",
       " '평',\n",
       " '폐',\n",
       " '포',\n",
       " '폭',\n",
       " '표',\n",
       " '품',\n",
       " '풍',\n",
       " '피',\n",
       " '필',\n",
       " '하',\n",
       " '학',\n",
       " '한',\n",
       " '할',\n",
       " '함',\n",
       " '합',\n",
       " '항',\n",
       " '해',\n",
       " '핵',\n",
       " '행',\n",
       " '향',\n",
       " '허',\n",
       " '헌',\n",
       " '험',\n",
       " '혁',\n",
       " '현',\n",
       " '협',\n",
       " '형',\n",
       " '호',\n",
       " '혼',\n",
       " '화',\n",
       " '확',\n",
       " '환',\n",
       " '활',\n",
       " '황',\n",
       " '회',\n",
       " '획',\n",
       " '효',\n",
       " '후',\n",
       " '훈',\n",
       " '흥',\n",
       " '히']"
      ]
     },
     "execution_count": 98,
     "metadata": {},
     "output_type": "execute_result"
    }
   ],
   "source": [
    "list_law"
   ]
  },
  {
   "cell_type": "code",
   "execution_count": null,
   "metadata": {},
   "outputs": [],
   "source": [
    "josa = \"\"\"\"\"\""
   ]
  },
  {
   "cell_type": "code",
   "execution_count": null,
   "metadata": {},
   "outputs": [],
   "source": []
  }
 ],
 "metadata": {
  "kernelspec": {
   "display_name": "Python 3.9.6 64-bit",
   "language": "python",
   "name": "python3"
  },
  "language_info": {
   "codemirror_mode": {
    "name": "ipython",
    "version": 3
   },
   "file_extension": ".py",
   "mimetype": "text/x-python",
   "name": "python",
   "nbconvert_exporter": "python",
   "pygments_lexer": "ipython3",
   "version": "3.9.6"
  },
  "orig_nbformat": 4,
  "vscode": {
   "interpreter": {
    "hash": "b0fa6594d8f4cbf19f97940f81e996739fb7646882a419484c72d19e05852a7e"
   }
  }
 },
 "nbformat": 4,
 "nbformat_minor": 2
}
