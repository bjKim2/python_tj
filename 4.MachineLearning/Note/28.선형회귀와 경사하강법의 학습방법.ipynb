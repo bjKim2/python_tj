{
 "cells": [
  {
   "cell_type": "code",
   "execution_count": 2,
   "metadata": {},
   "outputs": [],
   "source": [
    "# 당뇨병 환자의 데이터\n",
    "from sklearn.datasets import load_diabetes\n",
    "\n",
    "diabetes = load_diabetes() # bunch class\n"
   ]
  },
  {
   "cell_type": "code",
   "execution_count": 6,
   "metadata": {},
   "outputs": [
    {
     "name": "stdout",
     "output_type": "stream",
     "text": [
      "(442, 10)\n",
      "(442,)\n"
     ]
    }
   ],
   "source": [
    "# 데이터의 크기 확인하기\n",
    "\n",
    "print(diabetes.data.shape)\n",
    "print(diabetes.target.shape)"
   ]
  },
  {
   "cell_type": "markdown",
   "metadata": {},
   "source": [
    "> data는 442개의 행과 10개의 열로 구성된 2차원 배열 입니다.  \n",
    "> target은 442개의 요소를 가진 1차원 배열 입니다.(열이 없음 1개라)  \n",
    "> 여기서 442개를 Sample갯수라고 하며 10개를 특성(Featrue)갯수라고 합니다.  "
   ]
  },
  {
   "cell_type": "code",
   "execution_count": 9,
   "metadata": {},
   "outputs": [
    {
     "data": {
      "text/plain": [
       "['age', 'sex', 'bmi', 'bp', 's1', 's2', 's3', 's4', 's5', 's6']"
      ]
     },
     "execution_count": 9,
     "metadata": {},
     "output_type": "execute_result"
    }
   ],
   "source": [
    "diabetes.feature_names"
   ]
  },
  {
   "cell_type": "code",
   "execution_count": 10,
   "metadata": {},
   "outputs": [
    {
     "data": {
      "text/plain": [
       "array([[ 0.03807591,  0.05068012,  0.06169621,  0.02187235, -0.0442235 ,\n",
       "        -0.03482076, -0.04340085, -0.00259226,  0.01990842, -0.01764613],\n",
       "       [-0.00188202, -0.04464164, -0.05147406, -0.02632783, -0.00844872,\n",
       "        -0.01916334,  0.07441156, -0.03949338, -0.06832974, -0.09220405],\n",
       "       [ 0.08529891,  0.05068012,  0.04445121, -0.00567061, -0.04559945,\n",
       "        -0.03419447, -0.03235593, -0.00259226,  0.00286377, -0.02593034]])"
      ]
     },
     "execution_count": 10,
     "metadata": {},
     "output_type": "execute_result"
    }
   ],
   "source": [
    "# data 일부 보기 (0~2번 Sample)\n",
    "diabetes.data[0:3]\n"
   ]
  },
  {
   "cell_type": "code",
   "execution_count": 11,
   "metadata": {},
   "outputs": [
    {
     "data": {
      "text/plain": [
       "array([151.,  75., 141.])"
      ]
     },
     "execution_count": 11,
     "metadata": {},
     "output_type": "execute_result"
    }
   ],
   "source": [
    "# target의 일부 보기\n",
    "diabetes.target[:3]"
   ]
  },
  {
   "cell_type": "code",
   "execution_count": 13,
   "metadata": {},
   "outputs": [
    {
     "data": {
      "image/png": "[encoded data removed]",
      "text/plain": [
       "<Figure size 432x288 with 1 Axes>"
      ]
     },
     "metadata": {
      "needs_background": "light"
     },
     "output_type": "display_data"
    }
   ],
   "source": [
    "# 당뇨병 환자 데이터 시각화 하기 (data의 3번쨰 Feature와 Target)\n",
    "import matplotlib.pyplot as plt\n",
    "import warnings\n",
    "warnings.filterwarnings('ignore')\n",
    "plt.scatter(diabetes.data[:,3], diabetes.target)\n",
    "plt.xlabel('x')\n",
    "plt.xlabel('x')\n",
    "plt.show()"
   ]
  },
  {
   "cell_type": "code",
   "execution_count": 20,
   "metadata": {},
   "outputs": [
    {
     "data": {
      "text/plain": [
       "array([[1.        , 0.58645013],\n",
       "       [0.58645013, 1.        ]])"
      ]
     },
     "execution_count": 20,
     "metadata": {},
     "output_type": "execute_result"
    }
   ],
   "source": [
    "# 상관계수 알아보기\n",
    "import numpy as np\n",
    "\n",
    "np.corrcoef(diabetes.data[:,2],diabetes.target)\n",
    "#print(np.corrcoef(diabetes.data))\n"
   ]
  },
  {
   "cell_type": "markdown",
   "metadata": {},
   "source": [
    "---\n",
    "# 경사하강법\n",
    ": 경사하강법은 모델이 데이터를 잘 표현할 수 있도록 기울기(변화율)을 사용하여 모델을 조금씩 조정하는 최적화 알고리즘"
   ]
  },
  {
   "cell_type": "markdown",
   "metadata": {},
   "source": [
    "# 예측값과 변화율\n",
    "### 예측값 (y^)\n",
    "예측값은 하나의 모델에서 수식의 결과로 나온 값을 의미 합니다.\n",
    "\n",
    "### 훈련데이터에서 잘 맞는 w와 b를 찾는 방법\n",
    "1. 무작위로 w와 b를 정합니다.\n",
    "2. x에서 샘플하나를 선택하여 y^을 계산 합니다.\n",
    "3. y^과 선택한 샘플의 진짜 y를 비교합니다. (예측한 값과 정답 비교하기 : 오차 구하기)\n",
    "4. y^이 y와 가까워지도록 w,b를 조정합니다 (모델 조정하기 : 학습하기)\n",
    "5. 모든 샘플을 처리할 때까지 2)~4) 항목을 반복합니다. "
   ]
  },
  {
   "cell_type": "code",
   "execution_count": 22,
   "metadata": {},
   "outputs": [
    {
     "name": "stdout",
     "output_type": "stream",
     "text": [
      "[ 0.06169621 -0.05147406  0.04445121 -0.01159501 -0.03638469]\n",
      "[151.  75. 141. 206. 135.]\n"
     ]
    }
   ],
   "source": [
    "# 훈련데이터의 Feature와 Target 정하기\n",
    "\n",
    "x = diabetes.data[:,2]\n",
    "y = diabetes.target\n",
    "\n",
    "# 5개만 출력해보기\n",
    "print(x[:5])\n",
    "print(y[:5])"
   ]
  },
  {
   "cell_type": "code",
   "execution_count": 45,
   "metadata": {},
   "outputs": [],
   "source": [
    "# w와 b를 초기화 하기 : 무작위로 그냥 weight와 Bias를 1로 선택\n",
    "w = 1.0\n",
    "b = 1.0"
   ]
  },
  {
   "cell_type": "code",
   "execution_count": 46,
   "metadata": {},
   "outputs": [
    {
     "data": {
      "text/plain": [
       "1.0616962065186886"
      ]
     },
     "execution_count": 46,
     "metadata": {},
     "output_type": "execute_result"
    }
   ],
   "source": [
    "# 훈련데이터의 첫번째 Sample 데이터로 y^ 계산하기\n",
    "y_hat = x[0] * w + b\n",
    "y_hat"
   ]
  },
  {
   "cell_type": "code",
   "execution_count": 47,
   "metadata": {},
   "outputs": [
    {
     "name": "stdout",
     "output_type": "stream",
     "text": [
      "1.0616962065186886\n",
      "151.0\n"
     ]
    }
   ],
   "source": [
    "# Target 과 예측 데이터 비교하기\n",
    "print(y_hat)\n",
    "print(y[0])"
   ]
  },
  {
   "cell_type": "markdown",
   "metadata": {},
   "source": [
    "> 당연한 결과 지만 target과 예측값이 너무 많은 차이 발생"
   ]
  },
  {
   "cell_type": "markdown",
   "metadata": {},
   "source": [
    "### w값을 조절하기\n",
    ": w와 b를 조금씩 변경해서 y_hat이 증가하는지 감소하는지 살펴보기"
   ]
  },
  {
   "cell_type": "code",
   "execution_count": 48,
   "metadata": {},
   "outputs": [
    {
     "data": {
      "text/plain": [
       "1.0678658271705574"
      ]
     },
     "execution_count": 48,
     "metadata": {},
     "output_type": "execute_result"
    }
   ],
   "source": [
    "# 기존 w에 0.1만 증가해 보기\n",
    "w_inc = w + 0.1\n",
    "y_hat_inc = w_inc * x[0] + b\n",
    "y_hat_inc"
   ]
  },
  {
   "cell_type": "markdown",
   "metadata": {},
   "source": [
    "> y_hat보다 y_hat_inc가 조금 더 Target에 근접해짐"
   ]
  },
  {
   "cell_type": "code",
   "execution_count": 49,
   "metadata": {},
   "outputs": [
    {
     "data": {
      "text/plain": [
       "0.061696206518688734"
      ]
     },
     "execution_count": 49,
     "metadata": {},
     "output_type": "execute_result"
    }
   ],
   "source": [
    "# w값 조정한 후 예측값 정도 확인하기\n",
    "# w가 0.1증가 했을 떄 y_hat이 얼마나 증가했는지 계산해보기 (변화율 확인하기)\n",
    "w_rate = (y_hat_inc - y_hat) / (w_inc - w )\n",
    "w_rate"
   ]
  },
  {
   "cell_type": "markdown",
   "metadata": {},
   "source": [
    "> w_rate(변화율)이 x[0]의 값이 동일하다. *****"
   ]
  },
  {
   "cell_type": "code",
   "execution_count": 56,
   "metadata": {},
   "outputs": [
    {
     "data": {
      "text/plain": [
       "0.06169620651868769"
      ]
     },
     "execution_count": 56,
     "metadata": {},
     "output_type": "execute_result"
    }
   ],
   "source": [
    "# 0.1로 하여서 그런가 ? 0.2로 바꾸어서 계산해보자.\n",
    "w_inc = w + 0.2\n",
    "y_hat_inc = w_inc * x[0] + b\n",
    "w_rate = (y_hat_inc - y_hat) / (w_inc - w )\n",
    "w_rate"
   ]
  },
  {
   "cell_type": "code",
   "execution_count": 57,
   "metadata": {},
   "outputs": [
    {
     "data": {
      "text/plain": [
       "-0.05147406123880644"
      ]
     },
     "execution_count": 57,
     "metadata": {},
     "output_type": "execute_result"
    }
   ],
   "source": [
    "# 훈련데이터 2로 해보자 \n",
    "w_inc = w + 0.1\n",
    "y_hat = x[1] * w + b\n",
    "y_hat_inc = w_inc * x[1] + b\n",
    "w_rate = (y_hat_inc - y_hat) / (w_inc - w )\n",
    "w_rate # 그레디언트 "
   ]
  },
  {
   "cell_type": "code",
   "execution_count": 62,
   "metadata": {},
   "outputs": [
    {
     "data": {
      "text/plain": [
       "0.061696206518688734"
      ]
     },
     "execution_count": 62,
     "metadata": {},
     "output_type": "execute_result"
    }
   ],
   "source": [
    "# 변화율에 대한 증명이 끝났으니 다시 훈련데이터의 1번째 갑으로 변화율을 구해보자\n",
    "\n",
    "w = b =1 \n",
    "y_hat = x[0] * w + b\n",
    "w_inc = w + 0.1\n",
    "y_hat_inc = w_inc * x[0] + b\n",
    "w_rate = (y_hat_inc - y_hat) / (w_inc - w)\n",
    "w_rate"
   ]
  },
  {
   "cell_type": "code",
   "execution_count": 63,
   "metadata": {},
   "outputs": [
    {
     "data": {
      "text/plain": [
       "1.0616962065186888"
      ]
     },
     "execution_count": 63,
     "metadata": {},
     "output_type": "execute_result"
    }
   ],
   "source": [
    "# 변화율로 가중치를 업데이트 하기 <- 학습하기\n",
    "w_new = w + w_rate\n",
    "w_new"
   ]
  },
  {
   "cell_type": "code",
   "execution_count": 68,
   "metadata": {},
   "outputs": [
    {
     "name": "stdout",
     "output_type": "stream",
     "text": [
      "1.1616962065186887\n",
      "1.0\n"
     ]
    }
   ],
   "source": [
    "# 변화율로 절편 업데이트 하기 <- 학습하기\n",
    "b_inc = b + 0.1\n",
    "y_hat_inc = x[0]*w + b_inc\n",
    "print(y_hat_inc)\n",
    "\n",
    "b_rate = (y_hat_inc - y_hat) / (b_inc - b)\n",
    "print(b_rate)"
   ]
  },
  {
   "cell_type": "code",
   "execution_count": 69,
   "metadata": {},
   "outputs": [
    {
     "data": {
      "text/plain": [
       "2"
      ]
     },
     "execution_count": 69,
     "metadata": {},
     "output_type": "execute_result"
    }
   ],
   "source": [
    "b_new = b + 1\n",
    "b_new"
   ]
  },
  {
   "cell_type": "code",
   "execution_count": 70,
   "metadata": {},
   "outputs": [
    {
     "name": "stdout",
     "output_type": "stream",
     "text": [
      "10.250624555904514 150.9383037934813\n"
     ]
    }
   ],
   "source": [
    "# (필기)오차율(오차역전파) 또는 딥러닝에서는 Learning_rate 는 다음 학습간격인 델타 x의 크기 를 말함\n",
    "# 오차 연전파로 가중치와 절편을 업데이트 합니다. -> 손실함수(비율함수)를 구성합니다.\n",
    "# 오차 역전파(backpropagation)는 y^과 y의 차이를 이용하여 w와 b를 업데이트 합니다.\n",
    "# 오차와 변화율을 곱하여 가중치 업데이트 하기\n",
    "\n",
    "err = y[0] - y_hat\n",
    "w_new = w + w_rate * err\n",
    "b_new = b + b_rate * err\n",
    "print(w_new, b_new)\n",
    "\n",
    "\n"
   ]
  },
  {
   "cell_type": "code",
   "execution_count": 73,
   "metadata": {},
   "outputs": [
    {
     "name": "stdout",
     "output_type": "stream",
     "text": [
      "-550.0723689440274 77.04814147996149\n"
     ]
    }
   ],
   "source": [
    "# 2번째 쌤플 x[1]을 사용하여 오차를 구하고 새로운 w와 b를 구하기\n",
    "y_hat = w_new * x[1] + b_new\n",
    "err = y[1] - y_hat\n",
    "w_rate = x[1]\n",
    "w_new = w_new + w_rate * err\n",
    "b_new = b_new + 1 * err # b_rate가 1이라 그냥 1 씀\n",
    "print(w_new,b_new)"
   ]
  },
  {
   "cell_type": "code",
   "execution_count": 74,
   "metadata": {},
   "outputs": [
    {
     "name": "stdout",
     "output_type": "stream",
     "text": [
      "587.8654539985689 99.40935564531424\n"
     ]
    }
   ],
   "source": [
    "# 반복문을 통한 전체 샘플을 반복하기\n",
    "w=b=1\n",
    "for x_i,y_i in zip(x,y):\n",
    "    y_hat = x_i * w + b\n",
    "    err = y_i - y_hat\n",
    "    w_rate = x_i\n",
    "    \n",
    "    w = w + w_rate * err\n",
    "    b = b + 1 * err\n",
    "\n",
    "print(w,b)"
   ]
  },
  {
   "cell_type": "code",
   "execution_count": 84,
   "metadata": {},
   "outputs": [
    {
     "data": {
      "image/png": "[encoded data removed]",
      "text/plain": [
       "<Figure size 432x288 with 1 Axes>"
      ]
     },
     "metadata": {
      "needs_background": "light"
     },
     "output_type": "display_data"
    }
   ],
   "source": [
    "# 그래프로 확인해 보자\n",
    "plt.scatter(x,y)\n",
    "pt1 = (-0.1 , -0.1 * w + b)\n",
    "pt2 = (0.15 , 0.15 * w + b)\n",
    "plt.plot([pt1[0],pt2[0]],[pt1[1],pt2[1]],'r')\n",
    "plt.xlabel('x')\n",
    "plt.ylabel('y')\n",
    "plt.show()"
   ]
  },
  {
   "cell_type": "code",
   "execution_count": 85,
   "metadata": {},
   "outputs": [
    {
     "name": "stdout",
     "output_type": "stream",
     "text": [
      "913.5973364345905 123.39414383177204\n"
     ]
    }
   ],
   "source": [
    "# Epoch로 반복하기 : w의 b를 반복적으로 계산해보기\n",
    "w=b=1\n",
    "for _ in range(100):\n",
    "    for x_i,y_i in zip(x,y):\n",
    "        y_hat = x_i * w + b\n",
    "        err = y_i - y_hat\n",
    "        w_rate = x_i\n",
    "        \n",
    "        w = w + w_rate * err\n",
    "        b = b + 1 * err\n",
    "\n",
    "print(w,b)"
   ]
  },
  {
   "cell_type": "code",
   "execution_count": 92,
   "metadata": {},
   "outputs": [
    {
     "data": {
      "image/png": "[encoded data removed]",
      "text/plain": [
       "<Figure size 432x288 with 1 Axes>"
      ]
     },
     "metadata": {
      "needs_background": "light"
     },
     "output_type": "display_data"
    }
   ],
   "source": [
    "# 그래프로 확인해 보자\n",
    "plt.scatter(x,y)\n",
    "plt.scatter(x[-1],y[-1])\n",
    "pt1 = (-0.1 , -0.1 * w + b)\n",
    "pt2 = (0.15 , 0.15 * w + b)\n",
    "plt.plot([pt1[0],pt2[0]],[pt1[1],pt2[1]],'r')\n",
    "\n",
    "plt.xlabel('x')\n",
    "plt.ylabel('y')\n",
    "plt.show()"
   ]
  },
  {
   "cell_type": "markdown",
   "metadata": {},
   "source": [
    "> y_ = 913.6X  + 123.4"
   ]
  },
  {
   "cell_type": "code",
   "execution_count": 88,
   "metadata": {},
   "outputs": [
    {
     "data": {
      "text/plain": [
       "287.8416643899983"
      ]
     },
     "execution_count": 88,
     "metadata": {},
     "output_type": "execute_result"
    }
   ],
   "source": [
    "# 모델로 예측해 보기\n",
    "x_new = 0.18\n",
    "y_pred = x_new * w + b\n",
    "y_pred"
   ]
  },
  {
   "cell_type": "code",
   "execution_count": 94,
   "metadata": {},
   "outputs": [
    {
     "data": {
      "image/png": "[encoded data removed]",
      "text/plain": [
       "<Figure size 432x288 with 1 Axes>"
      ]
     },
     "metadata": {
      "needs_background": "light"
     },
     "output_type": "display_data"
    }
   ],
   "source": [
    "plt.scatter(x,y)\n",
    "plt.scatter(x_new,y_pred)\n",
    "plt.scatter(x[-1],y[-1], c = 'red')\n",
    "plt.show()"
   ]
  },
  {
   "cell_type": "markdown",
   "metadata": {},
   "source": [
    "---\n",
    "# 모델 만들기 정리\n",
    "1. w와 b를 임의의 값(1,1)로 초기화 하고 훈련데이터의 샘플을 하나씩 대입하여 y와 y^의 오차를 구한다.\n",
    "2. 1에서 구한 오차를 w와 b의 변화율에 곱하고 이 값을 이용하여 w와 b를 업데이트 한다.\n",
    "3. 만약 y^이 y보다 커지는 오차는 음수가 되어 자동으로 w와 b가 줄어드는 방향으로 업데이트가 된다.\n",
    "4. 반대로 y^이 y보다 오차는 양수가 되어 w와 b는 더 커지도록 업데이트가 된다."
   ]
  },
  {
   "cell_type": "markdown",
   "metadata": {},
   "source": [
    "# 선형 회귀 위한 Class 만들기"
   ]
  },
  {
   "cell_type": "code",
   "execution_count": 101,
   "metadata": {},
   "outputs": [],
   "source": [
    "class LRModel:\n",
    "    # 초기화 작업\n",
    "    def __init__(self):\n",
    "        self.w = 1.0 # 가중치를 초기화\n",
    "        self.b = 1.0 # 절편을 초기화\n",
    "    \n",
    "    # 정방향 계산\n",
    "    def forpass(self, x):\n",
    "        y_hat = x * self.w + self.b\n",
    "        return y_hat\n",
    "    \n",
    "    # 역방향 계싼\n",
    "    def backprop(self, x, err):\n",
    "        w_grad = x * err # 가중치에 대한 그레디언트를 계산\n",
    "        b_grad = 1 * err # 절편에 대한 그레디언트를 계산\n",
    "        return w_grad, b_grad\n",
    "    \n",
    "    # 훈련\n",
    "    def fit(self, x, y, epoch):\n",
    "        for _ in range(epoch):\n",
    "            for x_i,y_i in (zip(x,y)):\n",
    "                y_hat = self.forpass(x_i)\n",
    "                err = (y_i - y_hat) \n",
    "                w_grad, b_grad = self.backprop(x_i,err)\n",
    "                self.w += w_grad\n",
    "                self.b += b_grad\n",
    "        return self.w, self.b\n",
    "    "
   ]
  },
  {
   "cell_type": "code",
   "execution_count": null,
   "metadata": {},
   "outputs": [],
   "source": []
  },
  {
   "cell_type": "code",
   "execution_count": 102,
   "metadata": {},
   "outputs": [
    {
     "name": "stdout",
     "output_type": "stream",
     "text": [
      "913.5973364345905 123.39414383177204\n"
     ]
    }
   ],
   "source": [
    "lrmodel = LRModel()\n",
    "w, b = lrmodel.fit(x,y,100)\n",
    "print(w,b)"
   ]
  },
  {
   "cell_type": "code",
   "execution_count": 103,
   "metadata": {},
   "outputs": [
    {
     "data": {
      "image/png": "[encoded data removed]",
      "text/plain": [
       "<Figure size 432x288 with 1 Axes>"
      ]
     },
     "metadata": {
      "needs_background": "light"
     },
     "output_type": "display_data"
    }
   ],
   "source": [
    "# 그래프로 확인해 보자\n",
    "plt.scatter(x,y)\n",
    "plt.scatter(x[-1],y[-1])\n",
    "pt1 = (-0.1 , -0.1 * w + b)\n",
    "pt2 = (0.15 , 0.15 * w + b)\n",
    "plt.plot([pt1[0],pt2[0]],[pt1[1],pt2[1]],'r')\n",
    "\n",
    "plt.xlabel('x')\n",
    "plt.ylabel('y')\n",
    "plt.show()"
   ]
  },
  {
   "cell_type": "markdown",
   "metadata": {},
   "source": [
    "---\n",
    "# 용어 정리\n",
    "### 선형 회귀\n",
    "선형방정식을 사용하여 연속적인 값을 예측하는 알고리즘으로 데이터를 가장 잘 표현하는 방정식의 계수를 구할 수 있습니다.  \n",
    "머신러닝 알고리즘 이지만 딥러닝에서 사용하는 인공신경망 알고리즘의 기초가 됩니다.  \n",
    "\n",
    "### 경사 하강법\n",
    "최적화 알고리즘 중의 하나로 핵심 훈련 알고리즘 입니다.  \n",
    "이 방법은 최적의 모델을 만드는 가중치를 한번에 찾지 않습니다.  \n",
    "먼저 임의로 정한 가중치에서 출력을 만든 후 타깃과 비교하여 오차를 줄이는 방향으로 가중치를 조정합니다.  \n",
    "이런 과정의 모든 훈련샘플에 대해서 반복하면서 최적의 가중치를 찾습니다.  \n",
    "\n",
    "### 손실 함수\n",
    "모델이 얼마만큼의 오류가 있는 지 측정하는 기준 입니다.  \n",
    "손실함수의 값을 최소로 만드는 것이 이 모델 훈련의 목적 입니다.  \n",
    "다른 말로는 비용함수 또는 목적함수라고도 부릅니다.  \n"
   ]
  },
  {
   "cell_type": "code",
   "execution_count": null,
   "metadata": {},
   "outputs": [],
   "source": []
  },
  {
   "cell_type": "code",
   "execution_count": null,
   "metadata": {},
   "outputs": [],
   "source": []
  },
  {
   "cell_type": "markdown",
   "metadata": {},
   "source": [
    "---\n",
    "# 낙서장"
   ]
  },
  {
   "cell_type": "code",
   "execution_count": 104,
   "metadata": {},
   "outputs": [],
   "source": [
    "x2 = x.copy()\n",
    "y2 = y.copy()"
   ]
  },
  {
   "cell_type": "code",
   "execution_count": 105,
   "metadata": {},
   "outputs": [],
   "source": [
    "err = (x*w + b - y)"
   ]
  },
  {
   "cell_type": "code",
   "execution_count": 111,
   "metadata": {},
   "outputs": [],
   "source": [
    "err_li=list(err)\n",
    "\n",
    "err_maxindex = err_li.index(err.max())\n"
   ]
  },
  {
   "cell_type": "code",
   "execution_count": null,
   "metadata": {},
   "outputs": [],
   "source": []
  },
  {
   "cell_type": "code",
   "execution_count": null,
   "metadata": {},
   "outputs": [],
   "source": []
  },
  {
   "cell_type": "code",
   "execution_count": 76,
   "metadata": {},
   "outputs": [
    {
     "data": {
      "text/plain": [
       "(442,)"
      ]
     },
     "execution_count": 76,
     "metadata": {},
     "output_type": "execute_result"
    }
   ],
   "source": [
    "x.shape"
   ]
  },
  {
   "cell_type": "code",
   "execution_count": 80,
   "metadata": {},
   "outputs": [
    {
     "ename": "ValueError",
     "evalue": "Expected 2D array, got 1D array instead:\narray=[ 0.06169621 -0.05147406  0.04445121 -0.01159501 -0.03638469 -0.04069594\n -0.04716281 -0.00189471  0.06169621  0.03906215 -0.08380842  0.01750591\n -0.02884001 -0.00189471 -0.02560657 -0.01806189  0.04229559  0.01211685\n -0.0105172  -0.01806189 -0.05686312 -0.02237314 -0.00405033  0.06061839\n  0.03582872 -0.01267283 -0.07734155  0.05954058 -0.02129532 -0.00620595\n  0.04445121 -0.06548562  0.12528712 -0.05039625 -0.06332999 -0.03099563\n  0.02289497  0.01103904  0.07139652  0.01427248 -0.00836158 -0.06764124\n -0.0105172  -0.02345095  0.06816308 -0.03530688 -0.01159501 -0.0730303\n -0.04177375  0.01427248 -0.00728377  0.0164281  -0.00943939 -0.01590626\n  0.0250506  -0.04931844  0.04121778 -0.06332999 -0.06440781 -0.02560657\n -0.00405033  0.00457217 -0.00728377 -0.0374625  -0.02560657 -0.02452876\n -0.01806189 -0.01482845 -0.02991782 -0.046085   -0.06979687  0.03367309\n -0.00405033 -0.02021751  0.00241654 -0.03099563  0.02828403 -0.03638469\n -0.05794093 -0.0374625   0.01211685 -0.02237314 -0.03530688  0.00996123\n -0.03961813  0.07139652 -0.07518593 -0.00620595 -0.04069594 -0.04824063\n -0.02560657  0.0519959   0.00457217 -0.06440781 -0.01698407 -0.05794093\n  0.00996123  0.08864151 -0.00512814 -0.06440781  0.01750591 -0.04500719\n  0.02828403  0.04121778  0.06492964 -0.03207344 -0.07626374  0.04984027\n  0.04552903 -0.00943939 -0.03207344  0.00457217  0.02073935  0.01427248\n  0.11019775  0.00133873  0.05846277 -0.02129532 -0.0105172  -0.04716281\n  0.00457217  0.01750591  0.08109682  0.0347509   0.02397278 -0.00836158\n -0.06117437 -0.00189471 -0.06225218  0.0164281   0.09618619 -0.06979687\n -0.02129532 -0.05362969  0.0433734   0.05630715 -0.0816528   0.04984027\n  0.11127556  0.06169621  0.01427248  0.04768465  0.01211685  0.00564998\n  0.04660684  0.12852056  0.05954058  0.09295276  0.01535029 -0.00512814\n  0.0703187  -0.00405033 -0.00081689 -0.04392938  0.02073935  0.06061839\n -0.0105172  -0.03315126 -0.06548562  0.0433734  -0.06225218  0.06385183\n  0.03043966  0.07247433 -0.0191397  -0.06656343 -0.06009656  0.06924089\n  0.05954058 -0.02668438 -0.02021751 -0.046085    0.07139652 -0.07949718\n  0.00996123 -0.03854032  0.01966154  0.02720622 -0.00836158 -0.01590626\n  0.00457217 -0.04285156  0.00564998 -0.03530688  0.02397278 -0.01806189\n  0.04229559 -0.0547075  -0.00297252 -0.06656343 -0.01267283 -0.04177375\n -0.03099563 -0.00512814 -0.05901875  0.0250506  -0.046085    0.00349435\n  0.05415152 -0.04500719 -0.05794093 -0.05578531  0.00133873  0.03043966\n  0.00672779  0.04660684  0.02612841  0.04552903  0.04013997 -0.01806189\n  0.01427248  0.03690653  0.00349435 -0.07087468 -0.03315126  0.09403057\n  0.03582872  0.03151747 -0.06548562 -0.04177375 -0.03961813 -0.03854032\n -0.02560657 -0.02345095 -0.06656343  0.03259528 -0.046085   -0.02991782\n -0.01267283 -0.01590626  0.07139652 -0.03099563  0.00026092  0.03690653\n  0.03906215 -0.01482845  0.00672779 -0.06871905 -0.00943939  0.01966154\n  0.07462995 -0.00836158 -0.02345095 -0.046085    0.05415152 -0.03530688\n -0.03207344 -0.0816528   0.04768465  0.06061839  0.05630715  0.09834182\n  0.05954058  0.03367309  0.05630715 -0.06548562  0.16085492 -0.05578531\n -0.02452876 -0.03638469 -0.00836158 -0.04177375  0.12744274 -0.07734155\n  0.02828403 -0.02560657 -0.06225218 -0.00081689  0.08864151 -0.03207344\n  0.03043966  0.00888341  0.00672779 -0.02021751 -0.02452876 -0.01159501\n  0.02612841 -0.05901875 -0.03638469 -0.02452876  0.01858372 -0.0902753\n -0.00512814 -0.05255187 -0.02237314 -0.02021751 -0.0547075  -0.00620595\n -0.01698407  0.05522933  0.07678558  0.01858372 -0.02237314  0.09295276\n -0.03099563  0.03906215 -0.06117437 -0.00836158 -0.0374625  -0.01375064\n  0.07355214 -0.02452876  0.03367309  0.0347509  -0.03854032 -0.03961813\n -0.00189471 -0.03099563 -0.046085    0.00133873  0.06492964  0.04013997\n -0.02345095  0.05307371  0.04013997 -0.02021751  0.01427248 -0.03422907\n  0.00672779  0.00457217  0.03043966  0.0519959   0.06169621 -0.00728377\n  0.00564998  0.05415152 -0.00836158  0.114509    0.06708527 -0.05578531\n  0.03043966 -0.02560657  0.10480869 -0.00620595 -0.04716281 -0.04824063\n  0.08540807 -0.01267283 -0.03315126 -0.00728377 -0.01375064  0.05954058\n  0.02181716  0.01858372 -0.01159501 -0.00297252  0.01750591 -0.02991782\n -0.02021751 -0.05794093  0.06061839 -0.04069594 -0.07195249 -0.05578531\n  0.04552903 -0.00943939 -0.03315126  0.04984027 -0.08488624  0.00564998\n  0.02073935 -0.00728377  0.10480869 -0.02452876 -0.00620595 -0.03854032\n  0.13714305  0.17055523  0.00241654  0.03798434 -0.05794093 -0.00943939\n -0.02345095 -0.0105172  -0.03422907 -0.00297252  0.06816308  0.00996123\n  0.00241654 -0.03854032  0.02612841 -0.08919748  0.06061839 -0.02884001\n -0.02991782 -0.0191397  -0.04069594  0.01535029 -0.02452876  0.00133873\n  0.06924089 -0.06979687 -0.02991782 -0.046085    0.01858372  0.00133873\n -0.03099563 -0.00405033  0.01535029  0.02289497  0.04552903 -0.04500719\n -0.03315126  0.097264    0.05415152  0.12313149 -0.08057499  0.09295276\n -0.05039625 -0.01159501 -0.0277622   0.05846277  0.08540807 -0.00081689\n  0.00672779  0.00888341  0.08001901  0.07139652 -0.02452876 -0.0547075\n -0.03638469  0.0164281   0.07786339 -0.03961813  0.01103904 -0.04069594\n -0.03422907  0.00564998  0.08864151 -0.03315126 -0.05686312 -0.03099563\n  0.05522933 -0.06009656  0.00133873 -0.02345095 -0.07410811  0.01966154\n -0.01590626 -0.01590626  0.03906215 -0.0730303 ].\nReshape your data either using array.reshape(-1, 1) if your data has a single feature or array.reshape(1, -1) if it contains a single sample.",
     "output_type": "error",
     "traceback": [
      "\u001b[0;31m---------------------------------------------------------------------------\u001b[0m",
      "\u001b[0;31mValueError\u001b[0m                                Traceback (most recent call last)",
      "\u001b[0;32m/var/folders/r9/905wglgd76v1f_n1q9jw68rr0000gn/T/ipykernel_1595/1839338734.py\u001b[0m in \u001b[0;36m<module>\u001b[0;34m\u001b[0m\n\u001b[1;32m      1\u001b[0m \u001b[0;32mfrom\u001b[0m \u001b[0msklearn\u001b[0m\u001b[0;34m.\u001b[0m\u001b[0mlinear_model\u001b[0m \u001b[0;32mimport\u001b[0m \u001b[0mLinearRegression\u001b[0m\u001b[0;34m\u001b[0m\u001b[0;34m\u001b[0m\u001b[0m\n\u001b[1;32m      2\u001b[0m \u001b[0mlr\u001b[0m \u001b[0;34m=\u001b[0m \u001b[0mLinearRegression\u001b[0m\u001b[0;34m(\u001b[0m\u001b[0;34m)\u001b[0m\u001b[0;34m\u001b[0m\u001b[0;34m\u001b[0m\u001b[0m\n\u001b[0;32m----> 3\u001b[0;31m \u001b[0mlr\u001b[0m\u001b[0;34m.\u001b[0m\u001b[0mfit\u001b[0m\u001b[0;34m(\u001b[0m\u001b[0mx\u001b[0m\u001b[0;34m,\u001b[0m\u001b[0my\u001b[0m\u001b[0;34m.\u001b[0m\u001b[0mreshape\u001b[0m\u001b[0;34m(\u001b[0m\u001b[0;36m1\u001b[0m\u001b[0;34m,\u001b[0m\u001b[0;34m-\u001b[0m\u001b[0;36m1\u001b[0m\u001b[0;34m)\u001b[0m\u001b[0;34m)\u001b[0m\u001b[0;34m\u001b[0m\u001b[0;34m\u001b[0m\u001b[0m\n\u001b[0m",
      "\u001b[0;32m~/opt/anaconda3/lib/python3.9/site-packages/sklearn/linear_model/_base.py\u001b[0m in \u001b[0;36mfit\u001b[0;34m(self, X, y, sample_weight)\u001b[0m\n\u001b[1;32m    516\u001b[0m         \u001b[0maccept_sparse\u001b[0m \u001b[0;34m=\u001b[0m \u001b[0;32mFalse\u001b[0m \u001b[0;32mif\u001b[0m \u001b[0mself\u001b[0m\u001b[0;34m.\u001b[0m\u001b[0mpositive\u001b[0m \u001b[0;32melse\u001b[0m \u001b[0;34m[\u001b[0m\u001b[0;34m'csr'\u001b[0m\u001b[0;34m,\u001b[0m \u001b[0;34m'csc'\u001b[0m\u001b[0;34m,\u001b[0m \u001b[0;34m'coo'\u001b[0m\u001b[0;34m]\u001b[0m\u001b[0;34m\u001b[0m\u001b[0;34m\u001b[0m\u001b[0m\n\u001b[1;32m    517\u001b[0m \u001b[0;34m\u001b[0m\u001b[0m\n\u001b[0;32m--> 518\u001b[0;31m         X, y = self._validate_data(X, y, accept_sparse=accept_sparse,\n\u001b[0m\u001b[1;32m    519\u001b[0m                                    y_numeric=True, multi_output=True)\n\u001b[1;32m    520\u001b[0m \u001b[0;34m\u001b[0m\u001b[0m\n",
      "\u001b[0;32m~/opt/anaconda3/lib/python3.9/site-packages/sklearn/base.py\u001b[0m in \u001b[0;36m_validate_data\u001b[0;34m(self, X, y, reset, validate_separately, **check_params)\u001b[0m\n\u001b[1;32m    431\u001b[0m                 \u001b[0my\u001b[0m \u001b[0;34m=\u001b[0m \u001b[0mcheck_array\u001b[0m\u001b[0;34m(\u001b[0m\u001b[0my\u001b[0m\u001b[0;34m,\u001b[0m \u001b[0;34m**\u001b[0m\u001b[0mcheck_y_params\u001b[0m\u001b[0;34m)\u001b[0m\u001b[0;34m\u001b[0m\u001b[0;34m\u001b[0m\u001b[0m\n\u001b[1;32m    432\u001b[0m             \u001b[0;32melse\u001b[0m\u001b[0;34m:\u001b[0m\u001b[0;34m\u001b[0m\u001b[0;34m\u001b[0m\u001b[0m\n\u001b[0;32m--> 433\u001b[0;31m                 \u001b[0mX\u001b[0m\u001b[0;34m,\u001b[0m \u001b[0my\u001b[0m \u001b[0;34m=\u001b[0m \u001b[0mcheck_X_y\u001b[0m\u001b[0;34m(\u001b[0m\u001b[0mX\u001b[0m\u001b[0;34m,\u001b[0m \u001b[0my\u001b[0m\u001b[0;34m,\u001b[0m \u001b[0;34m**\u001b[0m\u001b[0mcheck_params\u001b[0m\u001b[0;34m)\u001b[0m\u001b[0;34m\u001b[0m\u001b[0;34m\u001b[0m\u001b[0m\n\u001b[0m\u001b[1;32m    434\u001b[0m             \u001b[0mout\u001b[0m \u001b[0;34m=\u001b[0m \u001b[0mX\u001b[0m\u001b[0;34m,\u001b[0m \u001b[0my\u001b[0m\u001b[0;34m\u001b[0m\u001b[0;34m\u001b[0m\u001b[0m\n\u001b[1;32m    435\u001b[0m \u001b[0;34m\u001b[0m\u001b[0m\n",
      "\u001b[0;32m~/opt/anaconda3/lib/python3.9/site-packages/sklearn/utils/validation.py\u001b[0m in \u001b[0;36minner_f\u001b[0;34m(*args, **kwargs)\u001b[0m\n\u001b[1;32m     61\u001b[0m             \u001b[0mextra_args\u001b[0m \u001b[0;34m=\u001b[0m \u001b[0mlen\u001b[0m\u001b[0;34m(\u001b[0m\u001b[0margs\u001b[0m\u001b[0;34m)\u001b[0m \u001b[0;34m-\u001b[0m \u001b[0mlen\u001b[0m\u001b[0;34m(\u001b[0m\u001b[0mall_args\u001b[0m\u001b[0;34m)\u001b[0m\u001b[0;34m\u001b[0m\u001b[0;34m\u001b[0m\u001b[0m\n\u001b[1;32m     62\u001b[0m             \u001b[0;32mif\u001b[0m \u001b[0mextra_args\u001b[0m \u001b[0;34m<=\u001b[0m \u001b[0;36m0\u001b[0m\u001b[0;34m:\u001b[0m\u001b[0;34m\u001b[0m\u001b[0;34m\u001b[0m\u001b[0m\n\u001b[0;32m---> 63\u001b[0;31m                 \u001b[0;32mreturn\u001b[0m \u001b[0mf\u001b[0m\u001b[0;34m(\u001b[0m\u001b[0;34m*\u001b[0m\u001b[0margs\u001b[0m\u001b[0;34m,\u001b[0m \u001b[0;34m**\u001b[0m\u001b[0mkwargs\u001b[0m\u001b[0;34m)\u001b[0m\u001b[0;34m\u001b[0m\u001b[0;34m\u001b[0m\u001b[0m\n\u001b[0m\u001b[1;32m     64\u001b[0m \u001b[0;34m\u001b[0m\u001b[0m\n\u001b[1;32m     65\u001b[0m             \u001b[0;31m# extra_args > 0\u001b[0m\u001b[0;34m\u001b[0m\u001b[0;34m\u001b[0m\u001b[0m\n",
      "\u001b[0;32m~/opt/anaconda3/lib/python3.9/site-packages/sklearn/utils/validation.py\u001b[0m in \u001b[0;36mcheck_X_y\u001b[0;34m(X, y, accept_sparse, accept_large_sparse, dtype, order, copy, force_all_finite, ensure_2d, allow_nd, multi_output, ensure_min_samples, ensure_min_features, y_numeric, estimator)\u001b[0m\n\u001b[1;32m    869\u001b[0m         \u001b[0;32mraise\u001b[0m \u001b[0mValueError\u001b[0m\u001b[0;34m(\u001b[0m\u001b[0;34m\"y cannot be None\"\u001b[0m\u001b[0;34m)\u001b[0m\u001b[0;34m\u001b[0m\u001b[0;34m\u001b[0m\u001b[0m\n\u001b[1;32m    870\u001b[0m \u001b[0;34m\u001b[0m\u001b[0m\n\u001b[0;32m--> 871\u001b[0;31m     X = check_array(X, accept_sparse=accept_sparse,\n\u001b[0m\u001b[1;32m    872\u001b[0m                     \u001b[0maccept_large_sparse\u001b[0m\u001b[0;34m=\u001b[0m\u001b[0maccept_large_sparse\u001b[0m\u001b[0;34m,\u001b[0m\u001b[0;34m\u001b[0m\u001b[0;34m\u001b[0m\u001b[0m\n\u001b[1;32m    873\u001b[0m                     \u001b[0mdtype\u001b[0m\u001b[0;34m=\u001b[0m\u001b[0mdtype\u001b[0m\u001b[0;34m,\u001b[0m \u001b[0morder\u001b[0m\u001b[0;34m=\u001b[0m\u001b[0morder\u001b[0m\u001b[0;34m,\u001b[0m \u001b[0mcopy\u001b[0m\u001b[0;34m=\u001b[0m\u001b[0mcopy\u001b[0m\u001b[0;34m,\u001b[0m\u001b[0;34m\u001b[0m\u001b[0;34m\u001b[0m\u001b[0m\n",
      "\u001b[0;32m~/opt/anaconda3/lib/python3.9/site-packages/sklearn/utils/validation.py\u001b[0m in \u001b[0;36minner_f\u001b[0;34m(*args, **kwargs)\u001b[0m\n\u001b[1;32m     61\u001b[0m             \u001b[0mextra_args\u001b[0m \u001b[0;34m=\u001b[0m \u001b[0mlen\u001b[0m\u001b[0;34m(\u001b[0m\u001b[0margs\u001b[0m\u001b[0;34m)\u001b[0m \u001b[0;34m-\u001b[0m \u001b[0mlen\u001b[0m\u001b[0;34m(\u001b[0m\u001b[0mall_args\u001b[0m\u001b[0;34m)\u001b[0m\u001b[0;34m\u001b[0m\u001b[0;34m\u001b[0m\u001b[0m\n\u001b[1;32m     62\u001b[0m             \u001b[0;32mif\u001b[0m \u001b[0mextra_args\u001b[0m \u001b[0;34m<=\u001b[0m \u001b[0;36m0\u001b[0m\u001b[0;34m:\u001b[0m\u001b[0;34m\u001b[0m\u001b[0;34m\u001b[0m\u001b[0m\n\u001b[0;32m---> 63\u001b[0;31m                 \u001b[0;32mreturn\u001b[0m \u001b[0mf\u001b[0m\u001b[0;34m(\u001b[0m\u001b[0;34m*\u001b[0m\u001b[0margs\u001b[0m\u001b[0;34m,\u001b[0m \u001b[0;34m**\u001b[0m\u001b[0mkwargs\u001b[0m\u001b[0;34m)\u001b[0m\u001b[0;34m\u001b[0m\u001b[0;34m\u001b[0m\u001b[0m\n\u001b[0m\u001b[1;32m     64\u001b[0m \u001b[0;34m\u001b[0m\u001b[0m\n\u001b[1;32m     65\u001b[0m             \u001b[0;31m# extra_args > 0\u001b[0m\u001b[0;34m\u001b[0m\u001b[0;34m\u001b[0m\u001b[0m\n",
      "\u001b[0;32m~/opt/anaconda3/lib/python3.9/site-packages/sklearn/utils/validation.py\u001b[0m in \u001b[0;36mcheck_array\u001b[0;34m(array, accept_sparse, accept_large_sparse, dtype, order, copy, force_all_finite, ensure_2d, allow_nd, ensure_min_samples, ensure_min_features, estimator)\u001b[0m\n\u001b[1;32m    692\u001b[0m             \u001b[0;31m# If input is 1D raise error\u001b[0m\u001b[0;34m\u001b[0m\u001b[0;34m\u001b[0m\u001b[0m\n\u001b[1;32m    693\u001b[0m             \u001b[0;32mif\u001b[0m \u001b[0marray\u001b[0m\u001b[0;34m.\u001b[0m\u001b[0mndim\u001b[0m \u001b[0;34m==\u001b[0m \u001b[0;36m1\u001b[0m\u001b[0;34m:\u001b[0m\u001b[0;34m\u001b[0m\u001b[0;34m\u001b[0m\u001b[0m\n\u001b[0;32m--> 694\u001b[0;31m                 raise ValueError(\n\u001b[0m\u001b[1;32m    695\u001b[0m                     \u001b[0;34m\"Expected 2D array, got 1D array instead:\\narray={}.\\n\"\u001b[0m\u001b[0;34m\u001b[0m\u001b[0;34m\u001b[0m\u001b[0m\n\u001b[1;32m    696\u001b[0m                     \u001b[0;34m\"Reshape your data either using array.reshape(-1, 1) if \"\u001b[0m\u001b[0;34m\u001b[0m\u001b[0;34m\u001b[0m\u001b[0m\n",
      "\u001b[0;31mValueError\u001b[0m: Expected 2D array, got 1D array instead:\narray=[ 0.06169621 -0.05147406  0.04445121 -0.01159501 -0.03638469 -0.04069594\n -0.04716281 -0.00189471  0.06169621  0.03906215 -0.08380842  0.01750591\n -0.02884001 -0.00189471 -0.02560657 -0.01806189  0.04229559  0.01211685\n -0.0105172  -0.01806189 -0.05686312 -0.02237314 -0.00405033  0.06061839\n  0.03582872 -0.01267283 -0.07734155  0.05954058 -0.02129532 -0.00620595\n  0.04445121 -0.06548562  0.12528712 -0.05039625 -0.06332999 -0.03099563\n  0.02289497  0.01103904  0.07139652  0.01427248 -0.00836158 -0.06764124\n -0.0105172  -0.02345095  0.06816308 -0.03530688 -0.01159501 -0.0730303\n -0.04177375  0.01427248 -0.00728377  0.0164281  -0.00943939 -0.01590626\n  0.0250506  -0.04931844  0.04121778 -0.06332999 -0.06440781 -0.02560657\n -0.00405033  0.00457217 -0.00728377 -0.0374625  -0.02560657 -0.02452876\n -0.01806189 -0.01482845 -0.02991782 -0.046085   -0.06979687  0.03367309\n -0.00405033 -0.02021751  0.00241654 -0.03099563  0.02828403 -0.03638469\n -0.05794093 -0.0374625   0.01211685 -0.02237314 -0.03530688  0.00996123\n -0.03961813  0.07139652 -0.07518593 -0.00620595 -0.04069594 -0.04824063\n -0.02560657  0.0519959   0.00457217 -0.06440781 -0.01698407 -0.05794093\n  0.00996123  0.08864151 -0.00512814 -0.06440781  0.01750591 -0.04500719\n  0.02828403  0.04121778  0.06492964 -0.03207344 -0.07626374  0.04984027\n  0.04552903 -0.00943939 -0.03207344  0.00457217  0.02073935  0.01427248\n  0.11019775  0.00133873  0.05846277 -0.02129532 -0.0105172  -0.04716281\n  0.00457217  0.01750591  0.08109682  0.0347509   0.02397278 -0.00836158\n -0.06117437 -0.00189471 -0.06225218  0.0164281   0.09618619 -0.06979687\n -0.02129532 -0.05362969  0.0433734   0.05630715 -0.0816528   0.04984027\n  0.11127556  0.06169621  0.01427248  0.04768465  0.01211685  0.00564998\n  0.04660684  0.12852056  0.05954058  0.09295276  0.01535029 -0.00512814\n  0.0703187  -0.00405033 -0.00081689 -0.04392938  0.02073935  0.06061839\n -0.0105172  -0.03315126 -0.06548562  0.0433734  -0.06225218  0.06385183\n  0.03043966  0.07247433 -0.0191397  -0.06656343 -0.06009656  0.06924089\n  0.05954058 -0.02668438 -0.02021751 -0.046085    0.07139652 -0.07949718\n  0.00996123 -0.03854032  0.01966154  0.02720622 -0.00836158 -0.01590626\n  0.00457217 -0.04285156  0.00564998 -0.03530688  0.02397278 -0.01806189\n  0.04229559 -0.0547075  -0.00297252 -0.06656343 -0.01267283 -0.04177375\n -0.03099563 -0.00512814 -0.05901875  0.0250506  -0.046085    0.00349435\n  0.05415152 -0.04500719 -0.05794093 -0.05578531  0.00133873  0.03043966\n  0.00672779  0.04660684  0.02612841  0.04552903  0.04013997 -0.01806189\n  0.01427248  0.03690653  0.00349435 -0.07087468 -0.03315126  0.09403057\n  0.03582872  0.03151747 -0.06548562 -0.04177375 -0.03961813 -0.03854032\n -0.02560657 -0.02345095 -0.06656343  0.03259528 -0.046085   -0.02991782\n -0.01267283 -0.01590626  0.07139652 -0.03099563  0.00026092  0.03690653\n  0.03906215 -0.01482845  0.00672779 -0.06871905 -0.00943939  0.01966154\n  0.07462995 -0.00836158 -0.02345095 -0.046085    0.05415152 -0.03530688\n -0.03207344 -0.0816528   0.04768465  0.06061839  0.05630715  0.09834182\n  0.05954058  0.03367309  0.05630715 -0.06548562  0.16085492 -0.05578531\n -0.02452876 -0.03638469 -0.00836158 -0.04177375  0.12744274 -0.07734155\n  0.02828403 -0.02560657 -0.06225218 -0.00081689  0.08864151 -0.03207344\n  0.03043966  0.00888341  0.00672779 -0.02021751 -0.02452876 -0.01159501\n  0.02612841 -0.05901875 -0.03638469 -0.02452876  0.01858372 -0.0902753\n -0.00512814 -0.05255187 -0.02237314 -0.02021751 -0.0547075  -0.00620595\n -0.01698407  0.05522933  0.07678558  0.01858372 -0.02237314  0.09295276\n -0.03099563  0.03906215 -0.06117437 -0.00836158 -0.0374625  -0.01375064\n  0.07355214 -0.02452876  0.03367309  0.0347509  -0.03854032 -0.03961813\n -0.00189471 -0.03099563 -0.046085    0.00133873  0.06492964  0.04013997\n -0.02345095  0.05307371  0.04013997 -0.02021751  0.01427248 -0.03422907\n  0.00672779  0.00457217  0.03043966  0.0519959   0.06169621 -0.00728377\n  0.00564998  0.05415152 -0.00836158  0.114509    0.06708527 -0.05578531\n  0.03043966 -0.02560657  0.10480869 -0.00620595 -0.04716281 -0.04824063\n  0.08540807 -0.01267283 -0.03315126 -0.00728377 -0.01375064  0.05954058\n  0.02181716  0.01858372 -0.01159501 -0.00297252  0.01750591 -0.02991782\n -0.02021751 -0.05794093  0.06061839 -0.04069594 -0.07195249 -0.05578531\n  0.04552903 -0.00943939 -0.03315126  0.04984027 -0.08488624  0.00564998\n  0.02073935 -0.00728377  0.10480869 -0.02452876 -0.00620595 -0.03854032\n  0.13714305  0.17055523  0.00241654  0.03798434 -0.05794093 -0.00943939\n -0.02345095 -0.0105172  -0.03422907 -0.00297252  0.06816308  0.00996123\n  0.00241654 -0.03854032  0.02612841 -0.08919748  0.06061839 -0.02884001\n -0.02991782 -0.0191397  -0.04069594  0.01535029 -0.02452876  0.00133873\n  0.06924089 -0.06979687 -0.02991782 -0.046085    0.01858372  0.00133873\n -0.03099563 -0.00405033  0.01535029  0.02289497  0.04552903 -0.04500719\n -0.03315126  0.097264    0.05415152  0.12313149 -0.08057499  0.09295276\n -0.05039625 -0.01159501 -0.0277622   0.05846277  0.08540807 -0.00081689\n  0.00672779  0.00888341  0.08001901  0.07139652 -0.02452876 -0.0547075\n -0.03638469  0.0164281   0.07786339 -0.03961813  0.01103904 -0.04069594\n -0.03422907  0.00564998  0.08864151 -0.03315126 -0.05686312 -0.03099563\n  0.05522933 -0.06009656  0.00133873 -0.02345095 -0.07410811  0.01966154\n -0.01590626 -0.01590626  0.03906215 -0.0730303 ].\nReshape your data either using array.reshape(-1, 1) if your data has a single feature or array.reshape(1, -1) if it contains a single sample."
     ]
    }
   ],
   "source": [
    "from sklearn.linear_model import LinearRegression\n",
    "lr = LinearRegression()\n",
    "lr.fit(x,y.reshape(1,-1))\n"
   ]
  },
  {
   "cell_type": "code",
   "execution_count": null,
   "metadata": {},
   "outputs": [],
   "source": []
  }
 ],
 "metadata": {
  "kernelspec": {
   "display_name": "Python 3.9.7 ('base')",
   "language": "python",
   "name": "python3"
  },
  "language_info": {
   "codemirror_mode": {
    "name": "ipython",
    "version": 3
   },
   "file_extension": ".py",
   "mimetype": "text/x-python",
   "name": "python",
   "nbconvert_exporter": "python",
   "pygments_lexer": "ipython3",
   "version": "3.9.7"
  },
  "orig_nbformat": 4,
  "vscode": {
   "interpreter": {
    "hash": "c34e8390e776d2ee205b71ed5a6130fee3cef8da5e87e926ce18e14f4a070d72"
   }
  }
 },
 "nbformat": 4,
 "nbformat_minor": 2
}
