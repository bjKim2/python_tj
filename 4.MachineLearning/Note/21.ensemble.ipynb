{
 "cells": [
  {
   "cell_type": "markdown",
   "metadata": {},
   "source": [
    "# 앙상블\n",
    "- 여러 개의 분류모델을 조합해서 더 나은 성능을 내는 방법\n",
    "\n"
   ]
  },
  {
   "cell_type": "markdown",
   "metadata": {},
   "source": [
    "## RandomForest\n",
    ": 의사결정트리 bagging(단일 모델 조합)해서 예측을 실행하는 모델"
   ]
  },
  {
   "cell_type": "code",
   "execution_count": 11,
   "metadata": {},
   "outputs": [],
   "source": [
    "# begging 단일 모델의 조합\n",
    "# 랜덤포레스트는 의사결정나무를 begging 한 것"
   ]
  },
  {
   "cell_type": "code",
   "execution_count": 4,
   "metadata": {},
   "outputs": [],
   "source": [
    "from sklearn import datasets\n",
    "\n",
    "import numpy as np\n",
    "np.random.seed(5)"
   ]
  },
  {
   "cell_type": "code",
   "execution_count": 5,
   "metadata": {},
   "outputs": [],
   "source": [
    "# 손글씨 데이터 \n",
    "mnist = datasets.load_digits()\n",
    "features, labels = mnist.data, mnist.target"
   ]
  },
  {
   "cell_type": "code",
   "execution_count": null,
   "metadata": {},
   "outputs": [],
   "source": []
  },
  {
   "cell_type": "code",
   "execution_count": 6,
   "metadata": {},
   "outputs": [
    {
     "data": {
      "text/plain": [
       "[0.8280229671011794,\n",
       " 0.8235630043451273,\n",
       " 0.8224674115456239,\n",
       " 0.8235692116697703,\n",
       " 0.8341464928615766,\n",
       " 0.8185692116697704,\n",
       " 0.8241247672253259,\n",
       " 0.8180136561142148,\n",
       " 0.8235630043451272,\n",
       " 0.8258038485412786]"
      ]
     },
     "execution_count": 6,
     "metadata": {},
     "output_type": "execute_result"
    }
   ],
   "source": [
    "# 의사결정 나무를 이용한 교차 검증 10번 실시\n",
    "from sklearn import tree\n",
    "from sklearn.model_selection import cross_val_score\n",
    "\n",
    "clf = tree.DecisionTreeClassifier()\n",
    "cv_scores = []\n",
    "\n",
    "for i in range(0,10):\n",
    "    cvs = cross_val_score(\n",
    "        clf,\n",
    "        features,\n",
    "        labels,\n",
    "        cv=10,\n",
    "        scoring='accuracy'\n",
    "    )\n",
    "    cv_scores.append(cvs.mean())\n",
    "\n",
    "cv_scores"
   ]
  },
  {
   "cell_type": "code",
   "execution_count": 7,
   "metadata": {},
   "outputs": [
    {
     "data": {
      "text/plain": [
       "0.8241843575418993"
      ]
     },
     "execution_count": 7,
     "metadata": {},
     "output_type": "execute_result"
    }
   ],
   "source": [
    "np.mean(cv_scores)"
   ]
  },
  {
   "cell_type": "code",
   "execution_count": 10,
   "metadata": {},
   "outputs": [
    {
     "data": {
      "text/plain": [
       "[0.9526939788950962,\n",
       " 0.9487957790192427,\n",
       " 0.9510211049037863,\n",
       " 0.9549286157666046,\n",
       " 0.9471322160148976,\n",
       " 0.9487988826815641,\n",
       " 0.952122905027933,\n",
       " 0.9454531346989447,\n",
       " 0.9460180012414648,\n",
       " 0.9471322160148976]"
      ]
     },
     "execution_count": 10,
     "metadata": {},
     "output_type": "execute_result"
    }
   ],
   "source": [
    "# RandomForest를 이용한 교차검증 10번\n",
    "from sklearn.ensemble import RandomForestClassifier\n",
    "\n",
    "cv_scores = []\n",
    "\n",
    "rf_clf = RandomForestClassifier()\n",
    "\n",
    "for i in range(10):\n",
    "    scores = cross_val_score(\n",
    "        rf_clf,\n",
    "        features,\n",
    "        labels,\n",
    "        cv=10,\n",
    "        scoring='accuracy'\n",
    "    )\n",
    "    cv_scores.append(scores.mean())\n",
    "\n",
    "cv_scores\n"
   ]
  },
  {
   "cell_type": "code",
   "execution_count": 36,
   "metadata": {},
   "outputs": [],
   "source": [
    "def cross_validation(model,features,labels):\n",
    "\n",
    "    cv_scores= []\n",
    "\n",
    "    for i in range(0,10):\n",
    "        score = cross_val_score(\n",
    "            model,\n",
    "            features,\n",
    "            labels,\n",
    "            cv=10,\n",
    "            scoring='accuracy'\n",
    "        )\n",
    "\n",
    "        cv_scores.append(score.mean())\n",
    "    \n",
    "    return cv_scores"
   ]
  },
  {
   "cell_type": "code",
   "execution_count": 40,
   "metadata": {},
   "outputs": [
    {
     "data": {
      "text/plain": [
       "[0.8291278708876474,\n",
       " 0.8308069522036003,\n",
       " 0.8297051520794538,\n",
       " 0.8330229671011793,\n",
       " 0.8246865301055246,\n",
       " 0.8297020484171321,\n",
       " 0.8291216635630043,\n",
       " 0.8235599006828057,\n",
       " 0.8263469894475481,\n",
       " 0.8302482929857231]"
      ]
     },
     "execution_count": 40,
     "metadata": {},
     "output_type": "execute_result"
    }
   ],
   "source": [
    "# 의사결정 나무\n",
    "dt_cv_scores = cross_validation(clf, features , labels)\n",
    "dt_cv_scores"
   ]
  },
  {
   "cell_type": "code",
   "execution_count": 39,
   "metadata": {},
   "outputs": [
    {
     "data": {
      "text/plain": [
       "[0.9499224084419614,\n",
       " 0.9488081936685289,\n",
       " 0.9448975791433891,\n",
       " 0.9476846679081316,\n",
       " 0.9482371198013656,\n",
       " 0.9515735567970204,\n",
       " 0.9454469273743016,\n",
       " 0.9515735567970204,\n",
       " 0.9543699565487275,\n",
       " 0.9476908752327746]"
      ]
     },
     "execution_count": 39,
     "metadata": {},
     "output_type": "execute_result"
    }
   ],
   "source": [
    "# RandomForest\n",
    "rf_cv_scores = cross_validation(rf_clf, features , labels)\n",
    "rf_cv_scores "
   ]
  },
  {
   "cell_type": "markdown",
   "metadata": {},
   "source": [
    "### 랜덤포레스트와 의사결정나무의 정확도의 시각화"
   ]
  },
  {
   "cell_type": "code",
   "execution_count": 43,
   "metadata": {},
   "outputs": [],
   "source": [
    "import seaborn as sns\n",
    "import matplotlib.pyplot as plt\n",
    "import pandas as pd"
   ]
  },
  {
   "cell_type": "code",
   "execution_count": 44,
   "metadata": {},
   "outputs": [],
   "source": [
    "cv_list = {'random_forest': rf_cv_scores, 'decision_tree': dt_cv_scores}\n",
    "df = pd.DataFrame(cv_list)"
   ]
  },
  {
   "cell_type": "code",
   "execution_count": 45,
   "metadata": {},
   "outputs": [
    {
     "data": {
      "image/png": "[encoded data removed]",
      "text/plain": [
       "<Figure size 432x288 with 1 Axes>"
      ]
     },
     "metadata": {
      "needs_background": "light"
     },
     "output_type": "display_data"
    }
   ],
   "source": [
    "df.plot()\n",
    "plt.show()"
   ]
  },
  {
   "cell_type": "markdown",
   "metadata": {},
   "source": [
    "---\n",
    "# 보팅(voting) 앙상블\n",
    ": 단일 모델을 앙상블하여 더 나은 예측을 하는 모델 생성"
   ]
  },
  {
   "cell_type": "markdown",
   "metadata": {},
   "source": [
    "### 단일 모델 정확도 측정"
   ]
  },
  {
   "cell_type": "code",
   "execution_count": 53,
   "metadata": {},
   "outputs": [],
   "source": [
    "from sklearn.model_selection import train_test_split\n",
    "X_train , X_test, y_train, y_test =  train_test_split(features,labels,stratify=labels , test_size=0.2)"
   ]
  },
  {
   "cell_type": "code",
   "execution_count": 54,
   "metadata": {},
   "outputs": [
    {
     "name": "stdout",
     "output_type": "stream",
     "text": [
      "d-tree : 0.8722222222222222\n"
     ]
    },
    {
     "data": {
      "text/plain": [
       "0.8722222222222222"
      ]
     },
     "execution_count": 54,
     "metadata": {},
     "output_type": "execute_result"
    }
   ],
   "source": [
    "# 의사결정 나무 \n",
    "dtree = tree.DecisionTreeClassifier()\n",
    "dtree = dtree.fit(X_train, y_train)\n",
    "\n",
    "dtree_score = dtree.score(X_test,y_test)\n",
    "print(\"d-tree :\", dtree_score)\n"
   ]
  },
  {
   "cell_type": "code",
   "execution_count": 56,
   "metadata": {},
   "outputs": [
    {
     "name": "stdout",
     "output_type": "stream",
     "text": [
      "knn_score : 0.9916666666666667\n"
     ]
    }
   ],
   "source": [
    "# KNN\n",
    "from sklearn.neighbors import KNeighborsClassifier\n",
    "\n",
    "knn = KNeighborsClassifier()\n",
    "knn = knn.fit(X_train,y_train)\n",
    "\n",
    "knn_score = knn.score(X_test,y_test)\n",
    "print('knn_score :',knn_score)"
   ]
  },
  {
   "cell_type": "code",
   "execution_count": 67,
   "metadata": {},
   "outputs": [
    {
     "name": "stdout",
     "output_type": "stream",
     "text": [
      "SVM : 0.9888888888888889\n"
     ]
    }
   ],
   "source": [
    "# SVM\n",
    "from sklearn.svm import SVC\n",
    "svm = SVC(probability=True).fit(X_train,y_train)\n",
    "svm_score = svm.score(X_test,y_test)\n",
    "print(\"SVM :\",svm_score)"
   ]
  },
  {
   "cell_type": "markdown",
   "metadata": {},
   "source": [
    "### 하드 보팅\n",
    ": 각각의 분류기의 예측값을 모아, 가장 많은 득표를 받은 예측값으로 최종 결론을 내는 방식 입니다."
   ]
  },
  {
   "cell_type": "code",
   "execution_count": 65,
   "metadata": {},
   "outputs": [
    {
     "data": {
      "text/plain": [
       "0.9944444444444445"
      ]
     },
     "execution_count": 65,
     "metadata": {},
     "output_type": "execute_result"
    }
   ],
   "source": [
    "from sklearn.ensemble import VotingClassifier\n",
    "\n",
    "voting_clf = VotingClassifier(\n",
    "    estimators = [('decision_tree', dtree), ('knn',knn), ('svm',svm)],\n",
    "    weights = [1,1,1],\n",
    "    voting = 'hard'\n",
    ").fit(X_train, y_train)\n",
    "\n",
    "voting_clf.score(X_test, y_test)"
   ]
  },
  {
   "cell_type": "markdown",
   "metadata": {},
   "source": [
    "### 소프트 보팅\n",
    ": 각각의 분류모델을 활용하여 모든 분류값들의 확률들을 더해서 가장 높은 점수를 획득한 분류값으로 최종결론을 내는 방식 입니다.\n"
   ]
  },
  {
   "cell_type": "code",
   "execution_count": 68,
   "metadata": {},
   "outputs": [
    {
     "data": {
      "text/plain": [
       "0.9916666666666667"
      ]
     },
     "execution_count": 68,
     "metadata": {},
     "output_type": "execute_result"
    }
   ],
   "source": [
    "from sklearn.ensemble import VotingClassifier\n",
    "\n",
    "voting_clf = VotingClassifier(\n",
    "    estimators = [('decision_tree', dtree), ('knn',knn), ('svm',svm)],\n",
    "    weights = [1,1,1],\n",
    "    voting = 'soft'\n",
    ").fit(X_train, y_train)\n",
    "\n",
    "voting_clf.score(X_test, y_test)"
   ]
  },
  {
   "cell_type": "code",
   "execution_count": null,
   "metadata": {},
   "outputs": [],
   "source": []
  },
  {
   "cell_type": "code",
   "execution_count": null,
   "metadata": {},
   "outputs": [],
   "source": []
  }
 ],
 "metadata": {
  "kernelspec": {
   "display_name": "Python 3.9.7 ('base')",
   "language": "python",
   "name": "python3"
  },
  "language_info": {
   "codemirror_mode": {
    "name": "ipython",
    "version": 3
   },
   "file_extension": ".py",
   "mimetype": "text/x-python",
   "name": "python",
   "nbconvert_exporter": "python",
   "pygments_lexer": "ipython3",
   "version": "3.9.7"
  },
  "orig_nbformat": 4,
  "vscode": {
   "interpreter": {
    "hash": "c34e8390e776d2ee205b71ed5a6130fee3cef8da5e87e926ce18e14f4a070d72"
   }
  }
 },
 "nbformat": 4,
 "nbformat_minor": 2
}
