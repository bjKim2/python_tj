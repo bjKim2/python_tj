{
 "cells": [
  {
   "cell_type": "code",
   "execution_count": 41,
   "metadata": {},
   "outputs": [],
   "source": [
    "from random import randint\n",
    "import random"
   ]
  },
  {
   "cell_type": "code",
   "execution_count": 2,
   "metadata": {},
   "outputs": [
    {
     "data": {
      "text/plain": [
       "97"
      ]
     },
     "execution_count": 2,
     "metadata": {},
     "output_type": "execute_result"
    }
   ],
   "source": [
    "randint(1,100)"
   ]
  },
  {
   "cell_type": "code",
   "execution_count": 40,
   "metadata": {},
   "outputs": [
    {
     "name": "stdout",
     "output_type": "stream",
     "text": [
      "30보다 큽니다.\n"
     ]
    }
   ],
   "source": [
    "x = randint(1,100)\n",
    "\n",
    "if x > 70:\n",
    "    print(\"70보다 큽니다.\")\n",
    "elif x > 50:\n",
    "    print(\"50보다 큽니다.\")\n",
    "elif x > 30:\n",
    "    print(\"30보다 큽니다.\")\n",
    "else:\n",
    "    print(\"0보다 큽니다.\")"
   ]
  },
  {
   "cell_type": "code",
   "execution_count": 47,
   "metadata": {},
   "outputs": [
    {
     "name": "stdout",
     "output_type": "stream",
     "text": [
      "홀수입니다.\n"
     ]
    }
   ],
   "source": [
    "# 홀짝수 구분\n",
    "x = 9\n",
    "\n",
    "if (x % 2):\n",
    "    print(\"홀수입니다.\")\n",
    "else:\n",
    "    print(\"짝수입니다.\")"
   ]
  },
  {
   "cell_type": "code",
   "execution_count": 68,
   "metadata": {},
   "outputs": [
    {
     "name": "stdout",
     "output_type": "stream",
     "text": [
      "9은 홀수입니다.\n"
     ]
    }
   ],
   "source": [
    "# 사용자로 부터 숫자를 입력하세요\n",
    "number = int(input(\"숫자를 입력하세요 : \"))\n",
    "\n",
    "if (number % 2):\n",
    "    print(f\"{number}은 홀수입니다.\")\n",
    "else:\n",
    "    print(f\"{number}은 짝수입니다.\")"
   ]
  },
  {
   "cell_type": "code",
   "execution_count": 75,
   "metadata": {},
   "outputs": [
    {
     "name": "stdout",
     "output_type": "stream",
     "text": [
      "점수는 50이고, F 학점입니다.\n"
     ]
    }
   ],
   "source": [
    "number = int(input(\"숫자를 입력하세요 : \"))\n",
    "\n",
    "if (number >= 90 ):\n",
    "    print(f\"점수는 {number}이고, A 학점입니다.\")\n",
    "elif(number >= 80 ):\n",
    "    print(f\"점수는 {number}이고, B 학점입니다.\")\n",
    "elif(number >= 70 ):\n",
    "    print(f\"점수는 {number}이고, C 학점입니다.\")\n",
    "elif(number >= 60 ):\n",
    "    print(f\"점수는 {number}이고, D 학점입니다.\")\n",
    "else:\n",
    "    print(f\"점수는 {number}이고, F 학점입니다.\")"
   ]
  },
  {
   "cell_type": "code",
   "execution_count": 81,
   "metadata": {},
   "outputs": [
    {
     "name": "stdout",
     "output_type": "stream",
     "text": [
      "정수를 입력하세요.\n"
     ]
    }
   ],
   "source": [
    "try:\n",
    "    x = int(input('숫자를 입력하세요: '))\n",
    "    print(x)\n",
    "except:    # 예외가 발생했을 때 실행됨\n",
    "    print('정수를 입력하세요.')\n"
   ]
  },
  {
   "cell_type": "code",
   "execution_count": 93,
   "metadata": {},
   "outputs": [
    {
     "name": "stdout",
     "output_type": "stream",
     "text": [
      "E 학점 입니다.\n"
     ]
    }
   ],
   "source": [
    "score = [90,80,70,60,0]\n",
    "grade = list(\"ABCDE\")\n",
    "number = int(input(\"숫자를 입력하세요 : \"))\n",
    "for i in range(len(score)):\n",
    "    if(number >= score[i]):\n",
    "        print(f'{grade[i]} 학점 입니다.')\n",
    "        break"
   ]
  },
  {
   "cell_type": "code",
   "execution_count": 84,
   "metadata": {},
   "outputs": [],
   "source": [
    "import math"
   ]
  },
  {
   "cell_type": "code",
   "execution_count": 99,
   "metadata": {},
   "outputs": [
    {
     "name": "stdout",
     "output_type": "stream",
     "text": [
      " 6 은 5의 배수가 아닙니다.\n"
     ]
    }
   ],
   "source": [
    "# 사용자로부터 숫자를 입력받아 5의 배수이면 제곱근을 구하고 그렇지 않으면 원래 수를 출력하기\n",
    "\n",
    "number = int(input(\"숫자를 입력하세요 : \"))\n",
    "\n",
    "if(not(number % 5) ):\n",
    "    print(f'{number}은 5의 배수이고, 제곱근은' ,math.sqrt(number),'입니다.')\n",
    "else:\n",
    "    print(f'',number,'은 5의 배수가 아닙니다.')    "
   ]
  },
  {
   "cell_type": "code",
   "execution_count": 103,
   "metadata": {},
   "outputs": [
    {
     "name": "stdout",
     "output_type": "stream",
     "text": [
      "신용카드를 사용한 택시 타기!\n",
      "--- End ---\n"
     ]
    }
   ],
   "source": [
    "# list의 내용을 if문으로 확인하기\n",
    "\n",
    "pocket = ['paper','smartphone']\n",
    "card = 1\n",
    "\n",
    "if 'money' in pocket:\n",
    "    print('현금으로 택시타기!')\n",
    "elif card:\n",
    "    print(\"신용카드를 사용한 택시 타기!\")\n",
    "else:\n",
    "    print(\"튼튼한 다리를 사용!\")\n",
    "\n",
    "print(\"--- End ---\")"
   ]
  },
  {
   "cell_type": "code",
   "execution_count": 111,
   "metadata": {},
   "outputs": [
    {
     "name": "stdout",
     "output_type": "stream",
     "text": [
      "3\n"
     ]
    }
   ],
   "source": [
    "# 삼항 연산자\n",
    "# 변수 = 참인 경우 if(조건문) else (거짓인 경우)\n",
    "# \n",
    "\n",
    "num = 2\n",
    "result = 0\n",
    "\n",
    "result = num * 2 if num >= 5 else num + 2 if num >=3 else num + 1\n",
    "print(result) "
   ]
  },
  {
   "cell_type": "code",
   "execution_count": null,
   "metadata": {},
   "outputs": [],
   "source": []
  }
 ],
 "metadata": {
  "interpreter": {
   "hash": "c34e8390e776d2ee205b71ed5a6130fee3cef8da5e87e926ce18e14f4a070d72"
  },
  "kernelspec": {
   "display_name": "Python 3.9.7 ('base')",
   "language": "python",
   "name": "python3"
  },
  "language_info": {
   "codemirror_mode": {
    "name": "ipython",
    "version": 3
   },
   "file_extension": ".py",
   "mimetype": "text/x-python",
   "name": "python",
   "nbconvert_exporter": "python",
   "pygments_lexer": "ipython3",
   "version": "3.9.7"
  },
  "orig_nbformat": 4
 },
 "nbformat": 4,
 "nbformat_minor": 2
}
