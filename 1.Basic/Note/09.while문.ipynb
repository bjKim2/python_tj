{
 "cells": [
  {
   "cell_type": "code",
   "execution_count": 40,
   "metadata": {},
   "outputs": [
    {
     "name": "stdout",
     "output_type": "stream",
     "text": [
      "나무를 1번 찍었습니다.\n",
      "나무를 2번 찍었습니다.\n",
      "나무를 3번 찍었습니다.\n",
      "나무를 4번 찍었습니다.\n",
      "나무를 5번 찍었습니다.\n",
      "나무를 6번 찍었습니다.\n",
      "나무를 7번 찍었습니다.\n",
      "나무를 8번 찍었습니다.\n",
      "나무를 9번 찍었습니다.\n",
      "나무를 10번 찍었습니다.\n",
      "나무 넘어 갑니다.\n"
     ]
    }
   ],
   "source": [
    "treeHit = 0\n",
    "\n",
    "while treeHit < 10:\n",
    "    treeHit += 1 # ++ 는 없음 \n",
    "    print(\"나무를 %d번 찍었습니다.\"%treeHit)\n",
    "    if (treeHit == 10):\n",
    "        print(\"나무 넘어 갑니다.\")"
   ]
  },
  {
   "cell_type": "code",
   "execution_count": null,
   "metadata": {},
   "outputs": [],
   "source": [
    "prompt = \"\"\"\n",
    "1. 덧셈\n",
    " 2. 곱셈\n",
    "  3. 나눗셈\n",
    "    4. 종료\n",
    "\n",
    "숫자를 입력하세요:\n",
    "\"\"\""
   ]
  },
  {
   "cell_type": "code",
   "execution_count": null,
   "metadata": {},
   "outputs": [
    {
     "name": "stdout",
     "output_type": "stream",
     "text": [
      "\n",
      "1. 덧셈\n",
      " 2. 곱셈\n",
      "  3. 나눗셈\n",
      "    4. 종료\n",
      "\n",
      "숫자를 입력하세요:\n",
      "\n",
      "\n",
      "1. 덧셈\n",
      " 2. 곱셈\n",
      "  3. 나눗셈\n",
      "    4. 종료\n",
      "\n",
      "숫자를 입력하세요:\n",
      "\n"
     ]
    }
   ],
   "source": [
    "number = 0\n",
    "while number != 4:\n",
    "    print(prompt)\n",
    "    number = int(input())"
   ]
  },
  {
   "cell_type": "markdown",
   "metadata": {},
   "source": [
    "5번의 커피를 판매할 수 있는 커피 자판기가 있다.  \n",
    "커피의 금액은 300원이다.  \n",
    "300원 보다 큰 금액을 입력하면 커피를 주고(커피의 판매횟수 감소)  거스름돈을 준다.  \n",
    "커피의 판매 횟수를 소진하면 판매를 중지한다.\n",
    "\n"
   ]
  },
  {
   "cell_type": "code",
   "execution_count": null,
   "metadata": {},
   "outputs": [
    {
     "name": "stdout",
     "output_type": "stream",
     "text": [
      "\n",
      "        커피를 구매할 돈을 넣어주세요.\n",
      "    \n",
      "거스름돈은 0원 입니다.\n",
      "\n",
      "        커피를 구매할 돈을 넣어주세요.\n",
      "    \n",
      "거스름돈은 300원 입니다.\n",
      "\n",
      "        커피를 구매할 돈을 넣어주세요.\n",
      "    \n",
      "거스름돈은 400원 입니다.\n",
      "\n",
      "        커피를 구매할 돈을 넣어주세요.\n",
      "    \n",
      "300원 이상 돈을 넣어주세요 에잇 퉤\n",
      "\n",
      "        커피를 구매할 돈을 넣어주세요.\n",
      "    \n",
      "거스름돈은 300원 입니다.\n",
      "\n",
      "        커피를 구매할 돈을 넣어주세요.\n",
      "    \n",
      "마지막 잔이네요 이 잔을 팔고 난 떠나겠어요.\n",
      "거스름돈은 500원 입니다.\n"
     ]
    }
   ],
   "source": [
    "coffee = 5\n",
    "money = 0\n",
    "bal = 0\n",
    "while (coffee != 0):\n",
    "    print(\"\"\"\n",
    "        커피를 구매할 돈을 넣어주세요.\n",
    "    \"\"\")\n",
    "    money = int(input())\n",
    "    if(money >= 300):\n",
    "        bal = money - 300\n",
    "        if(coffee == 1):\n",
    "            print(\"마지막 잔이네요 이 잔을 팔고 난 떠나겠어요.\")\n",
    "        coffee -= 1\n",
    "        print(\"거스름돈은 %i원 입니다.\"%bal)     \n",
    "\n",
    "    else:\n",
    "        print(\"300원 이상 돈을 넣어주세요 에잇 퉤\")\n",
    "\n"
   ]
  },
  {
   "cell_type": "code",
   "execution_count": null,
   "metadata": {},
   "outputs": [
    {
     "data": {
      "text/plain": [
       "['', '1. 덧셈', ' 2. 곱셈', '  3. 나눗셈', '    4. 종료', '', '숫자를 입력하세요:', '']"
      ]
     },
     "execution_count": 19,
     "metadata": {},
     "output_type": "execute_result"
    }
   ],
   "source": [
    "str01 = \"\"\"\n",
    "1. 덧셈\n",
    " 2. 곱셈\n",
    "  3. 나눗셈\n",
    "    4. 종료\n",
    "\n",
    "숫자를 입력하세요:\n",
    "\"\"\"\n",
    "\n",
    "str01.split(\"\\n\")"
   ]
  },
  {
   "cell_type": "code",
   "execution_count": null,
   "metadata": {},
   "outputs": [
    {
     "name": "stdout",
     "output_type": "stream",
     "text": [
      "<class 'int'>\n",
      "2\n"
     ]
    }
   ],
   "source": [
    "a = 2\n",
    "b = 2\n",
    "c = a & b\n",
    "print(type(a & b))\n",
    "print(c)"
   ]
  },
  {
   "cell_type": "code",
   "execution_count": null,
   "metadata": {},
   "outputs": [
    {
     "name": "stdout",
     "output_type": "stream",
     "text": [
      "2 bb\n"
     ]
    }
   ],
   "source": [
    "print(2 & 2, \"bb\")"
   ]
  },
  {
   "cell_type": "code",
   "execution_count": null,
   "metadata": {},
   "outputs": [
    {
     "name": "stdout",
     "output_type": "stream",
     "text": [
      "a\n"
     ]
    }
   ],
   "source": [
    "if(2 & 2):\n",
    "    print('a')"
   ]
  },
  {
   "cell_type": "code",
   "execution_count": null,
   "metadata": {},
   "outputs": [
    {
     "name": "stdout",
     "output_type": "stream",
     "text": [
      "0\n",
      "1\n",
      "2\n",
      "3\n",
      "4\n"
     ]
    }
   ],
   "source": [
    "# break문을 사용하여 a가 5인 경우 while문 빠져 나가기\n",
    "\n",
    "var = 0\n",
    "while var < 10:\n",
    "    print(var)\n",
    "    var += 1\n",
    "    if var == 5:\n",
    "        break\n"
   ]
  },
  {
   "cell_type": "code",
   "execution_count": null,
   "metadata": {},
   "outputs": [
    {
     "name": "stdout",
     "output_type": "stream",
     "text": [
      "1\n",
      "2\n",
      "3\n",
      "4\n",
      "6\n",
      "7\n",
      "8\n",
      "9\n",
      "10\n"
     ]
    }
   ],
   "source": [
    "# 10보다 작은 수를 5인 경우에만 출력 안하고 나머지 숫자는 출력하기\n",
    "\n",
    "var = 0\n",
    "while var < 10:\n",
    "    var += 1\n",
    "    if var == 5:\n",
    "        continue\n",
    "    print(var)"
   ]
  },
  {
   "cell_type": "code",
   "execution_count": null,
   "metadata": {},
   "outputs": [
    {
     "name": "stdout",
     "output_type": "stream",
     "text": [
      "1\n",
      "3\n",
      "5\n",
      "7\n",
      "9\n"
     ]
    }
   ],
   "source": [
    "# continue문을 사용하여 홀수 숫자만 출력하기 \n",
    "\n",
    "var = 0\n",
    "while var < 10:\n",
    "    var+=1\n",
    "    if(var % 2):\n",
    "        print(var)\n"
   ]
  },
  {
   "cell_type": "code",
   "execution_count": 41,
   "metadata": {},
   "outputs": [
    {
     "name": "stdout",
     "output_type": "stream",
     "text": [
      "노력\n",
      "우수\n",
      "우수\n",
      "노력\n"
     ]
    }
   ],
   "source": [
    "# 점수가 80점 이상이면 우수, 나머지는 노력으로 출력\n",
    "scores = [78,85,95,65]\n",
    "\n",
    "var = 0\n",
    "while var < len(scores):\n",
    "    if(scores[var]>= 80):\n",
    "        print(\"우수\")\n",
    "    else:\n",
    "        print(\"노력\")\n",
    "    var += 1"
   ]
  },
  {
   "cell_type": "code",
   "execution_count": 54,
   "metadata": {},
   "outputs": [
    {
     "name": "stdout",
     "output_type": "stream",
     "text": [
      "노력\n",
      "우수\n",
      "우수\n",
      "노력\n"
     ]
    }
   ],
   "source": [
    "# 점수가 80점 이상이면 우수, 나머지는 노력으로 출력 #2\n",
    "\n",
    "scores = [78,85,95,65]\n",
    "while scores:\n",
    "    print(\"우수\") if(scores.pop(0) >= 80) else print(\"노력\") # pop(0) 은 인덱스 0번 쓴다음 제거 \n"
   ]
  },
  {
   "cell_type": "code",
   "execution_count": null,
   "metadata": {},
   "outputs": [],
   "source": [
    "import math"
   ]
  },
  {
   "cell_type": "code",
   "execution_count": 70,
   "metadata": {},
   "outputs": [
    {
     "name": "stdout",
     "output_type": "stream",
     "text": [
      "80.75\n",
      "80.75\n"
     ]
    }
   ],
   "source": [
    "# 평균 구하기\n",
    "scores = [78, 85, 95, 65]\n",
    "list_length = len(scores)\n",
    "total = sum(scores)\n",
    "\n",
    "mean = total / list_length\n",
    "print(mean)\n",
    "\n",
    "total2 = 0\n",
    "while scores:\n",
    "    total2 += scores.pop(0)\n",
    "mean2 = total2 / list_length\n",
    "\n",
    "print(mean2)\n",
    "    \n",
    "\n",
    "    \n"
   ]
  },
  {
   "cell_type": "code",
   "execution_count": 71,
   "metadata": {},
   "outputs": [],
   "source": [
    "import numpy as np"
   ]
  },
  {
   "cell_type": "code",
   "execution_count": 75,
   "metadata": {},
   "outputs": [
    {
     "data": {
      "text/plain": [
       "80.75"
      ]
     },
     "execution_count": 75,
     "metadata": {},
     "output_type": "execute_result"
    }
   ],
   "source": [
    "scores = [78,85,95,65]\n",
    "np.mean(scores)"
   ]
  },
  {
   "cell_type": "code",
   "execution_count": 83,
   "metadata": {},
   "outputs": [],
   "source": [
    "# 표준편차 : 평균과 각 Data의 차이의 제곱한 것의 합에 평균 구한 것의 제곱근\n"
   ]
  },
  {
   "cell_type": "code",
   "execution_count": 82,
   "metadata": {},
   "outputs": [
    {
     "name": "stdout",
     "output_type": "stream",
     "text": [
      "80.75\n",
      "119.1875\n"
     ]
    },
    {
     "data": {
      "text/plain": [
       "10.917302780449024"
      ]
     },
     "execution_count": 82,
     "metadata": {},
     "output_type": "execute_result"
    }
   ],
   "source": [
    "scores = [78,85,95,65]\n",
    "#평균구하기\n",
    "total = 0\n",
    "var = 0\n",
    "\n",
    "while var < len(scores):\n",
    "    total += scores[var]\n",
    "    var +=1\n",
    "\n",
    "avg = total / len(scores)\n",
    "print(avg)\n",
    "\n",
    "# 각 데이터와 평균의 차이의 제곱의 합을 평균 구하기\n",
    "total = 0\n",
    "var = 0\n",
    "while var < len(scores):\n",
    "    total += (scores[var]- avg)** 2\n",
    "    var += 1\n",
    "\n",
    "avg = total / len(scores)\n",
    "print(avg)\n",
    "\n",
    "# 제곱근 씌우기\n",
    "import math\n",
    "math.sqrt(avg)"
   ]
  },
  {
   "cell_type": "code",
   "execution_count": 85,
   "metadata": {},
   "outputs": [
    {
     "data": {
      "text/plain": [
       "10.917302780449024"
      ]
     },
     "execution_count": 85,
     "metadata": {},
     "output_type": "execute_result"
    }
   ],
   "source": [
    "scores = [78, 85, 95, 65]\n",
    "np.std(scores)"
   ]
  },
  {
   "cell_type": "code",
   "execution_count": null,
   "metadata": {},
   "outputs": [],
   "source": []
  }
 ],
 "metadata": {
  "interpreter": {
   "hash": "c34e8390e776d2ee205b71ed5a6130fee3cef8da5e87e926ce18e14f4a070d72"
  },
  "kernelspec": {
   "display_name": "Python 3.9.7 ('base')",
   "language": "python",
   "name": "python3"
  },
  "language_info": {
   "codemirror_mode": {
    "name": "ipython",
    "version": 3
   },
   "file_extension": ".py",
   "mimetype": "text/x-python",
   "name": "python",
   "nbconvert_exporter": "python",
   "pygments_lexer": "ipython3",
   "version": "3.9.7"
  },
  "orig_nbformat": 4
 },
 "nbformat": 4,
 "nbformat_minor": 2
}
