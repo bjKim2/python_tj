{
 "cells": [
  {
   "cell_type": "markdown",
   "metadata": {},
   "source": [
    "# 몬테카를로 시뮬레이션\n",
    ": 자료가 없을 경우 난수를 통해서 가설 증명\n"
   ]
  },
  {
   "cell_type": "code",
   "execution_count": 1,
   "metadata": {},
   "outputs": [],
   "source": [
    "# 동전의 앞면과 뒷면이 나올 확률이 같다는 것을 증명"
   ]
  },
  {
   "cell_type": "code",
   "execution_count": 2,
   "metadata": {},
   "outputs": [],
   "source": [
    "import random"
   ]
  },
  {
   "cell_type": "code",
   "execution_count": 6,
   "metadata": {},
   "outputs": [
    {
     "data": {
      "text/plain": [
       "6"
      ]
     },
     "execution_count": 6,
     "metadata": {},
     "output_type": "execute_result"
    }
   ],
   "source": [
    "random.randint(1,10)"
   ]
  },
  {
   "cell_type": "code",
   "execution_count": 12,
   "metadata": {},
   "outputs": [],
   "source": [
    "def coinF(n):\n",
    "    coinFront = coinRear = 0\n",
    "    for i in range(1, n+1):\n",
    "        x = random.randint(1,2)\n",
    "        if(x == 1): coinFront += 1 \n",
    "        if(x == 2): coinRear += 1\n",
    "    print(\"%7d번 시도시 동전의 앞면은 %6d번이고 동전의 뒷면은 %6d번 입니다.\"%(n,coinFront,coinRear))"
   ]
  },
  {
   "cell_type": "code",
   "execution_count": 13,
   "metadata": {},
   "outputs": [
    {
     "name": "stdout",
     "output_type": "stream",
     "text": [
      "     10번 시도시 동전의 앞면은      4번이고 동전의 뒷면은      6번 입니다.\n",
      "    100번 시도시 동전의 앞면은     52번이고 동전의 뒷면은     48번 입니다.\n",
      "   1000번 시도시 동전의 앞면은    536번이고 동전의 뒷면은    464번 입니다.\n",
      "  10000번 시도시 동전의 앞면은   5043번이고 동전의 뒷면은   4957번 입니다.\n",
      " 100000번 시도시 동전의 앞면은  49980번이고 동전의 뒷면은  50020번 입니다.\n"
     ]
    }
   ],
   "source": [
    "coinF(10)\n",
    "coinF(100)\n",
    "coinF(1000)\n",
    "coinF(10000)\n",
    "coinF(100000)"
   ]
  },
  {
   "cell_type": "code",
   "execution_count": 14,
   "metadata": {},
   "outputs": [],
   "source": [
    "def rsp(n):\n",
    "    rock = scissor = paper = 0\n",
    "    for i in range(1,n+1):\n",
    "        x = random.randint(1,3)\n",
    "        if(x == 1): rock += 1\n",
    "        if(x == 2): scissor += 1\n",
    "        if(x == 3): paper += 1\n",
    "\n",
    "    print(\"%7d번 시도시 가위바위보의 바위는 %6d번이고 가위는 %6d번이고 보는 %6d 이다.\"%(n,rock,scissor,paper))"
   ]
  },
  {
   "cell_type": "code",
   "execution_count": 15,
   "metadata": {},
   "outputs": [
    {
     "name": "stdout",
     "output_type": "stream",
     "text": [
      "     10번 시도시 가위바위보의 바위는      1번이고 가위는      7번이고 보는      2 이다.\n",
      "    100번 시도시 가위바위보의 바위는     29번이고 가위는     31번이고 보는     40 이다.\n",
      "   1000번 시도시 가위바위보의 바위는    386번이고 가위는    286번이고 보는    328 이다.\n",
      "  10000번 시도시 가위바위보의 바위는   3287번이고 가위는   3390번이고 보는   3323 이다.\n",
      " 100000번 시도시 가위바위보의 바위는  33339번이고 가위는  33225번이고 보는  33436 이다.\n",
      "1000000번 시도시 가위바위보의 바위는 333727번이고 가위는 333361번이고 보는 332912 이다.\n"
     ]
    }
   ],
   "source": [
    "rsp(10)\n",
    "rsp(100)\n",
    "rsp(1000)\n",
    "rsp(10000)\n",
    "rsp(100000)\n",
    "rsp(1000000)"
   ]
  },
  {
   "cell_type": "code",
   "execution_count": null,
   "metadata": {},
   "outputs": [],
   "source": []
  }
 ],
 "metadata": {
  "interpreter": {
   "hash": "c34e8390e776d2ee205b71ed5a6130fee3cef8da5e87e926ce18e14f4a070d72"
  },
  "kernelspec": {
   "display_name": "Python 3.9.7 ('base')",
   "language": "python",
   "name": "python3"
  },
  "language_info": {
   "codemirror_mode": {
    "name": "ipython",
    "version": 3
   },
   "file_extension": ".py",
   "mimetype": "text/x-python",
   "name": "python",
   "nbconvert_exporter": "python",
   "pygments_lexer": "ipython3",
   "version": "3.9.7"
  },
  "orig_nbformat": 4
 },
 "nbformat": 4,
 "nbformat_minor": 2
}
