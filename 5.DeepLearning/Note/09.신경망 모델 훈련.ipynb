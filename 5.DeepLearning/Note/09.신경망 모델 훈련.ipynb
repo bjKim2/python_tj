{
 "cells": [
  {
   "cell_type": "code",
   "execution_count": 1,
   "metadata": {},
   "outputs": [],
   "source": [
    "import warnings\n",
    "warnings.filterwarnings('ignore')\n",
    "\n",
    "import os # m1 은 이거 안해도됨\n",
    "os.environ['TF_CPP_MIN_LOG_LEVEL'] = '3'"
   ]
  },
  {
   "cell_type": "code",
   "execution_count": 2,
   "metadata": {},
   "outputs": [],
   "source": [
    "from tensorflow import keras\n",
    "from sklearn.model_selection import train_test_split\n",
    "\n",
    "(train_input, train_target), (test_input, test_target) = keras.datasets.fashion_mnist.load_data()\n",
    "# train과 valid 분리\n",
    "\n",
    "train_scaled = train_input / 255.0\n",
    "\n",
    "\n",
    "train_scaled,val_scaled, train_target,val_target = train_test_split(\n",
    "    train_scaled,train_target,test_size=0.2,random_state=42)"
   ]
  },
  {
   "cell_type": "code",
   "execution_count": 3,
   "metadata": {},
   "outputs": [],
   "source": [
    "# Model 함수 구현\n",
    "def model_fn(a_layer= None):\n",
    "    model = keras.Sequential()\n",
    "    model.add(keras.layers.Flatten(input_shape=(28,28)))\n",
    "    model.add(keras.layers.Dense(100,activation='relu'))\n",
    "    if a_layer:\n",
    "        model.add(a_layer)\n",
    "    model.add(keras.layers.Dense(10,activation='softmax'))\n",
    "    return model\n"
   ]
  },
  {
   "cell_type": "code",
   "execution_count": 4,
   "metadata": {},
   "outputs": [
    {
     "name": "stdout",
     "output_type": "stream",
     "text": [
      "Model: \"sequential\"\n",
      "_________________________________________________________________\n",
      " Layer (type)                Output Shape              Param #   \n",
      "=================================================================\n",
      " flatten (Flatten)           (None, 784)               0         \n",
      "                                                                 \n",
      " dense (Dense)               (None, 100)               78500     \n",
      "                                                                 \n",
      " dense_1 (Dense)             (None, 10)                1010      \n",
      "                                                                 \n",
      "=================================================================\n",
      "Total params: 79,510\n",
      "Trainable params: 79,510\n",
      "Non-trainable params: 0\n",
      "_________________________________________________________________\n"
     ]
    }
   ],
   "source": [
    "model = model_fn()\n",
    "model.summary()"
   ]
  },
  {
   "cell_type": "code",
   "execution_count": 23,
   "metadata": {},
   "outputs": [
    {
     "name": "stdout",
     "output_type": "stream",
     "text": [
      "Epoch 1/20\n",
      "1500/1500 [==============================] - 4s 2ms/step - loss: 0.3080 - accuracy: 0.8904\n",
      "Epoch 2/20\n",
      "1500/1500 [==============================] - 4s 2ms/step - loss: 0.2951 - accuracy: 0.8971\n",
      "Epoch 3/20\n",
      "1500/1500 [==============================] - 4s 2ms/step - loss: 0.2912 - accuracy: 0.8965\n",
      "Epoch 4/20\n",
      "1500/1500 [==============================] - 4s 2ms/step - loss: 0.2831 - accuracy: 0.9007\n",
      "Epoch 5/20\n",
      "1500/1500 [==============================] - 4s 2ms/step - loss: 0.2765 - accuracy: 0.9032\n",
      "Epoch 6/20\n",
      "1500/1500 [==============================] - 3s 2ms/step - loss: 0.2686 - accuracy: 0.9056\n",
      "Epoch 7/20\n",
      "1500/1500 [==============================] - 3s 2ms/step - loss: 0.2636 - accuracy: 0.9069\n",
      "Epoch 8/20\n",
      "1500/1500 [==============================] - 4s 2ms/step - loss: 0.2588 - accuracy: 0.9100\n",
      "Epoch 9/20\n",
      "1500/1500 [==============================] - 3s 2ms/step - loss: 0.2529 - accuracy: 0.9136\n",
      "Epoch 10/20\n",
      "1500/1500 [==============================] - 4s 2ms/step - loss: 0.2499 - accuracy: 0.9135\n",
      "Epoch 11/20\n",
      "1500/1500 [==============================] - 3s 2ms/step - loss: 0.2461 - accuracy: 0.9157\n",
      "Epoch 12/20\n",
      "1500/1500 [==============================] - 3s 2ms/step - loss: 0.2420 - accuracy: 0.9162\n",
      "Epoch 13/20\n",
      "1500/1500 [==============================] - 3s 2ms/step - loss: 0.2375 - accuracy: 0.9185\n",
      "Epoch 14/20\n",
      "1500/1500 [==============================] - 3s 2ms/step - loss: 0.2342 - accuracy: 0.9195\n",
      "Epoch 15/20\n",
      "1500/1500 [==============================] - 3s 2ms/step - loss: 0.2296 - accuracy: 0.9217\n",
      "Epoch 16/20\n",
      "1500/1500 [==============================] - 4s 2ms/step - loss: 0.2269 - accuracy: 0.9223\n",
      "Epoch 17/20\n",
      "1500/1500 [==============================] - 4s 2ms/step - loss: 0.2233 - accuracy: 0.9243\n",
      "Epoch 18/20\n",
      "1500/1500 [==============================] - 3s 2ms/step - loss: 0.2163 - accuracy: 0.9264\n",
      "Epoch 19/20\n",
      "1500/1500 [==============================] - 3s 2ms/step - loss: 0.2189 - accuracy: 0.9257\n",
      "Epoch 20/20\n",
      "1500/1500 [==============================] - 3s 2ms/step - loss: 0.2136 - accuracy: 0.9288\n"
     ]
    }
   ],
   "source": [
    "model.compile(loss= 'sparse_categorical_crossentropy', metrics='accuracy')\n",
    "history = model.fit(train_scaled,train_target,epochs = 20)"
   ]
  },
  {
   "cell_type": "markdown",
   "metadata": {},
   "source": [
    "## 손실곡선"
   ]
  },
  {
   "cell_type": "code",
   "execution_count": 24,
   "metadata": {},
   "outputs": [
    {
     "data": {
      "image/png": "[encoded data removed]",
      "text/plain": [
       "<Figure size 432x288 with 1 Axes>"
      ]
     },
     "metadata": {
      "needs_background": "light"
     },
     "output_type": "display_data"
    }
   ],
   "source": [
    "import numpy as np\n",
    "import matplotlib.pyplot as plt\n",
    "\n",
    "num = list(range(len(history.history['loss'])))\n",
    "\n",
    "plt.plot(\n",
    "    history.history['loss']\n",
    ")\n",
    "plt.plot(\n",
    "    history.history['accuracy']\n",
    ")\n",
    "\n",
    "plt.xlabel('epoch')\n",
    "plt.ylabel('loss & accuracy')\n",
    "plt.legend(['loss','accuracy'],loc='right')\n",
    "plt.show()"
   ]
  },
  {
   "cell_type": "markdown",
   "metadata": {},
   "source": [
    "---\n",
    "### 검증 손실\n",
    ": 검증 세트에 대한 정확도를 파악하기 위해 validation data를 사용한다."
   ]
  },
  {
   "cell_type": "code",
   "execution_count": 26,
   "metadata": {},
   "outputs": [
    {
     "name": "stdout",
     "output_type": "stream",
     "text": [
      "Epoch 1/20\n",
      "1500/1500 [==============================] - 5s 3ms/step - loss: 0.5332 - accuracy: 0.8114 - val_loss: 0.4307 - val_accuracy: 0.8465\n",
      "Epoch 2/20\n",
      "1500/1500 [==============================] - 4s 3ms/step - loss: 0.3947 - accuracy: 0.8579 - val_loss: 0.4132 - val_accuracy: 0.8553\n",
      "Epoch 3/20\n",
      "1500/1500 [==============================] - 4s 3ms/step - loss: 0.3568 - accuracy: 0.8718 - val_loss: 0.3721 - val_accuracy: 0.8708\n",
      "Epoch 4/20\n",
      "1500/1500 [==============================] - 4s 3ms/step - loss: 0.3343 - accuracy: 0.8801 - val_loss: 0.3457 - val_accuracy: 0.8803\n",
      "Epoch 5/20\n",
      "1500/1500 [==============================] - 4s 3ms/step - loss: 0.3198 - accuracy: 0.8858 - val_loss: 0.3804 - val_accuracy: 0.8707\n",
      "Epoch 6/20\n",
      "1500/1500 [==============================] - 4s 3ms/step - loss: 0.3046 - accuracy: 0.8911 - val_loss: 0.3660 - val_accuracy: 0.8753\n",
      "Epoch 7/20\n",
      "1500/1500 [==============================] - 4s 3ms/step - loss: 0.2961 - accuracy: 0.8951 - val_loss: 0.3708 - val_accuracy: 0.8794\n",
      "Epoch 8/20\n",
      "1500/1500 [==============================] - 4s 3ms/step - loss: 0.2886 - accuracy: 0.8975 - val_loss: 0.3592 - val_accuracy: 0.8823\n",
      "Epoch 9/20\n",
      "1500/1500 [==============================] - 4s 3ms/step - loss: 0.2803 - accuracy: 0.9018 - val_loss: 0.3939 - val_accuracy: 0.8743\n",
      "Epoch 10/20\n",
      "1500/1500 [==============================] - 4s 3ms/step - loss: 0.2732 - accuracy: 0.9040 - val_loss: 0.3912 - val_accuracy: 0.8799\n",
      "Epoch 11/20\n",
      "1500/1500 [==============================] - 4s 3ms/step - loss: 0.2717 - accuracy: 0.9046 - val_loss: 0.3749 - val_accuracy: 0.8810\n",
      "Epoch 12/20\n",
      "1500/1500 [==============================] - 4s 3ms/step - loss: 0.2617 - accuracy: 0.9078 - val_loss: 0.3714 - val_accuracy: 0.8840\n",
      "Epoch 13/20\n",
      "1500/1500 [==============================] - 4s 3ms/step - loss: 0.2569 - accuracy: 0.9109 - val_loss: 0.3922 - val_accuracy: 0.8795\n",
      "Epoch 14/20\n",
      "1500/1500 [==============================] - 4s 3ms/step - loss: 0.2528 - accuracy: 0.9125 - val_loss: 0.3929 - val_accuracy: 0.8839\n",
      "Epoch 15/20\n",
      "1500/1500 [==============================] - 4s 3ms/step - loss: 0.2457 - accuracy: 0.9146 - val_loss: 0.4605 - val_accuracy: 0.8723\n",
      "Epoch 16/20\n",
      "1500/1500 [==============================] - 4s 3ms/step - loss: 0.2419 - accuracy: 0.9161 - val_loss: 0.4138 - val_accuracy: 0.8772\n",
      "Epoch 17/20\n",
      "1500/1500 [==============================] - 4s 3ms/step - loss: 0.2367 - accuracy: 0.9176 - val_loss: 0.4319 - val_accuracy: 0.8827\n",
      "Epoch 18/20\n",
      "1500/1500 [==============================] - 4s 3ms/step - loss: 0.2324 - accuracy: 0.9201 - val_loss: 0.4398 - val_accuracy: 0.8829\n",
      "Epoch 19/20\n",
      "1500/1500 [==============================] - 4s 3ms/step - loss: 0.2334 - accuracy: 0.9206 - val_loss: 0.4610 - val_accuracy: 0.8802\n",
      "Epoch 20/20\n",
      "1500/1500 [==============================] - 4s 3ms/step - loss: 0.2281 - accuracy: 0.9220 - val_loss: 0.4305 - val_accuracy: 0.8869\n"
     ]
    }
   ],
   "source": [
    "\n",
    "model = model_fn()\n",
    "model.compile(loss= 'sparse_categorical_crossentropy', metrics='accuracy')\n",
    "history = model.fit(train_scaled,train_target,epochs = 20,\n",
    "                    validation_data = (val_scaled,val_target)\n",
    ")\n"
   ]
  },
  {
   "cell_type": "code",
   "execution_count": 30,
   "metadata": {},
   "outputs": [
    {
     "data": {
      "text/plain": [
       "dict_keys(['loss', 'accuracy', 'val_loss', 'val_accuracy'])"
      ]
     },
     "execution_count": 30,
     "metadata": {},
     "output_type": "execute_result"
    }
   ],
   "source": [
    "history.history.keys()"
   ]
  },
  {
   "cell_type": "code",
   "execution_count": 33,
   "metadata": {},
   "outputs": [
    {
     "data": {
      "image/png": "[encoded data removed]",
      "text/plain": [
       "<Figure size 432x288 with 1 Axes>"
      ]
     },
     "metadata": {
      "needs_background": "light"
     },
     "output_type": "display_data"
    }
   ],
   "source": [
    "\n",
    "plt.plot(\n",
    "    history.history['loss']\n",
    ")\n",
    "# plt.plot(\n",
    "#     history.history['accuracy']\n",
    "# )\n",
    "plt.plot(\n",
    "    history.history['val_loss']\n",
    ")\n",
    "# plt.plot(\n",
    "#     history.history['val_accuracy']\n",
    "# )\n",
    "\n",
    "plt.xlabel('epoch')\n",
    "plt.ylabel('loss')\n",
    "plt.legend(['train','validation'],loc='best')\n",
    "plt.show()"
   ]
  },
  {
   "cell_type": "markdown",
   "metadata": {},
   "source": [
    "> 훈련세트는 epochs가 증가함에 따라 손실이 떨어지고 있으나  \n",
    "> 검증세트는 epoch의 증가에 따라 초반에는 손실이 떨어지나 진행하면 할수록 손실율이 증가한다.  \n",
    "> 이 모델은 훈련세트에는 정확도가 높아 좋지만, 검증세트에는 적합하지 않는 과대적합 모델이다. \n"
   ]
  },
  {
   "cell_type": "markdown",
   "metadata": {},
   "source": [
    "---\n",
    "Optimizer(adam)"
   ]
  },
  {
   "cell_type": "code",
   "execution_count": 34,
   "metadata": {},
   "outputs": [
    {
     "name": "stdout",
     "output_type": "stream",
     "text": [
      "Epoch 1/20\n",
      "1500/1500 [==============================] - 5s 3ms/step - loss: 0.5229 - accuracy: 0.8163 - val_loss: 0.4490 - val_accuracy: 0.8426\n",
      "Epoch 2/20\n",
      "1500/1500 [==============================] - 4s 3ms/step - loss: 0.3922 - accuracy: 0.8595 - val_loss: 0.3855 - val_accuracy: 0.8621\n",
      "Epoch 3/20\n",
      "1500/1500 [==============================] - 4s 3ms/step - loss: 0.3511 - accuracy: 0.8727 - val_loss: 0.3511 - val_accuracy: 0.8750\n",
      "Epoch 4/20\n",
      "1500/1500 [==============================] - 4s 3ms/step - loss: 0.3275 - accuracy: 0.8799 - val_loss: 0.3750 - val_accuracy: 0.8636\n",
      "Epoch 5/20\n",
      "1500/1500 [==============================] - 4s 3ms/step - loss: 0.3039 - accuracy: 0.8882 - val_loss: 0.3343 - val_accuracy: 0.8823\n",
      "Epoch 6/20\n",
      "1500/1500 [==============================] - 4s 3ms/step - loss: 0.2904 - accuracy: 0.8932 - val_loss: 0.3240 - val_accuracy: 0.8848\n",
      "Epoch 7/20\n",
      "1500/1500 [==============================] - 4s 2ms/step - loss: 0.2772 - accuracy: 0.8972 - val_loss: 0.3380 - val_accuracy: 0.8803\n",
      "Epoch 8/20\n",
      "1500/1500 [==============================] - 3s 2ms/step - loss: 0.2647 - accuracy: 0.9021 - val_loss: 0.3439 - val_accuracy: 0.8783\n",
      "Epoch 9/20\n",
      "1500/1500 [==============================] - 4s 2ms/step - loss: 0.2544 - accuracy: 0.9058 - val_loss: 0.3130 - val_accuracy: 0.8878\n",
      "Epoch 10/20\n",
      "1500/1500 [==============================] - 4s 3ms/step - loss: 0.2457 - accuracy: 0.9080 - val_loss: 0.3546 - val_accuracy: 0.8790\n",
      "Epoch 11/20\n",
      "1500/1500 [==============================] - 3s 2ms/step - loss: 0.2371 - accuracy: 0.9106 - val_loss: 0.3278 - val_accuracy: 0.8869\n",
      "Epoch 12/20\n",
      "1500/1500 [==============================] - 3s 2ms/step - loss: 0.2311 - accuracy: 0.9141 - val_loss: 0.3227 - val_accuracy: 0.8861\n",
      "Epoch 13/20\n",
      "1500/1500 [==============================] - 3s 2ms/step - loss: 0.2230 - accuracy: 0.9166 - val_loss: 0.3414 - val_accuracy: 0.8823\n",
      "Epoch 14/20\n",
      "1500/1500 [==============================] - 4s 2ms/step - loss: 0.2152 - accuracy: 0.9206 - val_loss: 0.3338 - val_accuracy: 0.8866\n",
      "Epoch 15/20\n",
      "1500/1500 [==============================] - 3s 2ms/step - loss: 0.2101 - accuracy: 0.9214 - val_loss: 0.3241 - val_accuracy: 0.8883\n",
      "Epoch 16/20\n",
      "1500/1500 [==============================] - 3s 2ms/step - loss: 0.2038 - accuracy: 0.9229 - val_loss: 0.3313 - val_accuracy: 0.8892\n",
      "Epoch 17/20\n",
      "1500/1500 [==============================] - 3s 2ms/step - loss: 0.2008 - accuracy: 0.9262 - val_loss: 0.3433 - val_accuracy: 0.8868\n",
      "Epoch 18/20\n",
      "1500/1500 [==============================] - 3s 2ms/step - loss: 0.1942 - accuracy: 0.9264 - val_loss: 0.3535 - val_accuracy: 0.8830\n",
      "Epoch 19/20\n",
      "1500/1500 [==============================] - 3s 2ms/step - loss: 0.1885 - accuracy: 0.9300 - val_loss: 0.3294 - val_accuracy: 0.8923\n",
      "Epoch 20/20\n",
      "1500/1500 [==============================] - 3s 2ms/step - loss: 0.1844 - accuracy: 0.9301 - val_loss: 0.3428 - val_accuracy: 0.8892\n"
     ]
    }
   ],
   "source": [
    "model = model_fn()\n",
    "model.compile(optimizer='adam' ,loss= 'sparse_categorical_crossentropy', metrics='accuracy')\n",
    "history = model.fit(train_scaled,train_target,epochs = 20,\n",
    "                    validation_data = (val_scaled,val_target)\n",
    ")\n"
   ]
  },
  {
   "cell_type": "code",
   "execution_count": 35,
   "metadata": {},
   "outputs": [
    {
     "data": {
      "image/png": "[encoded data removed]",
      "text/plain": [
       "<Figure size 432x288 with 1 Axes>"
      ]
     },
     "metadata": {
      "needs_background": "light"
     },
     "output_type": "display_data"
    }
   ],
   "source": [
    "\n",
    "plt.plot(\n",
    "    history.history['loss']\n",
    ")\n",
    "plt.plot(\n",
    "    history.history['val_loss']\n",
    ")\n",
    "\n",
    "plt.xlabel('epoch')\n",
    "plt.ylabel('loss')\n",
    "plt.legend(['train','validation'],loc='best')\n",
    "plt.show()"
   ]
  },
  {
   "cell_type": "markdown",
   "metadata": {},
   "source": [
    "> 훈련세트는 epochs가 증가함에 따라 손실이 떨어지고 있으나  \n",
    "> 검증세트는 epoch의 증가에 따라 초반에는 손실이 떨어지나 진행하면 할수록 손실율이 증가한다.  \n",
    "> 이 모델은 훈련세트에는 정확도가 높아 좋지만, 검증세트에는 적합하지 않는 과대적합 모델이다. \n",
    "> Optimizer(최적화 알고리즘을)사용한 것이 좀 더 나은 모델이나 검증손실에 대한 부분(과대적합)은 아직 해결이 않됨   "
   ]
  },
  {
   "cell_type": "markdown",
   "metadata": {},
   "source": [
    "---\n",
    "# Dropout\n",
    "- 규제\n",
    "- 신경망 모델에만 있음\n",
    "- 훈련시에만 각 sample을 처리할 떄 은닉층의 임의의 node를 계산에 포함시키지 않는다.\n",
    "- 랜덤하게 노드를 빼기 때문에 첫번째 샘플 학습할때 포함되지 않는 노드와 두번쨰 샘플 학습시 포함되지않는  노드가 다르다."
   ]
  },
  {
   "cell_type": "code",
   "execution_count": 48,
   "metadata": {},
   "outputs": [
    {
     "name": "stdout",
     "output_type": "stream",
     "text": [
      "Model: \"sequential_10\"\n",
      "_________________________________________________________________\n",
      " Layer (type)                Output Shape              Param #   \n",
      "=================================================================\n",
      " flatten_10 (Flatten)        (None, 784)               0         \n",
      "                                                                 \n",
      " dense_20 (Dense)            (None, 100)               78500     \n",
      "                                                                 \n",
      " dropout_3 (Dropout)         (None, 100)               0         \n",
      "                                                                 \n",
      " dense_21 (Dense)            (None, 10)                1010      \n",
      "                                                                 \n",
      "=================================================================\n",
      "Total params: 79,510\n",
      "Trainable params: 79,510\n",
      "Non-trainable params: 0\n",
      "_________________________________________________________________\n"
     ]
    }
   ],
   "source": [
    "# model의 dropout을 추가해서 사용\n",
    "\n",
    "model = model_fn(keras.layers.Dropout(0.3) ) # drop out을 30% \n",
    "model.summary()\n"
   ]
  },
  {
   "cell_type": "code",
   "execution_count": 49,
   "metadata": {},
   "outputs": [
    {
     "name": "stdout",
     "output_type": "stream",
     "text": [
      "Epoch 1/20\n",
      "1500/1500 [==============================] - 4s 2ms/step - loss: 0.6013 - accuracy: 0.7871 - val_loss: 0.4472 - val_accuracy: 0.8332\n",
      "Epoch 2/20\n",
      "1500/1500 [==============================] - 3s 2ms/step - loss: 0.4418 - accuracy: 0.8415 - val_loss: 0.3823 - val_accuracy: 0.8583\n",
      "Epoch 3/20\n",
      "1500/1500 [==============================] - 3s 2ms/step - loss: 0.4085 - accuracy: 0.8518 - val_loss: 0.3744 - val_accuracy: 0.8601\n",
      "Epoch 4/20\n",
      "1500/1500 [==============================] - 4s 2ms/step - loss: 0.3846 - accuracy: 0.8588 - val_loss: 0.3609 - val_accuracy: 0.8713\n",
      "Epoch 5/20\n",
      "1500/1500 [==============================] - 4s 2ms/step - loss: 0.3702 - accuracy: 0.8650 - val_loss: 0.3596 - val_accuracy: 0.8637\n",
      "Epoch 6/20\n",
      "1500/1500 [==============================] - 4s 2ms/step - loss: 0.3578 - accuracy: 0.8675 - val_loss: 0.3457 - val_accuracy: 0.8697\n",
      "Epoch 7/20\n",
      "1500/1500 [==============================] - 4s 2ms/step - loss: 0.3477 - accuracy: 0.8721 - val_loss: 0.3334 - val_accuracy: 0.8786\n",
      "Epoch 8/20\n",
      "1500/1500 [==============================] - 4s 3ms/step - loss: 0.3369 - accuracy: 0.8756 - val_loss: 0.3296 - val_accuracy: 0.8811\n",
      "Epoch 9/20\n",
      "1500/1500 [==============================] - 4s 2ms/step - loss: 0.3296 - accuracy: 0.8778 - val_loss: 0.3209 - val_accuracy: 0.8841\n",
      "Epoch 10/20\n",
      "1500/1500 [==============================] - 4s 2ms/step - loss: 0.3276 - accuracy: 0.8805 - val_loss: 0.3343 - val_accuracy: 0.8804\n",
      "Epoch 11/20\n",
      "1500/1500 [==============================] - 4s 3ms/step - loss: 0.3197 - accuracy: 0.8806 - val_loss: 0.3173 - val_accuracy: 0.8832\n",
      "Epoch 12/20\n",
      "1500/1500 [==============================] - 4s 3ms/step - loss: 0.3094 - accuracy: 0.8865 - val_loss: 0.3225 - val_accuracy: 0.8865\n",
      "Epoch 13/20\n",
      "1500/1500 [==============================] - 3s 2ms/step - loss: 0.3076 - accuracy: 0.8857 - val_loss: 0.3317 - val_accuracy: 0.8815\n",
      "Epoch 14/20\n",
      "1500/1500 [==============================] - 3s 2ms/step - loss: 0.3044 - accuracy: 0.8880 - val_loss: 0.3214 - val_accuracy: 0.8833\n",
      "Epoch 15/20\n",
      "1500/1500 [==============================] - 3s 2ms/step - loss: 0.3006 - accuracy: 0.8870 - val_loss: 0.3280 - val_accuracy: 0.8842\n",
      "Epoch 16/20\n",
      "1500/1500 [==============================] - 4s 2ms/step - loss: 0.2947 - accuracy: 0.8894 - val_loss: 0.3254 - val_accuracy: 0.8806\n",
      "Epoch 17/20\n",
      "1500/1500 [==============================] - 3s 2ms/step - loss: 0.2910 - accuracy: 0.8907 - val_loss: 0.3175 - val_accuracy: 0.8877\n",
      "Epoch 18/20\n",
      "1500/1500 [==============================] - 4s 2ms/step - loss: 0.2845 - accuracy: 0.8915 - val_loss: 0.3159 - val_accuracy: 0.8858\n",
      "Epoch 19/20\n",
      "1500/1500 [==============================] - 4s 2ms/step - loss: 0.2851 - accuracy: 0.8934 - val_loss: 0.3202 - val_accuracy: 0.8893\n",
      "Epoch 20/20\n",
      "1500/1500 [==============================] - 3s 2ms/step - loss: 0.2795 - accuracy: 0.8948 - val_loss: 0.3300 - val_accuracy: 0.8827\n"
     ]
    }
   ],
   "source": [
    "model.compile(optimizer='adam' ,loss= 'sparse_categorical_crossentropy', metrics='accuracy')\n",
    "history = model.fit(train_scaled,train_target,epochs = 20,\n",
    "                    validation_data = (val_scaled,val_target)\n",
    ")"
   ]
  },
  {
   "cell_type": "code",
   "execution_count": 50,
   "metadata": {},
   "outputs": [
    {
     "data": {
      "image/png": "[encoded data removed]",
      "text/plain": [
       "<Figure size 432x288 with 1 Axes>"
      ]
     },
     "metadata": {
      "needs_background": "light"
     },
     "output_type": "display_data"
    }
   ],
   "source": [
    "\n",
    "plt.plot(\n",
    "    history.history['loss']\n",
    ")\n",
    "plt.plot(\n",
    "    history.history['val_loss']\n",
    ")\n",
    "\n",
    "plt.xlabel('epoch')\n",
    "plt.ylabel('loss')\n",
    "plt.legend(['train','validation'],loc='best')\n",
    "plt.show()"
   ]
  },
  {
   "cell_type": "markdown",
   "metadata": {},
   "source": [
    "> epochs가 10일 경우가 train과 val의 차이가 적은 것 같다.  \n",
    "> 기본적으로 훈련세트와 손실이 검증세트보다 적게 나오는 epochs의 갯수를 선택한다.  "
   ]
  },
  {
   "cell_type": "markdown",
   "metadata": {},
   "source": [
    "---\n",
    "### 모델의 저장과 복원\n",
    "- hdf5 format으로 저장"
   ]
  },
  {
   "cell_type": "code",
   "execution_count": 51,
   "metadata": {},
   "outputs": [],
   "source": [
    "# model 저장\n",
    "model.save('../Data/model-whole.h5')"
   ]
  },
  {
   "cell_type": "code",
   "execution_count": 52,
   "metadata": {},
   "outputs": [],
   "source": [
    "# 복원 \n",
    "model = keras.models.load_model(\"../Data/model-whole.h5\")"
   ]
  },
  {
   "cell_type": "code",
   "execution_count": 53,
   "metadata": {},
   "outputs": [
    {
     "name": "stdout",
     "output_type": "stream",
     "text": [
      "375/375 [==============================] - 1s 2ms/step - loss: 0.3300 - accuracy: 0.8827\n"
     ]
    },
    {
     "data": {
      "text/plain": [
       "[0.3300391733646393, 0.8826666474342346]"
      ]
     },
     "execution_count": 53,
     "metadata": {},
     "output_type": "execute_result"
    }
   ],
   "source": [
    "# 사용 \n",
    "model.evaluate(val_scaled,val_target)"
   ]
  },
  {
   "cell_type": "markdown",
   "metadata": {},
   "source": [
    "---\n",
    "# Callbacks\n",
    "- 훈련 수행 시 손실값이 제일 작은 함수를 저장해 준다. <- 굉장히 편함\n",
    "\n"
   ]
  },
  {
   "cell_type": "code",
   "execution_count": 56,
   "metadata": {},
   "outputs": [
    {
     "name": "stdout",
     "output_type": "stream",
     "text": [
      "Epoch 1/20\n",
      "1500/1500 [==============================] - 4s 2ms/step - loss: 0.5909 - accuracy: 0.7900 - val_loss: 0.4278 - val_accuracy: 0.8483\n",
      "Epoch 2/20\n",
      "1500/1500 [==============================] - 4s 2ms/step - loss: 0.4425 - accuracy: 0.8418 - val_loss: 0.3842 - val_accuracy: 0.8606\n",
      "Epoch 3/20\n",
      "1500/1500 [==============================] - 5s 3ms/step - loss: 0.4059 - accuracy: 0.8520 - val_loss: 0.3636 - val_accuracy: 0.8681\n",
      "Epoch 4/20\n",
      "1500/1500 [==============================] - 5s 4ms/step - loss: 0.3841 - accuracy: 0.8591 - val_loss: 0.3492 - val_accuracy: 0.8720\n",
      "Epoch 5/20\n",
      "1500/1500 [==============================] - 3s 2ms/step - loss: 0.3683 - accuracy: 0.8655 - val_loss: 0.3656 - val_accuracy: 0.8681\n",
      "Epoch 6/20\n",
      "1500/1500 [==============================] - 3s 2ms/step - loss: 0.3577 - accuracy: 0.8699 - val_loss: 0.3493 - val_accuracy: 0.8731\n",
      "Epoch 7/20\n",
      "1500/1500 [==============================] - 3s 2ms/step - loss: 0.3467 - accuracy: 0.8742 - val_loss: 0.3382 - val_accuracy: 0.8754\n",
      "Epoch 8/20\n",
      "1500/1500 [==============================] - 4s 2ms/step - loss: 0.3372 - accuracy: 0.8767 - val_loss: 0.3313 - val_accuracy: 0.8783\n",
      "Epoch 9/20\n",
      "1500/1500 [==============================] - 3s 2ms/step - loss: 0.3298 - accuracy: 0.8767 - val_loss: 0.3262 - val_accuracy: 0.8810\n",
      "Epoch 10/20\n",
      "1500/1500 [==============================] - 3s 2ms/step - loss: 0.3235 - accuracy: 0.8801 - val_loss: 0.3289 - val_accuracy: 0.8795\n",
      "Epoch 11/20\n",
      "1500/1500 [==============================] - 4s 2ms/step - loss: 0.3186 - accuracy: 0.8818 - val_loss: 0.3259 - val_accuracy: 0.8805\n",
      "Epoch 12/20\n",
      "1500/1500 [==============================] - 3s 2ms/step - loss: 0.3113 - accuracy: 0.8839 - val_loss: 0.3255 - val_accuracy: 0.8823\n",
      "Epoch 13/20\n",
      "1500/1500 [==============================] - 3s 2ms/step - loss: 0.3087 - accuracy: 0.8849 - val_loss: 0.3349 - val_accuracy: 0.8776\n",
      "Epoch 14/20\n",
      "1500/1500 [==============================] - 3s 2ms/step - loss: 0.3014 - accuracy: 0.8875 - val_loss: 0.3204 - val_accuracy: 0.8825\n",
      "Epoch 15/20\n",
      "1500/1500 [==============================] - 3s 2ms/step - loss: 0.2992 - accuracy: 0.8885 - val_loss: 0.3175 - val_accuracy: 0.8843\n",
      "Epoch 16/20\n",
      "1500/1500 [==============================] - 3s 2ms/step - loss: 0.2958 - accuracy: 0.8884 - val_loss: 0.3168 - val_accuracy: 0.8851\n",
      "Epoch 17/20\n",
      "1500/1500 [==============================] - 3s 2ms/step - loss: 0.2935 - accuracy: 0.8890 - val_loss: 0.3359 - val_accuracy: 0.8784\n",
      "Epoch 18/20\n",
      "1500/1500 [==============================] - 4s 2ms/step - loss: 0.2898 - accuracy: 0.8916 - val_loss: 0.3302 - val_accuracy: 0.8836\n",
      "Epoch 19/20\n",
      "1500/1500 [==============================] - 3s 2ms/step - loss: 0.2849 - accuracy: 0.8915 - val_loss: 0.3262 - val_accuracy: 0.8849\n",
      "Epoch 20/20\n",
      "1500/1500 [==============================] - 3s 2ms/step - loss: 0.2844 - accuracy: 0.8933 - val_loss: 0.3205 - val_accuracy: 0.8838\n"
     ]
    }
   ],
   "source": [
    "model = model_fn(keras.layers.Dropout(0.3) ) # drop out을 30% \n",
    "\n",
    "model.compile(optimizer='adam' ,loss= 'sparse_categorical_crossentropy', metrics='accuracy')\n",
    "checkpoint_cb = keras.callbacks.ModelCheckpoint(\"../Data/best-model.h5\")\n",
    "history2 = model.fit(train_scaled,train_target,epochs = 20,\n",
    "                    validation_data = (val_scaled,val_target),\n",
    "                    callbacks= [checkpoint_cb]\n",
    "        )"
   ]
  },
  {
   "cell_type": "code",
   "execution_count": 61,
   "metadata": {},
   "outputs": [
    {
     "data": {
      "text/plain": [
       "dict_keys(['loss', 'accuracy', 'val_loss', 'val_accuracy'])"
      ]
     },
     "execution_count": 61,
     "metadata": {},
     "output_type": "execute_result"
    }
   ],
   "source": [
    "history2.history.keys()"
   ]
  },
  {
   "cell_type": "code",
   "execution_count": 59,
   "metadata": {},
   "outputs": [
    {
     "name": "stdout",
     "output_type": "stream",
     "text": [
      "375/375 [==============================] - 1s 2ms/step - loss: 0.3205 - accuracy: 0.8838\n"
     ]
    },
    {
     "data": {
      "text/plain": [
       "[0.3204779028892517, 0.8838333487510681]"
      ]
     },
     "execution_count": 59,
     "metadata": {},
     "output_type": "execute_result"
    }
   ],
   "source": [
    "model= keras.models.load_model(\"../Data/best-model.h5\")\n",
    "model.evaluate(val_scaled,val_target)"
   ]
  },
  {
   "cell_type": "markdown",
   "metadata": {},
   "source": [
    "---\n",
    "# Early-Stopping(조기종료)\n",
    "- callbacks처럼 끝까지 기다리는 것이 아니고 hyper parameter을 선정하여 한계값을 정해 실행한다."
   ]
  },
  {
   "cell_type": "code",
   "execution_count": 67,
   "metadata": {},
   "outputs": [
    {
     "name": "stdout",
     "output_type": "stream",
     "text": [
      "Epoch 1/20\n",
      "1500/1500 [==============================] - 4s 3ms/step - loss: 0.5863 - accuracy: 0.7942 - val_loss: 0.4497 - val_accuracy: 0.8313\n",
      "Epoch 2/20\n",
      "1500/1500 [==============================] - 4s 2ms/step - loss: 0.4401 - accuracy: 0.8423 - val_loss: 0.3934 - val_accuracy: 0.8557\n",
      "Epoch 3/20\n",
      "1500/1500 [==============================] - 4s 2ms/step - loss: 0.4006 - accuracy: 0.8561 - val_loss: 0.3766 - val_accuracy: 0.8608\n",
      "Epoch 4/20\n",
      "1500/1500 [==============================] - 4s 2ms/step - loss: 0.3843 - accuracy: 0.8606 - val_loss: 0.3589 - val_accuracy: 0.8640\n",
      "Epoch 5/20\n",
      "1500/1500 [==============================] - 3s 2ms/step - loss: 0.3661 - accuracy: 0.8658 - val_loss: 0.3395 - val_accuracy: 0.8755\n",
      "Epoch 6/20\n",
      "1500/1500 [==============================] - 3s 2ms/step - loss: 0.3560 - accuracy: 0.8702 - val_loss: 0.3327 - val_accuracy: 0.8789\n",
      "Epoch 7/20\n",
      "1500/1500 [==============================] - 4s 2ms/step - loss: 0.3423 - accuracy: 0.8744 - val_loss: 0.3285 - val_accuracy: 0.8802\n",
      "Epoch 8/20\n",
      "1500/1500 [==============================] - 3s 2ms/step - loss: 0.3363 - accuracy: 0.8769 - val_loss: 0.3282 - val_accuracy: 0.8796\n",
      "Epoch 9/20\n",
      "1500/1500 [==============================] - 4s 3ms/step - loss: 0.3285 - accuracy: 0.8792 - val_loss: 0.3311 - val_accuracy: 0.8792\n",
      "Epoch 10/20\n",
      "1500/1500 [==============================] - 4s 3ms/step - loss: 0.3188 - accuracy: 0.8821 - val_loss: 0.3270 - val_accuracy: 0.8793\n",
      "Epoch 11/20\n",
      "1500/1500 [==============================] - 4s 3ms/step - loss: 0.3139 - accuracy: 0.8827 - val_loss: 0.3226 - val_accuracy: 0.8808\n",
      "Epoch 12/20\n",
      "1500/1500 [==============================] - 4s 3ms/step - loss: 0.3088 - accuracy: 0.8842 - val_loss: 0.3282 - val_accuracy: 0.8802\n",
      "Epoch 13/20\n",
      "1500/1500 [==============================] - 4s 2ms/step - loss: 0.3035 - accuracy: 0.8864 - val_loss: 0.3227 - val_accuracy: 0.8821\n"
     ]
    }
   ],
   "source": [
    "model = model_fn(keras.layers.Dropout(0.3) ) # drop out을 30% \n",
    "\n",
    "model.compile(optimizer='adam' ,loss= 'sparse_categorical_crossentropy', metrics='accuracy')\n",
    "checkpoint_cb = keras.callbacks.ModelCheckpoint(\"../Data/best-model.h5\")\n",
    "early_stopping_cb = keras.callbacks.EarlyStopping(patience = 2,restore_best_weights=True) ## patience 는 로스?인가 정확도? 둘중하나 가 감소되다가 올라가는 것을 참는 횟수, restore~ 는 꼭해야됨 참기전 최솟값을 저장해주는 옵션\n",
    "history2 = model.fit(train_scaled,train_target,epochs = 20,\n",
    "                    validation_data = (val_scaled,val_target),\n",
    "                    callbacks= [checkpoint_cb,early_stopping_cb]\n",
    "        )"
   ]
  },
  {
   "cell_type": "code",
   "execution_count": 66,
   "metadata": {},
   "outputs": [
    {
     "data": {
      "text/plain": [
       "0"
      ]
     },
     "execution_count": 66,
     "metadata": {},
     "output_type": "execute_result"
    }
   ],
   "source": [
    "# 몇번쨰 epochs에서 stop 되었는 가? \n",
    "early_stopping_cb.stopped_epoch"
   ]
  },
  {
   "cell_type": "code",
   "execution_count": 65,
   "metadata": {},
   "outputs": [
    {
     "data": {
      "image/png": "[encoded data removed]",
      "text/plain": [
       "<Figure size 432x288 with 1 Axes>"
      ]
     },
     "metadata": {
      "needs_background": "light"
     },
     "output_type": "display_data"
    }
   ],
   "source": [
    "\n",
    "plt.plot(\n",
    "    history.history['loss']\n",
    ")\n",
    "plt.plot(\n",
    "    history.history['val_loss']\n",
    ")\n",
    "\n",
    "plt.xlabel('epoch')\n",
    "plt.ylabel('loss')\n",
    "plt.legend(['train','validation'],loc='best')\n",
    "plt.show()"
   ]
  },
  {
   "cell_type": "code",
   "execution_count": null,
   "metadata": {},
   "outputs": [],
   "source": []
  },
  {
   "cell_type": "code",
   "execution_count": null,
   "metadata": {},
   "outputs": [],
   "source": []
  },
  {
   "cell_type": "code",
   "execution_count": 36,
   "metadata": {},
   "outputs": [
    {
     "name": "stdout",
     "output_type": "stream",
     "text": [
      "Epoch 1/20\n",
      "1500/1500 [==============================] - 4s 2ms/step - loss: 0.7888 - accuracy: 0.7429 - val_loss: 0.5973 - val_accuracy: 0.8005\n",
      "Epoch 2/20\n",
      "1500/1500 [==============================] - 3s 2ms/step - loss: 0.5385 - accuracy: 0.8175 - val_loss: 0.5301 - val_accuracy: 0.8163\n",
      "Epoch 3/20\n",
      "1500/1500 [==============================] - 3s 2ms/step - loss: 0.4899 - accuracy: 0.8323 - val_loss: 0.4787 - val_accuracy: 0.8342\n",
      "Epoch 4/20\n",
      "1500/1500 [==============================] - 3s 2ms/step - loss: 0.4637 - accuracy: 0.8397 - val_loss: 0.4586 - val_accuracy: 0.8394\n",
      "Epoch 5/20\n",
      "1500/1500 [==============================] - 3s 2ms/step - loss: 0.4459 - accuracy: 0.8457 - val_loss: 0.4454 - val_accuracy: 0.8442\n",
      "Epoch 6/20\n",
      "1500/1500 [==============================] - 3s 2ms/step - loss: 0.4327 - accuracy: 0.8506 - val_loss: 0.4388 - val_accuracy: 0.8478\n",
      "Epoch 7/20\n",
      "1500/1500 [==============================] - 3s 2ms/step - loss: 0.4213 - accuracy: 0.8537 - val_loss: 0.4474 - val_accuracy: 0.8448\n",
      "Epoch 8/20\n",
      "1500/1500 [==============================] - 3s 2ms/step - loss: 0.4117 - accuracy: 0.8580 - val_loss: 0.4162 - val_accuracy: 0.8520\n",
      "Epoch 9/20\n",
      "1500/1500 [==============================] - 3s 2ms/step - loss: 0.4028 - accuracy: 0.8611 - val_loss: 0.4315 - val_accuracy: 0.8476\n",
      "Epoch 10/20\n",
      "1500/1500 [==============================] - 3s 2ms/step - loss: 0.3952 - accuracy: 0.8630 - val_loss: 0.4053 - val_accuracy: 0.8565\n",
      "Epoch 11/20\n",
      "1500/1500 [==============================] - 3s 2ms/step - loss: 0.3885 - accuracy: 0.8648 - val_loss: 0.3992 - val_accuracy: 0.8594\n",
      "Epoch 12/20\n",
      "1500/1500 [==============================] - 3s 2ms/step - loss: 0.3801 - accuracy: 0.8669 - val_loss: 0.4144 - val_accuracy: 0.8508\n",
      "Epoch 13/20\n",
      "1500/1500 [==============================] - 3s 2ms/step - loss: 0.3745 - accuracy: 0.8702 - val_loss: 0.3970 - val_accuracy: 0.8627\n",
      "Epoch 14/20\n",
      "1500/1500 [==============================] - 3s 2ms/step - loss: 0.3684 - accuracy: 0.8730 - val_loss: 0.3892 - val_accuracy: 0.8630\n",
      "Epoch 15/20\n",
      "1500/1500 [==============================] - 3s 2ms/step - loss: 0.3636 - accuracy: 0.8733 - val_loss: 0.3891 - val_accuracy: 0.8616\n",
      "Epoch 16/20\n",
      "1500/1500 [==============================] - 3s 2ms/step - loss: 0.3579 - accuracy: 0.8762 - val_loss: 0.3732 - val_accuracy: 0.8671\n",
      "Epoch 17/20\n",
      "1500/1500 [==============================] - 3s 2ms/step - loss: 0.3528 - accuracy: 0.8765 - val_loss: 0.3701 - val_accuracy: 0.8669\n",
      "Epoch 18/20\n",
      "1500/1500 [==============================] - 3s 2ms/step - loss: 0.3472 - accuracy: 0.8783 - val_loss: 0.3749 - val_accuracy: 0.8658\n",
      "Epoch 19/20\n",
      "1500/1500 [==============================] - 3s 2ms/step - loss: 0.3442 - accuracy: 0.8795 - val_loss: 0.3700 - val_accuracy: 0.8670\n",
      "Epoch 20/20\n",
      "1500/1500 [==============================] - 3s 2ms/step - loss: 0.3396 - accuracy: 0.8820 - val_loss: 0.3638 - val_accuracy: 0.8697\n"
     ]
    }
   ],
   "source": [
    "model = model_fn()\n",
    "\n",
    "model = model_fn()\n",
    "model.compile(optimizer='sgd' ,loss= 'sparse_categorical_crossentropy', metrics='accuracy')\n",
    "history = model.fit(train_scaled,train_target,epochs = 20,\n",
    "                    validation_data = (val_scaled,val_target)\n",
    ")\n"
   ]
  },
  {
   "cell_type": "code",
   "execution_count": 37,
   "metadata": {},
   "outputs": [
    {
     "data": {
      "image/png": "[encoded data removed]",
      "text/plain": [
       "<Figure size 432x288 with 1 Axes>"
      ]
     },
     "metadata": {
      "needs_background": "light"
     },
     "output_type": "display_data"
    }
   ],
   "source": [
    "plt.plot(\n",
    "    history.history['loss']\n",
    ")\n",
    "plt.plot(\n",
    "    history.history['val_loss']\n",
    ")\n",
    "\n",
    "plt.xlabel('epoch')\n",
    "plt.ylabel('loss')\n",
    "plt.legend(['train','validation'],loc='best')\n",
    "plt.show()"
   ]
  },
  {
   "cell_type": "code",
   "execution_count": null,
   "metadata": {},
   "outputs": [],
   "source": []
  }
 ],
 "metadata": {
  "kernelspec": {
   "display_name": "Python 3.9.7 ('base')",
   "language": "python",
   "name": "python3"
  },
  "language_info": {
   "codemirror_mode": {
    "name": "ipython",
    "version": 3
   },
   "file_extension": ".py",
   "mimetype": "text/x-python",
   "name": "python",
   "nbconvert_exporter": "python",
   "pygments_lexer": "ipython3",
   "version": "3.9.7"
  },
  "orig_nbformat": 4,
  "vscode": {
   "interpreter": {
    "hash": "c34e8390e776d2ee205b71ed5a6130fee3cef8da5e87e926ce18e14f4a070d72"
   }
  }
 },
 "nbformat": 4,
 "nbformat_minor": 2
}
