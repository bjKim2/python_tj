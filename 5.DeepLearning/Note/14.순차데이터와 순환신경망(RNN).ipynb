{
 "cells": [
  {
   "cell_type": "markdown",
   "metadata": {},
   "source": [
    "# RNN (Recurrent Neural Network, 순환신경망 )\n",
    "- 순환데이터, 순환신경망 \n",
    "- 텍스트 데이터(ex: I am a boy) : 순서가 의미가 있다. \n",
    "- 시계열 데이터(ex: 1일 10도, 2일 8도)\n",
    "- cell, timestep \n"
   ]
  },
  {
   "cell_type": "markdown",
   "metadata": {},
   "source": [
    "## IMDB 데이터로 RNN 수행 \n",
    "- IMDB(Internet Movie Data Base)\n",
    "- 구성 : train data(25000개 중 긍정 12500개, 부정 12500) / test data(25000개 중 긍정 12500, 부정 12500) <br><br>\n",
    "***<용어>*** \n",
    "- NLP : Natural Language Processing(자연어 처리)\n",
    "- 말뭉치 : 하나의 데이터셋\n",
    "- 토큰(token) : 하나의 단어\n",
    "- 어휘사전 : 번호로 구분된 유힐한 단어들의 집단 \n",
    "- 머신러닝,딥러닝 에서는 데이터가 숫자로 구성되어 있어야 함으로 단어에 고유 번호를 할당해 사용 \n"
   ]
  },
  {
   "cell_type": "code",
   "execution_count": 1,
   "metadata": {},
   "outputs": [],
   "source": [
    "from tensorflow.keras.datasets import imdb\n",
    "(train_input, train_target), (test_input, test_target) = imdb.load_data(num_words=500) # 500개 단어만 불러 쓴다 "
   ]
  },
  {
   "cell_type": "code",
   "execution_count": 2,
   "metadata": {},
   "outputs": [
    {
     "name": "stdout",
     "output_type": "stream",
     "text": [
      "(25000,) (25000,)\n"
     ]
    }
   ],
   "source": [
    "print(train_input.shape, test_input.shape)"
   ]
  },
  {
   "cell_type": "code",
   "execution_count": 4,
   "metadata": {},
   "outputs": [
    {
     "data": {
      "text/plain": [
       "218"
      ]
     },
     "execution_count": 4,
     "metadata": {},
     "output_type": "execute_result"
    }
   ],
   "source": [
    "# train의 첫번째 문장의 Token 갯수\n",
    "len(train_input[0])"
   ]
  },
  {
   "cell_type": "code",
   "execution_count": 5,
   "metadata": {},
   "outputs": [
    {
     "data": {
      "text/plain": [
       "189"
      ]
     },
     "execution_count": 5,
     "metadata": {},
     "output_type": "execute_result"
    }
   ],
   "source": [
    "# train의 두번째 문장 token 갯수 \n",
    "len(train_input[1])"
   ]
  },
  {
   "cell_type": "code",
   "execution_count": 6,
   "metadata": {},
   "outputs": [
    {
     "name": "stdout",
     "output_type": "stream",
     "text": [
      "[1, 14, 22, 16, 43, 2, 2, 2, 2, 65, 458, 2, 66, 2, 4, 173, 36, 256, 5, 25, 100, 43, 2, 112, 50, 2, 2, 9, 35, 480, 284, 5, 150, 4, 172, 112, 167, 2, 336, 385, 39, 4, 172, 2, 2, 17, 2, 38, 13, 447, 4, 192, 50, 16, 6, 147, 2, 19, 14, 22, 4, 2, 2, 469, 4, 22, 71, 87, 12, 16, 43, 2, 38, 76, 15, 13, 2, 4, 22, 17, 2, 17, 12, 16, 2, 18, 2, 5, 62, 386, 12, 8, 316, 8, 106, 5, 4, 2, 2, 16, 480, 66, 2, 33, 4, 130, 12, 16, 38, 2, 5, 25, 124, 51, 36, 135, 48, 25, 2, 33, 6, 22, 12, 215, 28, 77, 52, 5, 14, 407, 16, 82, 2, 8, 4, 107, 117, 2, 15, 256, 4, 2, 7, 2, 5, 2, 36, 71, 43, 2, 476, 26, 400, 317, 46, 7, 4, 2, 2, 13, 104, 88, 4, 381, 15, 297, 98, 32, 2, 56, 26, 141, 6, 194, 2, 18, 4, 226, 22, 21, 134, 476, 26, 480, 5, 144, 30, 2, 18, 51, 36, 28, 224, 92, 25, 104, 4, 226, 65, 16, 38, 2, 88, 12, 16, 283, 5, 16, 2, 113, 103, 32, 15, 16, 2, 19, 178, 32]\n"
     ]
    }
   ],
   "source": [
    "# 첫번째 댓글 출력\n",
    "print(train_input[0])"
   ]
  },
  {
   "cell_type": "markdown",
   "metadata": {},
   "source": [
    "> 샘플의 시작 부분 토큰은 1을 사용 한다.     \n",
    "> 자주 보이는 2는 선정한 단어 갯수에 포함되지 않는 단어를 표현한다. (우리가 500개를 달라고 했는데, 거기에 해당안되는 단어를 2로 표현함)   \n",
    "> train_input 자체는 numpy 배열이나, 댓글에 사용된 토큰 수(문장 길이가 다름)가 다르기 때문에 numpy 배열을 사용할 수 없고 python list를 사용한다. "
   ]
  },
  {
   "cell_type": "code",
   "execution_count": 7,
   "metadata": {},
   "outputs": [
    {
     "name": "stdout",
     "output_type": "stream",
     "text": [
      "[1 0 0 1 0 0 1 0 1 0]\n"
     ]
    }
   ],
   "source": [
    "# train의 target 출력\n",
    "print(train_target[:10]) # 1은 좋아요 0은 나빠요"
   ]
  },
  {
   "cell_type": "code",
   "execution_count": 3,
   "metadata": {},
   "outputs": [],
   "source": [
    "# train data / val data split \n",
    "from sklearn.model_selection import train_test_split\n",
    "train_input, val_input, train_target, val_target = train_test_split(train_input, train_target, test_size=0.2, random_state=42)"
   ]
  },
  {
   "cell_type": "code",
   "execution_count": 9,
   "metadata": {},
   "outputs": [
    {
     "name": "stdout",
     "output_type": "stream",
     "text": [
      "239.00925 178.0\n"
     ]
    }
   ],
   "source": [
    "# 각 리뷰의 문장 길이 평균, 중앙값\n",
    "import numpy as np\n",
    "lengths = np.array([len(x) for x in train_input])\n",
    "print(np.mean(lengths), np.median(lengths))"
   ]
  },
  {
   "cell_type": "markdown",
   "metadata": {},
   "source": [
    "> 평균값이 더 높음. (오른쪽으로 치우친 모양, 특히 더 긴 리뷰들이 있었구나)      \n",
    "> 중앙값은 항상 중간에 있는 값인데 평균이 더 오른쪽(높다)이라는 건 길이 긴게 더 많았다는 것!  "
   ]
  },
  {
   "cell_type": "code",
   "execution_count": 10,
   "metadata": {},
   "outputs": [
    {
     "data": {
      "image/png": "[encoded data removed]",
      "text/plain": [
       "<Figure size 432x288 with 1 Axes>"
      ]
     },
     "metadata": {
      "needs_background": "light"
     },
     "output_type": "display_data"
    }
   ],
   "source": [
    "import matplotlib.pyplot as plt\n",
    "plt.hist(lengths)\n",
    "plt.xlabel('length')\n",
    "plt.ylabel('frequency')\n",
    "plt.show()"
   ]
  },
  {
   "cell_type": "markdown",
   "metadata": {},
   "source": [
    "---\n",
    "### Sequencial Padding\n",
    "- 전체 자릿수를 100으로 가정했을 경우 한문장에 3개 토큰만 있을 경우 나머지 97개는 비워지고 이를 0으로 채우는 과정"
   ]
  },
  {
   "cell_type": "code",
   "execution_count": 4,
   "metadata": {},
   "outputs": [],
   "source": [
    "from tensorflow.keras.preprocessing.sequence import pad_sequences\n",
    "\n",
    "train_seq = pad_sequences(train_input, maxlen=100) # 위의 차트에서 100개 부분이 제일 많은 것 같아 100개의 토큰만 사용\n",
    "val_seq = pad_sequences(val_input, maxlen= 100)"
   ]
  },
  {
   "cell_type": "code",
   "execution_count": 12,
   "metadata": {},
   "outputs": [
    {
     "name": "stdout",
     "output_type": "stream",
     "text": [
      "(20000, 100)\n"
     ]
    }
   ],
   "source": [
    "# 크기 확인\n",
    "print(train_seq.shape)"
   ]
  },
  {
   "cell_type": "markdown",
   "metadata": {},
   "source": [
    "> 25000개의 훈련세트 중 500개는 검증세트로 빠짐"
   ]
  },
  {
   "cell_type": "code",
   "execution_count": 13,
   "metadata": {},
   "outputs": [
    {
     "name": "stdout",
     "output_type": "stream",
     "text": [
      "[ 10   4  20   9   2 364 352   5  45   6   2   2  33 269   8   2 142   2\n",
      "   5   2  17  73  17 204   5   2  19  55   2   2  92  66 104  14  20  93\n",
      "  76   2 151  33   4  58  12 188   2 151  12 215  69 224 142  73 237   6\n",
      "   2   7   2   2 188   2 103  14  31  10  10 451   7   2   5   2  80  91\n",
      "   2  30   2  34  14  20 151  50  26 131  49   2  84  46  50  37  80  79\n",
      "   6   2  46   7  14  20  10  10 470 158]\n"
     ]
    }
   ],
   "source": [
    "# 첫번째 댓글 확인\n",
    "print(train_seq[0])"
   ]
  },
  {
   "cell_type": "code",
   "execution_count": 14,
   "metadata": {},
   "outputs": [
    {
     "name": "stdout",
     "output_type": "stream",
     "text": [
      "[6, 2, 46, 7, 14, 20, 10, 10, 470, 158]\n"
     ]
    }
   ],
   "source": [
    "# 원본의 첫번째 댓글의 마지막 10개만 출력\n",
    "print(train_input[0][-10:])"
   ]
  },
  {
   "cell_type": "markdown",
   "metadata": {},
   "source": [
    "> 뒤에 토큰이 다 있는것으로 보아 긴문장이었기 때문에 앞부분 짤림 "
   ]
  },
  {
   "cell_type": "code",
   "execution_count": 15,
   "metadata": {},
   "outputs": [
    {
     "name": "stdout",
     "output_type": "stream",
     "text": [
      "[  0   0   0   0   1   2 195  19  49   2   2 190   4   2 352   2 183  10\n",
      "  10  13  82  79   4   2  36  71 269   8   2  25  19  49   7   4   2   2\n",
      "   2   2   2  10  10  48  25  40   2  11   2   2  40   2   2   5   4   2\n",
      "   2  95  14 238  56 129   2  10  10  21   2  94 364 352   2   2  11 190\n",
      "  24 484   2   7  94 205 405  10  10  87   2  34  49   2   7   2   2   2\n",
      "   2   2 290   2  46  48  64  18   4   2]\n"
     ]
    }
   ],
   "source": [
    "print(train_seq[5])"
   ]
  },
  {
   "cell_type": "markdown",
   "metadata": {},
   "source": [
    "---\n",
    "# 순환 신경망 모델 만들기"
   ]
  },
  {
   "cell_type": "code",
   "execution_count": 5,
   "metadata": {},
   "outputs": [
    {
     "name": "stderr",
     "output_type": "stream",
     "text": [
      "2022-07-22 11:34:50.517283: I tensorflow/core/platform/cpu_feature_guard.cc:193] This TensorFlow binary is optimized with oneAPI Deep Neural Network Library (oneDNN) to use the following CPU instructions in performance-critical operations:  AVX2 FMA\n",
      "To enable them in other operations, rebuild TensorFlow with the appropriate compiler flags.\n"
     ]
    }
   ],
   "source": [
    "from tensorflow import keras\n",
    "\n",
    "model = keras.Sequential()\n",
    "model.add(keras.layers.SimpleRNN(8,input_shape=(100, 500))) # 500 : One Hot Encoding  숫자가 의미가 없으면 무적권\n",
    "model.add(keras.layers.Dense(1,activation = 'sigmoid'))\n"
   ]
  },
  {
   "cell_type": "code",
   "execution_count": 6,
   "metadata": {},
   "outputs": [
    {
     "name": "stdout",
     "output_type": "stream",
     "text": [
      "(20000, 100, 500)\n"
     ]
    }
   ],
   "source": [
    "# One hot encoding\n",
    "train_oh = keras.utils.to_categorical(train_seq)\n",
    "print(train_oh.shape)"
   ]
  },
  {
   "cell_type": "code",
   "execution_count": 8,
   "metadata": {},
   "outputs": [],
   "source": [
    "import numpy as np"
   ]
  },
  {
   "cell_type": "code",
   "execution_count": 9,
   "metadata": {},
   "outputs": [
    {
     "name": "stdout",
     "output_type": "stream",
     "text": [
      "1.0\n"
     ]
    }
   ],
   "source": [
    "# one hot encoding 확인하기\n",
    "print(np.sum(train_oh[0][0]))"
   ]
  },
  {
   "cell_type": "code",
   "execution_count": 10,
   "metadata": {},
   "outputs": [],
   "source": [
    "val_oh = keras.utils.to_categorical(val_seq)"
   ]
  },
  {
   "cell_type": "code",
   "execution_count": 11,
   "metadata": {},
   "outputs": [
    {
     "name": "stdout",
     "output_type": "stream",
     "text": [
      "Model: \"sequential\"\n",
      "_________________________________________________________________\n",
      " Layer (type)                Output Shape              Param #   \n",
      "=================================================================\n",
      " simple_rnn (SimpleRNN)      (None, 8)                 4072      \n",
      "                                                                 \n",
      " dense (Dense)               (None, 1)                 9         \n",
      "                                                                 \n",
      "=================================================================\n",
      "Total params: 4,081\n",
      "Trainable params: 4,081\n",
      "Non-trainable params: 0\n",
      "_________________________________________________________________\n"
     ]
    }
   ],
   "source": [
    "model.summary()"
   ]
  },
  {
   "cell_type": "markdown",
   "metadata": {},
   "source": [
    "500 * 8 + (8 * 8)[8개의 뉴런이 8번 반복] + 8[절편]"
   ]
  },
  {
   "cell_type": "code",
   "execution_count": 12,
   "metadata": {},
   "outputs": [
    {
     "name": "stdout",
     "output_type": "stream",
     "text": [
      "Epoch 1/100\n",
      "313/313 [==============================] - 17s 51ms/step - loss: 0.7001 - accuracy: 0.5078 - val_loss: 0.7018 - val_accuracy: 0.4962\n",
      "Epoch 2/100\n",
      "313/313 [==============================] - 15s 47ms/step - loss: 0.6960 - accuracy: 0.5144 - val_loss: 0.6989 - val_accuracy: 0.4990\n",
      "Epoch 3/100\n",
      "313/313 [==============================] - 14s 45ms/step - loss: 0.6929 - accuracy: 0.5222 - val_loss: 0.6965 - val_accuracy: 0.5100\n",
      "Epoch 4/100\n",
      "313/313 [==============================] - 14s 44ms/step - loss: 0.6902 - accuracy: 0.5351 - val_loss: 0.6944 - val_accuracy: 0.5198\n",
      "Epoch 5/100\n",
      "313/313 [==============================] - 14s 44ms/step - loss: 0.6875 - accuracy: 0.5440 - val_loss: 0.6923 - val_accuracy: 0.5220\n",
      "Epoch 6/100\n",
      "313/313 [==============================] - 14s 45ms/step - loss: 0.6847 - accuracy: 0.5546 - val_loss: 0.6897 - val_accuracy: 0.5350\n",
      "Epoch 7/100\n",
      "313/313 [==============================] - 14s 43ms/step - loss: 0.6810 - accuracy: 0.5687 - val_loss: 0.6859 - val_accuracy: 0.5480\n",
      "Epoch 8/100\n",
      "313/313 [==============================] - 14s 44ms/step - loss: 0.6755 - accuracy: 0.5871 - val_loss: 0.6778 - val_accuracy: 0.5694\n",
      "Epoch 9/100\n",
      "313/313 [==============================] - 13s 42ms/step - loss: 0.6563 - accuracy: 0.6266 - val_loss: 0.6404 - val_accuracy: 0.6522\n",
      "Epoch 10/100\n",
      "313/313 [==============================] - 15s 47ms/step - loss: 0.6272 - accuracy: 0.6627 - val_loss: 0.6256 - val_accuracy: 0.6654\n",
      "Epoch 11/100\n",
      "313/313 [==============================] - 14s 46ms/step - loss: 0.6117 - accuracy: 0.6810 - val_loss: 0.6137 - val_accuracy: 0.6758\n",
      "Epoch 12/100\n",
      "313/313 [==============================] - 15s 47ms/step - loss: 0.5974 - accuracy: 0.6940 - val_loss: 0.6041 - val_accuracy: 0.6826\n",
      "Epoch 13/100\n",
      "313/313 [==============================] - 15s 47ms/step - loss: 0.5841 - accuracy: 0.7074 - val_loss: 0.5905 - val_accuracy: 0.7010\n",
      "Epoch 14/100\n",
      "313/313 [==============================] - 15s 48ms/step - loss: 0.5728 - accuracy: 0.7157 - val_loss: 0.5791 - val_accuracy: 0.7090\n",
      "Epoch 15/100\n",
      "313/313 [==============================] - 15s 47ms/step - loss: 0.5606 - accuracy: 0.7275 - val_loss: 0.5693 - val_accuracy: 0.7178\n",
      "Epoch 16/100\n",
      "313/313 [==============================] - 14s 46ms/step - loss: 0.5505 - accuracy: 0.7334 - val_loss: 0.5594 - val_accuracy: 0.7270\n",
      "Epoch 17/100\n",
      "313/313 [==============================] - 16s 51ms/step - loss: 0.5402 - accuracy: 0.7404 - val_loss: 0.5519 - val_accuracy: 0.7328\n",
      "Epoch 18/100\n",
      "313/313 [==============================] - 17s 54ms/step - loss: 0.5307 - accuracy: 0.7491 - val_loss: 0.5449 - val_accuracy: 0.7358\n",
      "Epoch 19/100\n",
      "313/313 [==============================] - 15s 48ms/step - loss: 0.5215 - accuracy: 0.7561 - val_loss: 0.5386 - val_accuracy: 0.7416\n",
      "Epoch 20/100\n",
      "313/313 [==============================] - 14s 44ms/step - loss: 0.5136 - accuracy: 0.7619 - val_loss: 0.5309 - val_accuracy: 0.7460\n",
      "Epoch 21/100\n",
      "313/313 [==============================] - 13s 42ms/step - loss: 0.5048 - accuracy: 0.7665 - val_loss: 0.5254 - val_accuracy: 0.7498\n",
      "Epoch 22/100\n",
      "313/313 [==============================] - 14s 45ms/step - loss: 0.4980 - accuracy: 0.7720 - val_loss: 0.5214 - val_accuracy: 0.7510\n",
      "Epoch 23/100\n",
      "313/313 [==============================] - 14s 44ms/step - loss: 0.4907 - accuracy: 0.7772 - val_loss: 0.5160 - val_accuracy: 0.7528\n",
      "Epoch 24/100\n",
      "313/313 [==============================] - 14s 43ms/step - loss: 0.4843 - accuracy: 0.7826 - val_loss: 0.5123 - val_accuracy: 0.7568\n",
      "Epoch 25/100\n",
      "313/313 [==============================] - 14s 46ms/step - loss: 0.4785 - accuracy: 0.7847 - val_loss: 0.5060 - val_accuracy: 0.7616\n",
      "Epoch 26/100\n",
      "313/313 [==============================] - 15s 47ms/step - loss: 0.4736 - accuracy: 0.7887 - val_loss: 0.5020 - val_accuracy: 0.7626\n",
      "Epoch 27/100\n",
      "313/313 [==============================] - 14s 45ms/step - loss: 0.4687 - accuracy: 0.7911 - val_loss: 0.4996 - val_accuracy: 0.7616\n",
      "Epoch 28/100\n",
      "313/313 [==============================] - 15s 47ms/step - loss: 0.4642 - accuracy: 0.7942 - val_loss: 0.4986 - val_accuracy: 0.7646\n",
      "Epoch 29/100\n",
      "313/313 [==============================] - 14s 44ms/step - loss: 0.4603 - accuracy: 0.7950 - val_loss: 0.5021 - val_accuracy: 0.7572\n",
      "Epoch 30/100\n",
      "313/313 [==============================] - 14s 45ms/step - loss: 0.4563 - accuracy: 0.7977 - val_loss: 0.4911 - val_accuracy: 0.7690\n",
      "Epoch 31/100\n",
      "313/313 [==============================] - 14s 46ms/step - loss: 0.4523 - accuracy: 0.7995 - val_loss: 0.4900 - val_accuracy: 0.7676\n",
      "Epoch 32/100\n",
      "313/313 [==============================] - 14s 44ms/step - loss: 0.4492 - accuracy: 0.8023 - val_loss: 0.4884 - val_accuracy: 0.7706\n",
      "Epoch 33/100\n",
      "313/313 [==============================] - 14s 45ms/step - loss: 0.4462 - accuracy: 0.8022 - val_loss: 0.4885 - val_accuracy: 0.7700\n",
      "Epoch 34/100\n",
      "313/313 [==============================] - 14s 45ms/step - loss: 0.4435 - accuracy: 0.8045 - val_loss: 0.4863 - val_accuracy: 0.7700\n",
      "Epoch 35/100\n",
      "313/313 [==============================] - 14s 44ms/step - loss: 0.4405 - accuracy: 0.8060 - val_loss: 0.4846 - val_accuracy: 0.7706\n",
      "Epoch 36/100\n",
      "313/313 [==============================] - 13s 42ms/step - loss: 0.4382 - accuracy: 0.8076 - val_loss: 0.4825 - val_accuracy: 0.7728\n",
      "Epoch 37/100\n",
      "313/313 [==============================] - 13s 43ms/step - loss: 0.4351 - accuracy: 0.8095 - val_loss: 0.4853 - val_accuracy: 0.7706\n",
      "Epoch 38/100\n",
      "313/313 [==============================] - 14s 45ms/step - loss: 0.4324 - accuracy: 0.8094 - val_loss: 0.4810 - val_accuracy: 0.7750\n",
      "Epoch 39/100\n",
      "313/313 [==============================] - 13s 41ms/step - loss: 0.4312 - accuracy: 0.8105 - val_loss: 0.4799 - val_accuracy: 0.7748\n",
      "Epoch 40/100\n",
      "313/313 [==============================] - 14s 44ms/step - loss: 0.4287 - accuracy: 0.8123 - val_loss: 0.4795 - val_accuracy: 0.7720\n",
      "Epoch 41/100\n",
      "313/313 [==============================] - 14s 45ms/step - loss: 0.4274 - accuracy: 0.8123 - val_loss: 0.4816 - val_accuracy: 0.7744\n",
      "Epoch 42/100\n",
      "313/313 [==============================] - 14s 45ms/step - loss: 0.4252 - accuracy: 0.8138 - val_loss: 0.4780 - val_accuracy: 0.7758\n",
      "Epoch 43/100\n",
      "313/313 [==============================] - 14s 44ms/step - loss: 0.4234 - accuracy: 0.8156 - val_loss: 0.4816 - val_accuracy: 0.7704\n",
      "Epoch 44/100\n",
      "313/313 [==============================] - 13s 43ms/step - loss: 0.4220 - accuracy: 0.8148 - val_loss: 0.4809 - val_accuracy: 0.7734\n"
     ]
    }
   ],
   "source": [
    "# 훈련하기\n",
    "rmsprop = keras.optimizers.RMSprop(learning_rate = 1e-4)\n",
    "\n",
    "model.compile(optimizer= rmsprop, \n",
    "              loss = 'binary_crossentropy',\n",
    "              metrics = 'accuracy'\n",
    "              )\n",
    "\n",
    "early_stopping_cb = keras.callbacks.EarlyStopping(patience=2, restore_best_weights=True )\n",
    "checkpoint_cb = keras.callbacks.ModelCheckpoint('../Data/best-simplernn-model.h5')\n",
    "\n",
    "history = model.fit(\n",
    "    train_oh,\n",
    "    train_target, \n",
    "    epochs =100, # RNN에서 가장 낮은 에포크가 100\n",
    "    batch_size = 64, # 미니배치 경사 하강법\n",
    "    validation_data = (val_oh,val_target),\n",
    "    callbacks = [checkpoint_cb,early_stopping_cb]\n",
    ")"
   ]
  },
  {
   "cell_type": "code",
   "execution_count": 13,
   "metadata": {},
   "outputs": [
    {
     "data": {
      "image/png": "[encoded data removed]",
      "text/plain": [
       "<Figure size 432x288 with 1 Axes>"
      ]
     },
     "metadata": {
      "needs_background": "light"
     },
     "output_type": "display_data"
    }
   ],
   "source": [
    "# 손실 시각화 \n",
    "import matplotlib.pyplot as plt \n",
    "\n",
    "plt.plot(history.history['loss'])\n",
    "plt.plot(history.history['val_loss'])\n",
    "plt.xlabel('epoch')\n",
    "plt.ylabel('loss')\n",
    "plt.legend(['train','val'])\n",
    "plt.show()\n"
   ]
  },
  {
   "cell_type": "code",
   "execution_count": 14,
   "metadata": {},
   "outputs": [
    {
     "name": "stdout",
     "output_type": "stream",
     "text": [
      "157/157 [==============================] - 2s 15ms/step - loss: 0.4780 - accuracy: 0.7758\n"
     ]
    },
    {
     "data": {
      "text/plain": [
       "[0.4779728055000305, 0.7757999897003174]"
      ]
     },
     "execution_count": 14,
     "metadata": {},
     "output_type": "execute_result"
    }
   ],
   "source": [
    "# 모델 성능 확인 \n",
    "model.evaluate(val_oh, val_target)"
   ]
  },
  {
   "cell_type": "markdown",
   "metadata": {},
   "source": [
    "--- \n",
    "### LSTM(Long Short Term Memory) 신경망 모델 구성하기 \n",
    "- 순환 신경망의 셀로 이전 타입스텝의 샘플을 기억하고 있음 \n"
   ]
  },
  {
   "cell_type": "code",
   "execution_count": 15,
   "metadata": {},
   "outputs": [
    {
     "name": "stdout",
     "output_type": "stream",
     "text": [
      "Model: \"sequential_1\"\n",
      "_________________________________________________________________\n",
      " Layer (type)                Output Shape              Param #   \n",
      "=================================================================\n",
      " embedding (Embedding)       (None, 100, 16)           8000      \n",
      "                                                                 \n",
      " lstm (LSTM)                 (None, 8)                 800       \n",
      "                                                                 \n",
      " dense_1 (Dense)             (None, 1)                 9         \n",
      "                                                                 \n",
      "=================================================================\n",
      "Total params: 8,809\n",
      "Trainable params: 8,809\n",
      "Non-trainable params: 0\n",
      "_________________________________________________________________\n"
     ]
    }
   ],
   "source": [
    "model = keras.Sequential()\n",
    "model.add(keras.layers.Embedding(500, 16, input_length=100)) \n",
    "# embedding : One Hot Encoding \n",
    "model.add(keras.layers.LSTM(8)) # 8개의 셀을 사용 \n",
    "model.add(keras.layers.Dense(1, activation='sigmoid')) # 결과 \n",
    "\n",
    "model.summary()"
   ]
  },
  {
   "cell_type": "code",
   "execution_count": 17,
   "metadata": {},
   "outputs": [
    {
     "name": "stdout",
     "output_type": "stream",
     "text": [
      "Epoch 1/100\n",
      "313/313 [==============================] - 13s 34ms/step - loss: 0.6926 - accuracy: 0.5366 - val_loss: 0.6922 - val_accuracy: 0.5376\n",
      "Epoch 2/100\n",
      "313/313 [==============================] - 10s 32ms/step - loss: 0.6906 - accuracy: 0.5959 - val_loss: 0.6896 - val_accuracy: 0.5932\n",
      "Epoch 3/100\n",
      "313/313 [==============================] - 10s 32ms/step - loss: 0.6862 - accuracy: 0.6250 - val_loss: 0.6839 - val_accuracy: 0.6236\n",
      "Epoch 4/100\n",
      "313/313 [==============================] - 10s 32ms/step - loss: 0.6751 - accuracy: 0.6595 - val_loss: 0.6650 - val_accuracy: 0.6608\n",
      "Epoch 5/100\n",
      "313/313 [==============================] - 11s 35ms/step - loss: 0.6287 - accuracy: 0.7168 - val_loss: 0.6068 - val_accuracy: 0.7194\n",
      "Epoch 6/100\n",
      "313/313 [==============================] - 10s 32ms/step - loss: 0.5893 - accuracy: 0.7287 - val_loss: 0.5861 - val_accuracy: 0.7260\n",
      "Epoch 7/100\n",
      "313/313 [==============================] - 9s 30ms/step - loss: 0.5660 - accuracy: 0.7415 - val_loss: 0.5609 - val_accuracy: 0.7396\n",
      "Epoch 8/100\n",
      "313/313 [==============================] - 10s 32ms/step - loss: 0.5442 - accuracy: 0.7527 - val_loss: 0.5395 - val_accuracy: 0.7506\n",
      "Epoch 9/100\n",
      "313/313 [==============================] - 10s 31ms/step - loss: 0.5239 - accuracy: 0.7649 - val_loss: 0.5243 - val_accuracy: 0.7626\n",
      "Epoch 10/100\n",
      "313/313 [==============================] - 10s 31ms/step - loss: 0.5069 - accuracy: 0.7739 - val_loss: 0.5056 - val_accuracy: 0.7732\n",
      "Epoch 11/100\n",
      "313/313 [==============================] - 10s 31ms/step - loss: 0.4921 - accuracy: 0.7839 - val_loss: 0.4940 - val_accuracy: 0.7798\n",
      "Epoch 12/100\n",
      "313/313 [==============================] - 10s 31ms/step - loss: 0.4795 - accuracy: 0.7896 - val_loss: 0.4824 - val_accuracy: 0.7870\n",
      "Epoch 13/100\n",
      "313/313 [==============================] - 10s 32ms/step - loss: 0.4694 - accuracy: 0.7941 - val_loss: 0.4745 - val_accuracy: 0.7914\n",
      "Epoch 14/100\n",
      "313/313 [==============================] - 11s 35ms/step - loss: 0.4600 - accuracy: 0.7986 - val_loss: 0.4667 - val_accuracy: 0.7940\n",
      "Epoch 15/100\n",
      "313/313 [==============================] - 10s 31ms/step - loss: 0.4524 - accuracy: 0.8019 - val_loss: 0.4617 - val_accuracy: 0.7924\n",
      "Epoch 16/100\n",
      "313/313 [==============================] - 10s 30ms/step - loss: 0.4459 - accuracy: 0.8045 - val_loss: 0.4553 - val_accuracy: 0.7964\n",
      "Epoch 17/100\n",
      "313/313 [==============================] - 9s 28ms/step - loss: 0.4399 - accuracy: 0.8066 - val_loss: 0.4508 - val_accuracy: 0.7990\n",
      "Epoch 18/100\n",
      "313/313 [==============================] - 11s 37ms/step - loss: 0.4348 - accuracy: 0.8084 - val_loss: 0.4485 - val_accuracy: 0.7936\n",
      "Epoch 19/100\n",
      "313/313 [==============================] - 10s 33ms/step - loss: 0.4309 - accuracy: 0.8084 - val_loss: 0.4449 - val_accuracy: 0.7968\n",
      "Epoch 20/100\n",
      "313/313 [==============================] - 9s 30ms/step - loss: 0.4270 - accuracy: 0.8104 - val_loss: 0.4418 - val_accuracy: 0.8006\n",
      "Epoch 21/100\n",
      "313/313 [==============================] - 9s 29ms/step - loss: 0.4241 - accuracy: 0.8097 - val_loss: 0.4411 - val_accuracy: 0.7996\n",
      "Epoch 22/100\n",
      "313/313 [==============================] - 9s 29ms/step - loss: 0.4214 - accuracy: 0.8099 - val_loss: 0.4405 - val_accuracy: 0.7990\n",
      "Epoch 23/100\n",
      "313/313 [==============================] - 10s 33ms/step - loss: 0.4189 - accuracy: 0.8119 - val_loss: 0.4381 - val_accuracy: 0.8026\n",
      "Epoch 24/100\n",
      "313/313 [==============================] - 10s 32ms/step - loss: 0.4167 - accuracy: 0.8123 - val_loss: 0.4390 - val_accuracy: 0.8012\n",
      "Epoch 25/100\n",
      "313/313 [==============================] - 10s 31ms/step - loss: 0.4153 - accuracy: 0.8129 - val_loss: 0.4346 - val_accuracy: 0.7994\n",
      "Epoch 26/100\n",
      "313/313 [==============================] - 10s 32ms/step - loss: 0.4139 - accuracy: 0.8133 - val_loss: 0.4342 - val_accuracy: 0.8000\n",
      "Epoch 27/100\n",
      "313/313 [==============================] - 10s 31ms/step - loss: 0.4124 - accuracy: 0.8148 - val_loss: 0.4340 - val_accuracy: 0.8034\n",
      "Epoch 28/100\n",
      "313/313 [==============================] - 10s 31ms/step - loss: 0.4112 - accuracy: 0.8147 - val_loss: 0.4344 - val_accuracy: 0.7962\n",
      "Epoch 29/100\n",
      "313/313 [==============================] - 9s 30ms/step - loss: 0.4100 - accuracy: 0.8137 - val_loss: 0.4346 - val_accuracy: 0.7962\n",
      "Epoch 30/100\n",
      "313/313 [==============================] - 9s 30ms/step - loss: 0.4089 - accuracy: 0.8147 - val_loss: 0.4356 - val_accuracy: 0.7938\n"
     ]
    }
   ],
   "source": [
    "# 훈련하기\n",
    "rmsprop = keras.optimizers.RMSprop(learning_rate=1e-4)\n",
    "\n",
    "model.compile(\n",
    "    optimizer=rmsprop,\n",
    "    loss='binary_crossentropy',      # 이진분류\n",
    "    metrics='accuracy'\n",
    ")\n",
    "checkpoint_cb = keras.callbacks.ModelCheckpoint(\n",
    "    '../Data/best-simpleLSTM-model.h5')\n",
    "early_stopping_cb = keras.callbacks.EarlyStopping(\n",
    "    patience=3,\n",
    "    restore_best_weights=True\n",
    ")\n",
    "\n",
    "history = model.fit(\n",
    "    train_seq,\n",
    "    train_target,\n",
    "    epochs=100,\n",
    "    batch_size=64,   # mini batch경사하강법. 일반 경사하강법은 너무 오래걸림 ( 8 * 8 )\n",
    "    validation_data=(val_seq, val_target),\n",
    "    callbacks=[checkpoint_cb, early_stopping_cb]\n",
    ")"
   ]
  },
  {
   "cell_type": "code",
   "execution_count": 18,
   "metadata": {},
   "outputs": [
    {
     "data": {
      "image/png": "[encoded data removed]",
      "text/plain": [
       "<Figure size 432x288 with 1 Axes>"
      ]
     },
     "metadata": {
      "needs_background": "light"
     },
     "output_type": "display_data"
    }
   ],
   "source": [
    "# 손실 시각화 \n",
    "import matplotlib.pyplot as plt \n",
    "\n",
    "plt.plot(history.history['loss'])\n",
    "plt.plot(history.history['val_loss'])\n",
    "plt.xlabel('epoch')\n",
    "plt.ylabel('loss')\n",
    "plt.legend(['train','val'])\n",
    "plt.show()\n"
   ]
  },
  {
   "cell_type": "markdown",
   "metadata": {},
   "source": [
    "---\n",
    "# 순환층에 dropout"
   ]
  },
  {
   "cell_type": "code",
   "execution_count": 20,
   "metadata": {},
   "outputs": [
    {
     "name": "stdout",
     "output_type": "stream",
     "text": [
      "Model: \"sequential_2\"\n",
      "_________________________________________________________________\n",
      " Layer (type)                Output Shape              Param #   \n",
      "=================================================================\n",
      " embedding_1 (Embedding)     (None, 100, 16)           8000      \n",
      "                                                                 \n",
      " lstm_1 (LSTM)               (None, 8)                 800       \n",
      "                                                                 \n",
      " dense_2 (Dense)             (None, 1)                 9         \n",
      "                                                                 \n",
      "=================================================================\n",
      "Total params: 8,809\n",
      "Trainable params: 8,809\n",
      "Non-trainable params: 0\n",
      "_________________________________________________________________\n"
     ]
    }
   ],
   "source": [
    "model = keras.Sequential()\n",
    "model.add(keras.layers.Embedding(500, 16, input_length=100)) \n",
    "# embedding : One Hot Encoding \n",
    "model.add(keras.layers.LSTM(8, dropout=0.3)) # 8개의 셀을 사용 \n",
    "model.add(keras.layers.Dense(1, activation='sigmoid')) # 결과 \n",
    "\n",
    "model.summary()"
   ]
  },
  {
   "cell_type": "code",
   "execution_count": 21,
   "metadata": {},
   "outputs": [
    {
     "name": "stdout",
     "output_type": "stream",
     "text": [
      "Epoch 1/100\n",
      "313/313 [==============================] - 13s 33ms/step - loss: 0.6926 - accuracy: 0.5261 - val_loss: 0.6921 - val_accuracy: 0.5510\n",
      "Epoch 2/100\n",
      "313/313 [==============================] - 11s 34ms/step - loss: 0.6911 - accuracy: 0.5752 - val_loss: 0.6901 - val_accuracy: 0.6002\n",
      "Epoch 3/100\n",
      "313/313 [==============================] - 10s 31ms/step - loss: 0.6876 - accuracy: 0.6240 - val_loss: 0.6855 - val_accuracy: 0.6176\n",
      "Epoch 4/100\n",
      "313/313 [==============================] - 10s 31ms/step - loss: 0.6777 - accuracy: 0.6418 - val_loss: 0.6670 - val_accuracy: 0.6604\n",
      "Epoch 5/100\n",
      "313/313 [==============================] - 10s 32ms/step - loss: 0.6303 - accuracy: 0.6970 - val_loss: 0.6029 - val_accuracy: 0.7312\n",
      "Epoch 6/100\n",
      "313/313 [==============================] - 10s 33ms/step - loss: 0.5885 - accuracy: 0.7332 - val_loss: 0.5783 - val_accuracy: 0.7392\n",
      "Epoch 7/100\n",
      "313/313 [==============================] - 10s 33ms/step - loss: 0.5650 - accuracy: 0.7436 - val_loss: 0.5558 - val_accuracy: 0.7500\n",
      "Epoch 8/100\n",
      "313/313 [==============================] - 10s 32ms/step - loss: 0.5431 - accuracy: 0.7539 - val_loss: 0.5320 - val_accuracy: 0.7512\n",
      "Epoch 9/100\n",
      "313/313 [==============================] - 10s 34ms/step - loss: 0.5200 - accuracy: 0.7596 - val_loss: 0.5089 - val_accuracy: 0.7702\n",
      "Epoch 10/100\n",
      "313/313 [==============================] - 10s 33ms/step - loss: 0.4985 - accuracy: 0.7720 - val_loss: 0.4915 - val_accuracy: 0.7780\n",
      "Epoch 11/100\n",
      "313/313 [==============================] - 11s 35ms/step - loss: 0.4852 - accuracy: 0.7785 - val_loss: 0.4788 - val_accuracy: 0.7808\n",
      "Epoch 12/100\n",
      "313/313 [==============================] - 9s 30ms/step - loss: 0.4738 - accuracy: 0.7847 - val_loss: 0.4695 - val_accuracy: 0.7854\n",
      "Epoch 13/100\n",
      "313/313 [==============================] - 9s 30ms/step - loss: 0.4629 - accuracy: 0.7911 - val_loss: 0.4614 - val_accuracy: 0.7912\n",
      "Epoch 14/100\n",
      "313/313 [==============================] - 10s 30ms/step - loss: 0.4546 - accuracy: 0.7937 - val_loss: 0.4545 - val_accuracy: 0.7946\n",
      "Epoch 15/100\n",
      "313/313 [==============================] - 9s 27ms/step - loss: 0.4492 - accuracy: 0.7942 - val_loss: 0.4501 - val_accuracy: 0.7958\n",
      "Epoch 16/100\n",
      "313/313 [==============================] - 9s 28ms/step - loss: 0.4441 - accuracy: 0.7962 - val_loss: 0.4487 - val_accuracy: 0.7944\n",
      "Epoch 17/100\n",
      "313/313 [==============================] - 9s 28ms/step - loss: 0.4398 - accuracy: 0.7982 - val_loss: 0.4439 - val_accuracy: 0.7986\n",
      "Epoch 18/100\n",
      "313/313 [==============================] - 9s 29ms/step - loss: 0.4357 - accuracy: 0.8029 - val_loss: 0.4431 - val_accuracy: 0.7988\n",
      "Epoch 19/100\n",
      "313/313 [==============================] - 9s 29ms/step - loss: 0.4347 - accuracy: 0.7987 - val_loss: 0.4410 - val_accuracy: 0.8018\n",
      "Epoch 20/100\n",
      "313/313 [==============================] - 9s 28ms/step - loss: 0.4321 - accuracy: 0.8013 - val_loss: 0.4375 - val_accuracy: 0.8026\n",
      "Epoch 21/100\n",
      "313/313 [==============================] - 10s 33ms/step - loss: 0.4299 - accuracy: 0.8051 - val_loss: 0.4354 - val_accuracy: 0.7982\n",
      "Epoch 22/100\n",
      "313/313 [==============================] - 10s 33ms/step - loss: 0.4269 - accuracy: 0.8059 - val_loss: 0.4353 - val_accuracy: 0.8000\n",
      "Epoch 23/100\n",
      "313/313 [==============================] - 10s 31ms/step - loss: 0.4240 - accuracy: 0.8065 - val_loss: 0.4343 - val_accuracy: 0.8046\n",
      "Epoch 24/100\n",
      "313/313 [==============================] - 10s 32ms/step - loss: 0.4233 - accuracy: 0.8069 - val_loss: 0.4344 - val_accuracy: 0.8064\n",
      "Epoch 25/100\n",
      "313/313 [==============================] - 11s 37ms/step - loss: 0.4231 - accuracy: 0.8062 - val_loss: 0.4322 - val_accuracy: 0.8000\n",
      "Epoch 26/100\n",
      "313/313 [==============================] - 12s 38ms/step - loss: 0.4205 - accuracy: 0.8084 - val_loss: 0.4312 - val_accuracy: 0.8000\n",
      "Epoch 27/100\n",
      "313/313 [==============================] - 10s 33ms/step - loss: 0.4216 - accuracy: 0.8080 - val_loss: 0.4313 - val_accuracy: 0.8022\n",
      "Epoch 28/100\n",
      "313/313 [==============================] - 13s 41ms/step - loss: 0.4187 - accuracy: 0.8079 - val_loss: 0.4309 - val_accuracy: 0.7998\n",
      "Epoch 29/100\n",
      "313/313 [==============================] - 14s 43ms/step - loss: 0.4181 - accuracy: 0.8077 - val_loss: 0.4317 - val_accuracy: 0.8050\n",
      "Epoch 30/100\n",
      "313/313 [==============================] - 12s 38ms/step - loss: 0.4178 - accuracy: 0.8085 - val_loss: 0.4299 - val_accuracy: 0.7998\n",
      "Epoch 31/100\n",
      "313/313 [==============================] - 10s 32ms/step - loss: 0.4182 - accuracy: 0.8100 - val_loss: 0.4296 - val_accuracy: 0.8020\n",
      "Epoch 32/100\n",
      "313/313 [==============================] - 10s 32ms/step - loss: 0.4170 - accuracy: 0.8098 - val_loss: 0.4293 - val_accuracy: 0.8040\n",
      "Epoch 33/100\n",
      "313/313 [==============================] - 10s 31ms/step - loss: 0.4155 - accuracy: 0.8106 - val_loss: 0.4292 - val_accuracy: 0.8004\n",
      "Epoch 34/100\n",
      "313/313 [==============================] - 10s 32ms/step - loss: 0.4136 - accuracy: 0.8103 - val_loss: 0.4319 - val_accuracy: 0.7970\n",
      "Epoch 35/100\n",
      "313/313 [==============================] - 10s 31ms/step - loss: 0.4137 - accuracy: 0.8112 - val_loss: 0.4304 - val_accuracy: 0.7986\n",
      "Epoch 36/100\n",
      "313/313 [==============================] - 11s 34ms/step - loss: 0.4141 - accuracy: 0.8104 - val_loss: 0.4290 - val_accuracy: 0.7990\n",
      "Epoch 37/100\n",
      "313/313 [==============================] - 12s 37ms/step - loss: 0.4123 - accuracy: 0.8126 - val_loss: 0.4289 - val_accuracy: 0.8006\n",
      "Epoch 38/100\n",
      "313/313 [==============================] - 13s 43ms/step - loss: 0.4120 - accuracy: 0.8116 - val_loss: 0.4284 - val_accuracy: 0.8010\n",
      "Epoch 39/100\n",
      "313/313 [==============================] - 11s 35ms/step - loss: 0.4126 - accuracy: 0.8125 - val_loss: 0.4278 - val_accuracy: 0.8012\n",
      "Epoch 40/100\n",
      "313/313 [==============================] - 11s 34ms/step - loss: 0.4137 - accuracy: 0.8102 - val_loss: 0.4280 - val_accuracy: 0.8054\n",
      "Epoch 41/100\n",
      "313/313 [==============================] - 11s 34ms/step - loss: 0.4113 - accuracy: 0.8120 - val_loss: 0.4281 - val_accuracy: 0.8010\n",
      "Epoch 42/100\n",
      "313/313 [==============================] - 10s 32ms/step - loss: 0.4103 - accuracy: 0.8120 - val_loss: 0.4299 - val_accuracy: 0.8092\n"
     ]
    }
   ],
   "source": [
    "# 훈련하기\n",
    "rmsprop = keras.optimizers.RMSprop(learning_rate=1e-4)\n",
    "\n",
    "model.compile(\n",
    "    optimizer=rmsprop,\n",
    "    loss='binary_crossentropy',      # 이진분류\n",
    "    metrics='accuracy'\n",
    ")\n",
    "checkpoint_cb = keras.callbacks.ModelCheckpoint(\n",
    "    '../Data/best-simpleLSTM-dropout-model.h5')\n",
    "early_stopping_cb = keras.callbacks.EarlyStopping(\n",
    "    patience=3,\n",
    "    restore_best_weights=True\n",
    ")\n",
    "\n",
    "history = model.fit(\n",
    "    train_seq,\n",
    "    train_target,\n",
    "    epochs=100,\n",
    "    batch_size=64,   # mini batch경사하강법. 일반 경사하강법은 너무 오래걸림 ( 8 * 8 )\n",
    "    validation_data=(val_seq, val_target),\n",
    "    callbacks=[checkpoint_cb, early_stopping_cb]\n",
    ")"
   ]
  },
  {
   "cell_type": "code",
   "execution_count": 22,
   "metadata": {},
   "outputs": [
    {
     "data": {
      "image/png": "[encoded data removed]",
      "text/plain": [
       "<Figure size 432x288 with 1 Axes>"
      ]
     },
     "metadata": {
      "needs_background": "light"
     },
     "output_type": "display_data"
    }
   ],
   "source": [
    "# 손실 시각화 \n",
    "import matplotlib.pyplot as plt \n",
    "\n",
    "plt.plot(history.history['loss'])\n",
    "plt.plot(history.history['val_loss'])\n",
    "plt.xlabel('epoch')\n",
    "plt.ylabel('loss')\n",
    "plt.legend(['train','val'])\n",
    "plt.show()"
   ]
  },
  {
   "cell_type": "markdown",
   "metadata": {},
   "source": [
    "--- \n",
    "# 2개 층 연결하기 "
   ]
  },
  {
   "cell_type": "code",
   "execution_count": 23,
   "metadata": {},
   "outputs": [
    {
     "name": "stdout",
     "output_type": "stream",
     "text": [
      "Model: \"sequential_3\"\n",
      "_________________________________________________________________\n",
      " Layer (type)                Output Shape              Param #   \n",
      "=================================================================\n",
      " embedding_2 (Embedding)     (None, 100, 16)           8000      \n",
      "                                                                 \n",
      " lstm_2 (LSTM)               (None, 100, 8)            800       \n",
      "                                                                 \n",
      " lstm_3 (LSTM)               (None, 8)                 544       \n",
      "                                                                 \n",
      " dense_3 (Dense)             (None, 1)                 9         \n",
      "                                                                 \n",
      "=================================================================\n",
      "Total params: 9,353\n",
      "Trainable params: 9,353\n",
      "Non-trainable params: 0\n",
      "_________________________________________________________________\n"
     ]
    }
   ],
   "source": [
    "model = keras.Sequential()\n",
    "model.add(keras.layers.Embedding(500, 16, input_length=100)) \n",
    "model.add(keras.layers.LSTM(8, dropout=0.3, return_sequences=True)) # LSTM 2개 쌓을 때 이거 써야  \n",
    "# 모든 타임스텝의 은닉상태를 출력하려면 return_sequence = True 지정 \n",
    "model.add(keras.layers.LSTM(8, dropout=0.3)) \n",
    "model.add(keras.layers.Dense(1, activation='sigmoid')) # 결과 \n",
    "\n",
    "model.summary()"
   ]
  },
  {
   "cell_type": "code",
   "execution_count": 24,
   "metadata": {},
   "outputs": [
    {
     "name": "stdout",
     "output_type": "stream",
     "text": [
      "Epoch 1/100\n",
      "313/313 [==============================] - 27s 67ms/step - loss: 0.6923 - accuracy: 0.5392 - val_loss: 0.6910 - val_accuracy: 0.5618\n",
      "Epoch 2/100\n",
      "313/313 [==============================] - 20s 63ms/step - loss: 0.6830 - accuracy: 0.6291 - val_loss: 0.6654 - val_accuracy: 0.6712\n",
      "Epoch 3/100\n",
      "313/313 [==============================] - 20s 65ms/step - loss: 0.6287 - accuracy: 0.6912 - val_loss: 0.6070 - val_accuracy: 0.7020\n",
      "Epoch 4/100\n",
      "313/313 [==============================] - 19s 62ms/step - loss: 0.5910 - accuracy: 0.7115 - val_loss: 0.5788 - val_accuracy: 0.7144\n",
      "Epoch 5/100\n",
      "313/313 [==============================] - 20s 63ms/step - loss: 0.5655 - accuracy: 0.7316 - val_loss: 0.5509 - val_accuracy: 0.7404\n",
      "Epoch 6/100\n",
      "313/313 [==============================] - 20s 64ms/step - loss: 0.5418 - accuracy: 0.7442 - val_loss: 0.5306 - val_accuracy: 0.7506\n",
      "Epoch 7/100\n",
      "313/313 [==============================] - 20s 63ms/step - loss: 0.5240 - accuracy: 0.7545 - val_loss: 0.5131 - val_accuracy: 0.7618\n",
      "Epoch 8/100\n",
      "313/313 [==============================] - 19s 62ms/step - loss: 0.5103 - accuracy: 0.7626 - val_loss: 0.5005 - val_accuracy: 0.7710\n",
      "Epoch 9/100\n",
      "313/313 [==============================] - 20s 63ms/step - loss: 0.4966 - accuracy: 0.7700 - val_loss: 0.4905 - val_accuracy: 0.7722\n",
      "Epoch 10/100\n",
      "313/313 [==============================] - 20s 63ms/step - loss: 0.4868 - accuracy: 0.7760 - val_loss: 0.4872 - val_accuracy: 0.7700\n",
      "Epoch 11/100\n",
      "313/313 [==============================] - 20s 63ms/step - loss: 0.4806 - accuracy: 0.7785 - val_loss: 0.4756 - val_accuracy: 0.7798\n",
      "Epoch 12/100\n",
      "313/313 [==============================] - 18s 58ms/step - loss: 0.4719 - accuracy: 0.7832 - val_loss: 0.4751 - val_accuracy: 0.7762\n",
      "Epoch 13/100\n",
      "313/313 [==============================] - 18s 59ms/step - loss: 0.4661 - accuracy: 0.7872 - val_loss: 0.4690 - val_accuracy: 0.7834\n",
      "Epoch 14/100\n",
      "313/313 [==============================] - 20s 63ms/step - loss: 0.4638 - accuracy: 0.7875 - val_loss: 0.4638 - val_accuracy: 0.7832\n",
      "Epoch 15/100\n",
      "313/313 [==============================] - 18s 59ms/step - loss: 0.4609 - accuracy: 0.7893 - val_loss: 0.4656 - val_accuracy: 0.7828\n",
      "Epoch 16/100\n",
      "313/313 [==============================] - 20s 63ms/step - loss: 0.4573 - accuracy: 0.7896 - val_loss: 0.4608 - val_accuracy: 0.7834\n",
      "Epoch 17/100\n",
      "313/313 [==============================] - 20s 65ms/step - loss: 0.4532 - accuracy: 0.7905 - val_loss: 0.4581 - val_accuracy: 0.7854\n",
      "Epoch 18/100\n",
      "313/313 [==============================] - 19s 60ms/step - loss: 0.4510 - accuracy: 0.7921 - val_loss: 0.4552 - val_accuracy: 0.7858\n",
      "Epoch 19/100\n",
      "313/313 [==============================] - 19s 60ms/step - loss: 0.4485 - accuracy: 0.7943 - val_loss: 0.4559 - val_accuracy: 0.7880\n",
      "Epoch 20/100\n",
      "313/313 [==============================] - 19s 60ms/step - loss: 0.4502 - accuracy: 0.7903 - val_loss: 0.4544 - val_accuracy: 0.7880\n",
      "Epoch 21/100\n",
      "313/313 [==============================] - 19s 62ms/step - loss: 0.4481 - accuracy: 0.7941 - val_loss: 0.4513 - val_accuracy: 0.7886\n",
      "Epoch 22/100\n",
      "313/313 [==============================] - 20s 63ms/step - loss: 0.4445 - accuracy: 0.7927 - val_loss: 0.4502 - val_accuracy: 0.7870\n",
      "Epoch 23/100\n",
      "313/313 [==============================] - 19s 61ms/step - loss: 0.4450 - accuracy: 0.7950 - val_loss: 0.4501 - val_accuracy: 0.7872\n",
      "Epoch 24/100\n",
      "313/313 [==============================] - 20s 63ms/step - loss: 0.4421 - accuracy: 0.7975 - val_loss: 0.4515 - val_accuracy: 0.7918\n",
      "Epoch 25/100\n",
      "313/313 [==============================] - 19s 60ms/step - loss: 0.4402 - accuracy: 0.7969 - val_loss: 0.4489 - val_accuracy: 0.7892\n",
      "Epoch 26/100\n",
      "313/313 [==============================] - 19s 62ms/step - loss: 0.4400 - accuracy: 0.7979 - val_loss: 0.4503 - val_accuracy: 0.7900\n",
      "Epoch 27/100\n",
      "313/313 [==============================] - 20s 63ms/step - loss: 0.4381 - accuracy: 0.7986 - val_loss: 0.4468 - val_accuracy: 0.7920\n",
      "Epoch 28/100\n",
      "313/313 [==============================] - 19s 62ms/step - loss: 0.4369 - accuracy: 0.7983 - val_loss: 0.4471 - val_accuracy: 0.7948\n",
      "Epoch 29/100\n",
      "313/313 [==============================] - 20s 62ms/step - loss: 0.4357 - accuracy: 0.7982 - val_loss: 0.4464 - val_accuracy: 0.7942\n",
      "Epoch 30/100\n",
      "313/313 [==============================] - 18s 59ms/step - loss: 0.4357 - accuracy: 0.7987 - val_loss: 0.4476 - val_accuracy: 0.7882\n",
      "Epoch 31/100\n",
      "313/313 [==============================] - 19s 62ms/step - loss: 0.4336 - accuracy: 0.7987 - val_loss: 0.4441 - val_accuracy: 0.7962\n",
      "Epoch 32/100\n",
      "313/313 [==============================] - 19s 62ms/step - loss: 0.4324 - accuracy: 0.8001 - val_loss: 0.4429 - val_accuracy: 0.7912\n",
      "Epoch 33/100\n",
      "313/313 [==============================] - 19s 61ms/step - loss: 0.4301 - accuracy: 0.8011 - val_loss: 0.4428 - val_accuracy: 0.7926\n",
      "Epoch 34/100\n",
      "313/313 [==============================] - 19s 59ms/step - loss: 0.4316 - accuracy: 0.8012 - val_loss: 0.4423 - val_accuracy: 0.7930\n",
      "Epoch 35/100\n",
      "313/313 [==============================] - 19s 61ms/step - loss: 0.4301 - accuracy: 0.8020 - val_loss: 0.4430 - val_accuracy: 0.7968\n",
      "Epoch 36/100\n",
      "313/313 [==============================] - 20s 62ms/step - loss: 0.4289 - accuracy: 0.8016 - val_loss: 0.4396 - val_accuracy: 0.7954\n",
      "Epoch 37/100\n",
      "313/313 [==============================] - 20s 64ms/step - loss: 0.4274 - accuracy: 0.8045 - val_loss: 0.4391 - val_accuracy: 0.7950\n",
      "Epoch 38/100\n",
      "313/313 [==============================] - 19s 62ms/step - loss: 0.4270 - accuracy: 0.8027 - val_loss: 0.4393 - val_accuracy: 0.7970\n",
      "Epoch 39/100\n",
      "313/313 [==============================] - 19s 62ms/step - loss: 0.4253 - accuracy: 0.8065 - val_loss: 0.4375 - val_accuracy: 0.7966\n",
      "Epoch 40/100\n",
      "313/313 [==============================] - 19s 61ms/step - loss: 0.4232 - accuracy: 0.8074 - val_loss: 0.4412 - val_accuracy: 0.7966\n",
      "Epoch 41/100\n",
      "313/313 [==============================] - 19s 61ms/step - loss: 0.4229 - accuracy: 0.8059 - val_loss: 0.4375 - val_accuracy: 0.7964\n",
      "Epoch 42/100\n",
      "313/313 [==============================] - 19s 62ms/step - loss: 0.4222 - accuracy: 0.8047 - val_loss: 0.4371 - val_accuracy: 0.7980\n",
      "Epoch 43/100\n",
      "313/313 [==============================] - 20s 64ms/step - loss: 0.4201 - accuracy: 0.8076 - val_loss: 0.4366 - val_accuracy: 0.7936\n",
      "Epoch 44/100\n",
      "313/313 [==============================] - 20s 64ms/step - loss: 0.4210 - accuracy: 0.8077 - val_loss: 0.4370 - val_accuracy: 0.7998\n",
      "Epoch 45/100\n",
      "313/313 [==============================] - 20s 65ms/step - loss: 0.4200 - accuracy: 0.8067 - val_loss: 0.4343 - val_accuracy: 0.8004\n",
      "Epoch 46/100\n",
      "313/313 [==============================] - 19s 61ms/step - loss: 0.4173 - accuracy: 0.8108 - val_loss: 0.4345 - val_accuracy: 0.8018\n",
      "Epoch 47/100\n",
      "313/313 [==============================] - 19s 61ms/step - loss: 0.4179 - accuracy: 0.8089 - val_loss: 0.4379 - val_accuracy: 0.7984\n",
      "Epoch 48/100\n",
      "313/313 [==============================] - 19s 61ms/step - loss: 0.4169 - accuracy: 0.8083 - val_loss: 0.4329 - val_accuracy: 0.8034\n",
      "Epoch 49/100\n",
      "313/313 [==============================] - 20s 64ms/step - loss: 0.4148 - accuracy: 0.8097 - val_loss: 0.4350 - val_accuracy: 0.8016\n",
      "Epoch 50/100\n",
      "313/313 [==============================] - 20s 65ms/step - loss: 0.4159 - accuracy: 0.8091 - val_loss: 0.4327 - val_accuracy: 0.8036\n",
      "Epoch 51/100\n",
      "313/313 [==============================] - 20s 65ms/step - loss: 0.4125 - accuracy: 0.8120 - val_loss: 0.4327 - val_accuracy: 0.8034\n",
      "Epoch 52/100\n",
      "313/313 [==============================] - 20s 64ms/step - loss: 0.4121 - accuracy: 0.8116 - val_loss: 0.4329 - val_accuracy: 0.8020\n",
      "Epoch 53/100\n",
      "313/313 [==============================] - 19s 61ms/step - loss: 0.4124 - accuracy: 0.8108 - val_loss: 0.4314 - val_accuracy: 0.8014\n",
      "Epoch 54/100\n",
      "313/313 [==============================] - 19s 61ms/step - loss: 0.4124 - accuracy: 0.8086 - val_loss: 0.4316 - val_accuracy: 0.8054\n",
      "Epoch 55/100\n",
      "313/313 [==============================] - 19s 61ms/step - loss: 0.4096 - accuracy: 0.8122 - val_loss: 0.4308 - val_accuracy: 0.8060\n",
      "Epoch 56/100\n",
      "313/313 [==============================] - 19s 61ms/step - loss: 0.4105 - accuracy: 0.8116 - val_loss: 0.4315 - val_accuracy: 0.7998\n",
      "Epoch 57/100\n",
      "313/313 [==============================] - 19s 61ms/step - loss: 0.4089 - accuracy: 0.8109 - val_loss: 0.4301 - val_accuracy: 0.8056\n",
      "Epoch 58/100\n",
      "313/313 [==============================] - 19s 61ms/step - loss: 0.4113 - accuracy: 0.8113 - val_loss: 0.4309 - val_accuracy: 0.8022\n",
      "Epoch 59/100\n",
      "313/313 [==============================] - 19s 61ms/step - loss: 0.4098 - accuracy: 0.8153 - val_loss: 0.4344 - val_accuracy: 0.7956\n",
      "Epoch 60/100\n",
      "313/313 [==============================] - 19s 61ms/step - loss: 0.4086 - accuracy: 0.8127 - val_loss: 0.4291 - val_accuracy: 0.8044\n",
      "Epoch 61/100\n",
      "313/313 [==============================] - 19s 61ms/step - loss: 0.4077 - accuracy: 0.8130 - val_loss: 0.4288 - val_accuracy: 0.8054\n",
      "Epoch 62/100\n",
      "313/313 [==============================] - 20s 63ms/step - loss: 0.4085 - accuracy: 0.8134 - val_loss: 0.4293 - val_accuracy: 0.8062\n",
      "Epoch 63/100\n",
      "313/313 [==============================] - 19s 62ms/step - loss: 0.4068 - accuracy: 0.8140 - val_loss: 0.4299 - val_accuracy: 0.8024\n",
      "Epoch 64/100\n",
      "313/313 [==============================] - 18s 59ms/step - loss: 0.4051 - accuracy: 0.8173 - val_loss: 0.4386 - val_accuracy: 0.7930\n"
     ]
    }
   ],
   "source": [
    "# 훈련하기\n",
    "rmsprop = keras.optimizers.RMSprop(learning_rate=1e-4)\n",
    "\n",
    "model.compile(\n",
    "    optimizer=rmsprop,\n",
    "    loss='binary_crossentropy',      # 이진분류\n",
    "    metrics='accuracy'\n",
    ")\n",
    "checkpoint_cb = keras.callbacks.ModelCheckpoint(\n",
    "    '../Data/best-2rnn-model.h5')\n",
    "early_stopping_cb = keras.callbacks.EarlyStopping(\n",
    "    patience=3,\n",
    "    restore_best_weights=True\n",
    ")\n",
    "\n",
    "history = model.fit(\n",
    "    train_seq,\n",
    "    train_target,\n",
    "    epochs=100,\n",
    "    batch_size=64,   # mini batch경사하강법. 일반 경사하강법은 너무 오래걸림 ( 8 * 8 )\n",
    "    validation_data=(val_seq, val_target),\n",
    "    callbacks=[checkpoint_cb, early_stopping_cb]\n",
    ")"
   ]
  },
  {
   "cell_type": "code",
   "execution_count": 25,
   "metadata": {},
   "outputs": [
    {
     "data": {
      "image/png": "[encoded data removed]",
      "text/plain": [
       "<Figure size 432x288 with 1 Axes>"
      ]
     },
     "metadata": {
      "needs_background": "light"
     },
     "output_type": "display_data"
    }
   ],
   "source": [
    "# 손실 시각화 \n",
    "import matplotlib.pyplot as plt \n",
    "\n",
    "plt.plot(history.history['loss'])\n",
    "plt.plot(history.history['val_loss'])\n",
    "plt.xlabel('epoch')\n",
    "plt.ylabel('loss')\n",
    "plt.legend(['train','val'])\n",
    "plt.show()"
   ]
  },
  {
   "cell_type": "markdown",
   "metadata": {},
   "source": [
    "---\n",
    "## GRU (Gated Recurrent Unit) 신경망 \n",
    "- LSTM의 간소화 버전(자동 dropout)\n",
    "- 기억할걸 정하는    "
   ]
  },
  {
   "cell_type": "code",
   "execution_count": 26,
   "metadata": {},
   "outputs": [
    {
     "name": "stdout",
     "output_type": "stream",
     "text": [
      "Model: \"sequential_4\"\n",
      "_________________________________________________________________\n",
      " Layer (type)                Output Shape              Param #   \n",
      "=================================================================\n",
      " embedding_3 (Embedding)     (None, 100, 16)           8000      \n",
      "                                                                 \n",
      " gru (GRU)                   (None, 8)                 624       \n",
      "                                                                 \n",
      " dense_4 (Dense)             (None, 1)                 9         \n",
      "                                                                 \n",
      "=================================================================\n",
      "Total params: 8,633\n",
      "Trainable params: 8,633\n",
      "Non-trainable params: 0\n",
      "_________________________________________________________________\n"
     ]
    }
   ],
   "source": [
    "model = keras.Sequential()\n",
    "model.add(keras.layers.Embedding(500, 16, input_length=100)) \n",
    "model.add(keras.layers.GRU(8)) \n",
    "model.add(keras.layers.Dense(1, activation='sigmoid'))\n",
    "\n",
    "model.summary()"
   ]
  },
  {
   "cell_type": "code",
   "execution_count": 27,
   "metadata": {},
   "outputs": [
    {
     "name": "stdout",
     "output_type": "stream",
     "text": [
      "Epoch 1/100\n",
      "313/313 [==============================] - 13s 35ms/step - loss: 0.6922 - accuracy: 0.5401 - val_loss: 0.6915 - val_accuracy: 0.5664\n",
      "Epoch 2/100\n",
      "313/313 [==============================] - 10s 33ms/step - loss: 0.6901 - accuracy: 0.5882 - val_loss: 0.6893 - val_accuracy: 0.5930\n",
      "Epoch 3/100\n",
      "313/313 [==============================] - 11s 36ms/step - loss: 0.6870 - accuracy: 0.6060 - val_loss: 0.6858 - val_accuracy: 0.6062\n",
      "Epoch 4/100\n",
      "313/313 [==============================] - 10s 33ms/step - loss: 0.6822 - accuracy: 0.6147 - val_loss: 0.6806 - val_accuracy: 0.6124\n",
      "Epoch 5/100\n",
      "313/313 [==============================] - 11s 34ms/step - loss: 0.6752 - accuracy: 0.6240 - val_loss: 0.6730 - val_accuracy: 0.6192\n",
      "Epoch 6/100\n",
      "313/313 [==============================] - 11s 34ms/step - loss: 0.6651 - accuracy: 0.6332 - val_loss: 0.6620 - val_accuracy: 0.6280\n",
      "Epoch 7/100\n",
      "313/313 [==============================] - 10s 33ms/step - loss: 0.6502 - accuracy: 0.6479 - val_loss: 0.6458 - val_accuracy: 0.6476\n",
      "Epoch 8/100\n",
      "313/313 [==============================] - 11s 34ms/step - loss: 0.6272 - accuracy: 0.6697 - val_loss: 0.6191 - val_accuracy: 0.6726\n",
      "Epoch 9/100\n",
      "313/313 [==============================] - 10s 33ms/step - loss: 0.5885 - accuracy: 0.7002 - val_loss: 0.5721 - val_accuracy: 0.7140\n",
      "Epoch 10/100\n",
      "313/313 [==============================] - 11s 34ms/step - loss: 0.5348 - accuracy: 0.7391 - val_loss: 0.5331 - val_accuracy: 0.7416\n",
      "Epoch 11/100\n",
      "313/313 [==============================] - 11s 34ms/step - loss: 0.5093 - accuracy: 0.7550 - val_loss: 0.5153 - val_accuracy: 0.7538\n",
      "Epoch 12/100\n",
      "313/313 [==============================] - 10s 34ms/step - loss: 0.4958 - accuracy: 0.7674 - val_loss: 0.5037 - val_accuracy: 0.7596\n",
      "Epoch 13/100\n",
      "313/313 [==============================] - 11s 34ms/step - loss: 0.4846 - accuracy: 0.7742 - val_loss: 0.4978 - val_accuracy: 0.7678\n",
      "Epoch 14/100\n",
      "313/313 [==============================] - 10s 33ms/step - loss: 0.4751 - accuracy: 0.7799 - val_loss: 0.4859 - val_accuracy: 0.7720\n",
      "Epoch 15/100\n",
      "313/313 [==============================] - 10s 34ms/step - loss: 0.4677 - accuracy: 0.7853 - val_loss: 0.4807 - val_accuracy: 0.7718\n",
      "Epoch 16/100\n",
      "313/313 [==============================] - 11s 34ms/step - loss: 0.4610 - accuracy: 0.7900 - val_loss: 0.4763 - val_accuracy: 0.7782\n",
      "Epoch 17/100\n",
      "313/313 [==============================] - 11s 34ms/step - loss: 0.4551 - accuracy: 0.7936 - val_loss: 0.4708 - val_accuracy: 0.7804\n",
      "Epoch 18/100\n",
      "313/313 [==============================] - 10s 33ms/step - loss: 0.4500 - accuracy: 0.7972 - val_loss: 0.4678 - val_accuracy: 0.7824\n",
      "Epoch 19/100\n",
      "313/313 [==============================] - 10s 33ms/step - loss: 0.4456 - accuracy: 0.7987 - val_loss: 0.4635 - val_accuracy: 0.7846\n",
      "Epoch 20/100\n",
      "313/313 [==============================] - 10s 33ms/step - loss: 0.4418 - accuracy: 0.8011 - val_loss: 0.4624 - val_accuracy: 0.7840\n",
      "Epoch 21/100\n",
      "313/313 [==============================] - 10s 33ms/step - loss: 0.4386 - accuracy: 0.8044 - val_loss: 0.4592 - val_accuracy: 0.7872\n",
      "Epoch 22/100\n",
      "313/313 [==============================] - 10s 33ms/step - loss: 0.4351 - accuracy: 0.8077 - val_loss: 0.4580 - val_accuracy: 0.7872\n",
      "Epoch 23/100\n",
      "313/313 [==============================] - 10s 33ms/step - loss: 0.4327 - accuracy: 0.8072 - val_loss: 0.4568 - val_accuracy: 0.7864\n",
      "Epoch 24/100\n",
      "313/313 [==============================] - 10s 33ms/step - loss: 0.4307 - accuracy: 0.8076 - val_loss: 0.4542 - val_accuracy: 0.7880\n",
      "Epoch 25/100\n",
      "313/313 [==============================] - 10s 33ms/step - loss: 0.4285 - accuracy: 0.8106 - val_loss: 0.4532 - val_accuracy: 0.7898\n",
      "Epoch 26/100\n",
      "313/313 [==============================] - 10s 33ms/step - loss: 0.4268 - accuracy: 0.8102 - val_loss: 0.4567 - val_accuracy: 0.7902\n",
      "Epoch 27/100\n",
      "313/313 [==============================] - 10s 33ms/step - loss: 0.4251 - accuracy: 0.8127 - val_loss: 0.4511 - val_accuracy: 0.7900\n",
      "Epoch 28/100\n",
      "313/313 [==============================] - 10s 33ms/step - loss: 0.4236 - accuracy: 0.8127 - val_loss: 0.4502 - val_accuracy: 0.7898\n",
      "Epoch 29/100\n",
      "313/313 [==============================] - 10s 33ms/step - loss: 0.4226 - accuracy: 0.8133 - val_loss: 0.4521 - val_accuracy: 0.7922\n",
      "Epoch 30/100\n",
      "313/313 [==============================] - 10s 33ms/step - loss: 0.4215 - accuracy: 0.8139 - val_loss: 0.4547 - val_accuracy: 0.7910\n",
      "Epoch 31/100\n",
      "313/313 [==============================] - 10s 33ms/step - loss: 0.4200 - accuracy: 0.8147 - val_loss: 0.4489 - val_accuracy: 0.7908\n",
      "Epoch 32/100\n",
      "313/313 [==============================] - 10s 33ms/step - loss: 0.4192 - accuracy: 0.8142 - val_loss: 0.4470 - val_accuracy: 0.7930\n",
      "Epoch 33/100\n",
      "313/313 [==============================] - 10s 32ms/step - loss: 0.4182 - accuracy: 0.8156 - val_loss: 0.4523 - val_accuracy: 0.7924\n",
      "Epoch 34/100\n",
      "313/313 [==============================] - 10s 33ms/step - loss: 0.4176 - accuracy: 0.8156 - val_loss: 0.4488 - val_accuracy: 0.7912\n",
      "Epoch 35/100\n",
      "313/313 [==============================] - 10s 33ms/step - loss: 0.4168 - accuracy: 0.8152 - val_loss: 0.4449 - val_accuracy: 0.7922\n",
      "Epoch 36/100\n",
      "313/313 [==============================] - 10s 33ms/step - loss: 0.4159 - accuracy: 0.8163 - val_loss: 0.4475 - val_accuracy: 0.7944\n",
      "Epoch 37/100\n",
      "313/313 [==============================] - 10s 33ms/step - loss: 0.4155 - accuracy: 0.8164 - val_loss: 0.4434 - val_accuracy: 0.7920\n",
      "Epoch 38/100\n",
      "313/313 [==============================] - 10s 32ms/step - loss: 0.4143 - accuracy: 0.8159 - val_loss: 0.4428 - val_accuracy: 0.7924\n",
      "Epoch 39/100\n",
      "313/313 [==============================] - 10s 33ms/step - loss: 0.4142 - accuracy: 0.8157 - val_loss: 0.4437 - val_accuracy: 0.7884\n",
      "Epoch 40/100\n",
      "313/313 [==============================] - 10s 33ms/step - loss: 0.4137 - accuracy: 0.8168 - val_loss: 0.4467 - val_accuracy: 0.7916\n",
      "Epoch 41/100\n",
      "313/313 [==============================] - 10s 33ms/step - loss: 0.4129 - accuracy: 0.8178 - val_loss: 0.4422 - val_accuracy: 0.7934\n",
      "Epoch 42/100\n",
      "313/313 [==============================] - 10s 33ms/step - loss: 0.4123 - accuracy: 0.8169 - val_loss: 0.4433 - val_accuracy: 0.7966\n",
      "Epoch 43/100\n",
      "313/313 [==============================] - 10s 33ms/step - loss: 0.4116 - accuracy: 0.8187 - val_loss: 0.4400 - val_accuracy: 0.7954\n",
      "Epoch 44/100\n",
      "313/313 [==============================] - 10s 32ms/step - loss: 0.4113 - accuracy: 0.8177 - val_loss: 0.4407 - val_accuracy: 0.7948\n",
      "Epoch 45/100\n",
      "313/313 [==============================] - 10s 33ms/step - loss: 0.4108 - accuracy: 0.8171 - val_loss: 0.4419 - val_accuracy: 0.7944\n",
      "Epoch 46/100\n",
      "313/313 [==============================] - 10s 33ms/step - loss: 0.4100 - accuracy: 0.8170 - val_loss: 0.4444 - val_accuracy: 0.7910\n"
     ]
    }
   ],
   "source": [
    "# 훈련하기\n",
    "rmsprop = keras.optimizers.RMSprop(learning_rate=1e-4)\n",
    "\n",
    "model.compile(\n",
    "    optimizer=rmsprop,\n",
    "    loss='binary_crossentropy',      # 이진분류\n",
    "    metrics='accuracy'\n",
    ")\n",
    "checkpoint_cb = keras.callbacks.ModelCheckpoint(\n",
    "    '../Data/best-gru-model.h5')\n",
    "early_stopping_cb = keras.callbacks.EarlyStopping(\n",
    "    patience=3,\n",
    "    restore_best_weights=True\n",
    ")\n",
    "\n",
    "history = model.fit(\n",
    "    train_seq,\n",
    "    train_target,\n",
    "    epochs=100,\n",
    "    batch_size=64,   # mini batch경사하강법. 일반 경사하강법은 너무 오래걸림 ( 8 * 8 )\n",
    "    validation_data=(val_seq, val_target),\n",
    "    callbacks=[checkpoint_cb, early_stopping_cb]\n",
    ")"
   ]
  },
  {
   "cell_type": "code",
   "execution_count": 28,
   "metadata": {},
   "outputs": [
    {
     "data": {
      "image/png": "[encoded data removed]",
      "text/plain": [
       "<Figure size 432x288 with 1 Axes>"
      ]
     },
     "metadata": {
      "needs_background": "light"
     },
     "output_type": "display_data"
    }
   ],
   "source": [
    "# 손실 시각화 \n",
    "import matplotlib.pyplot as plt \n",
    "\n",
    "plt.plot(history.history['loss'])\n",
    "plt.plot(history.history['val_loss'])\n",
    "plt.xlabel('epoch')\n",
    "plt.ylabel('loss')\n",
    "plt.legend(['train','val'])\n",
    "plt.show()"
   ]
  }
 ],
 "metadata": {
  "kernelspec": {
   "display_name": "Python 3.9.12 ('base')",
   "language": "python",
   "name": "python3"
  },
  "language_info": {
   "codemirror_mode": {
    "name": "ipython",
    "version": 3
   },
   "file_extension": ".py",
   "mimetype": "text/x-python",
   "name": "python",
   "nbconvert_exporter": "python",
   "pygments_lexer": "ipython3",
   "version": "3.9.12"
  },
  "orig_nbformat": 4,
  "vscode": {
   "interpreter": {
    "hash": "c34e8390e776d2ee205b71ed5a6130fee3cef8da5e87e926ce18e14f4a070d72"
   }
  }
 },
 "nbformat": 4,
 "nbformat_minor": 2
}
