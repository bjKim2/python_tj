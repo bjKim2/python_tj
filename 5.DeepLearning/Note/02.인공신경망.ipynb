{
 "cells": [
  {
   "cell_type": "code",
<<<<<<< HEAD
   "execution_count": 4,
=======
   "execution_count": 3,
>>>>>>> 8fbf841f90f40865063641e39ddbfdba762f03b6
   "metadata": {},
   "outputs": [],
   "source": [
    "import warnings\n",
    "warnings.filterwarnings('ignore')"
   ]
  },
  {
   "cell_type": "markdown",
   "metadata": {},
   "source": [
    "# 패션 MNIST\n",
    "- 구두, 가방, 옷등의 이미지로 구성\n",
    "- 총 10개 Class\n",
    "- 28pixel * 28pixel = 784의 Feature로 구성"
   ]
  },
  {
   "cell_type": "code",
<<<<<<< HEAD
   "execution_count": 5,
   "metadata": {},
   "outputs": [
    {
     "name": "stdout",
     "output_type": "stream",
     "text": [
      "Requirement already satisfied: tensorflow in /Users/tj/opt/anaconda3/lib/python3.9/site-packages (2.9.1)\n",
      "Requirement already satisfied: termcolor>=1.1.0 in /Users/tj/opt/anaconda3/lib/python3.9/site-packages (from tensorflow) (1.1.0)\n",
      "Requirement already satisfied: numpy>=1.20 in /Users/tj/opt/anaconda3/lib/python3.9/site-packages (from tensorflow) (1.20.3)\n",
      "Requirement already satisfied: tensorflow-io-gcs-filesystem>=0.23.1 in /Users/tj/opt/anaconda3/lib/python3.9/site-packages (from tensorflow) (0.26.0)\n",
      "Requirement already satisfied: opt-einsum>=2.3.2 in /Users/tj/opt/anaconda3/lib/python3.9/site-packages (from tensorflow) (3.3.0)\n",
      "Requirement already satisfied: typing-extensions>=3.6.6 in /Users/tj/opt/anaconda3/lib/python3.9/site-packages (from tensorflow) (3.10.0.2)\n",
      "Requirement already satisfied: absl-py>=1.0.0 in /Users/tj/opt/anaconda3/lib/python3.9/site-packages (from tensorflow) (1.2.0)\n",
      "Requirement already satisfied: gast<=0.4.0,>=0.2.1 in /Users/tj/opt/anaconda3/lib/python3.9/site-packages (from tensorflow) (0.4.0)\n",
      "Requirement already satisfied: flatbuffers<2,>=1.12 in /Users/tj/opt/anaconda3/lib/python3.9/site-packages (from tensorflow) (1.12)\n",
      "Requirement already satisfied: six>=1.12.0 in /Users/tj/opt/anaconda3/lib/python3.9/site-packages (from tensorflow) (1.16.0)\n",
      "Requirement already satisfied: keras<2.10.0,>=2.9.0rc0 in /Users/tj/opt/anaconda3/lib/python3.9/site-packages (from tensorflow) (2.9.0)\n",
      "Requirement already satisfied: tensorboard<2.10,>=2.9 in /Users/tj/opt/anaconda3/lib/python3.9/site-packages (from tensorflow) (2.9.1)\n",
      "Requirement already satisfied: libclang>=13.0.0 in /Users/tj/opt/anaconda3/lib/python3.9/site-packages (from tensorflow) (14.0.1)\n",
      "Requirement already satisfied: tensorflow-estimator<2.10.0,>=2.9.0rc0 in /Users/tj/opt/anaconda3/lib/python3.9/site-packages (from tensorflow) (2.9.0)\n",
      "Requirement already satisfied: setuptools in /Users/tj/opt/anaconda3/lib/python3.9/site-packages (from tensorflow) (58.0.4)\n",
      "Requirement already satisfied: packaging in /Users/tj/opt/anaconda3/lib/python3.9/site-packages (from tensorflow) (21.0)\n",
      "Requirement already satisfied: keras-preprocessing>=1.1.1 in /Users/tj/opt/anaconda3/lib/python3.9/site-packages (from tensorflow) (1.1.2)\n",
      "Requirement already satisfied: wrapt>=1.11.0 in /Users/tj/opt/anaconda3/lib/python3.9/site-packages (from tensorflow) (1.12.1)\n",
      "Requirement already satisfied: astunparse>=1.6.0 in /Users/tj/opt/anaconda3/lib/python3.9/site-packages (from tensorflow) (1.6.3)\n",
      "Requirement already satisfied: protobuf<3.20,>=3.9.2 in /Users/tj/opt/anaconda3/lib/python3.9/site-packages (from tensorflow) (3.19.4)\n",
      "Requirement already satisfied: google-pasta>=0.1.1 in /Users/tj/opt/anaconda3/lib/python3.9/site-packages (from tensorflow) (0.2.0)\n",
      "Requirement already satisfied: h5py>=2.9.0 in /Users/tj/opt/anaconda3/lib/python3.9/site-packages (from tensorflow) (3.2.1)\n",
      "Requirement already satisfied: grpcio<2.0,>=1.24.3 in /Users/tj/opt/anaconda3/lib/python3.9/site-packages (from tensorflow) (1.47.0)\n",
      "Requirement already satisfied: wheel<1.0,>=0.23.0 in /Users/tj/opt/anaconda3/lib/python3.9/site-packages (from astunparse>=1.6.0->tensorflow) (0.37.0)\n",
      "Requirement already satisfied: tensorboard-data-server<0.7.0,>=0.6.0 in /Users/tj/opt/anaconda3/lib/python3.9/site-packages (from tensorboard<2.10,>=2.9->tensorflow) (0.6.1)\n",
      "Requirement already satisfied: google-auth-oauthlib<0.5,>=0.4.1 in /Users/tj/opt/anaconda3/lib/python3.9/site-packages (from tensorboard<2.10,>=2.9->tensorflow) (0.4.6)\n",
      "Requirement already satisfied: google-auth<3,>=1.6.3 in /Users/tj/opt/anaconda3/lib/python3.9/site-packages (from tensorboard<2.10,>=2.9->tensorflow) (2.9.1)\n",
      "Requirement already satisfied: tensorboard-plugin-wit>=1.6.0 in /Users/tj/opt/anaconda3/lib/python3.9/site-packages (from tensorboard<2.10,>=2.9->tensorflow) (1.8.1)\n",
      "Requirement already satisfied: werkzeug>=1.0.1 in /Users/tj/opt/anaconda3/lib/python3.9/site-packages (from tensorboard<2.10,>=2.9->tensorflow) (2.0.2)\n",
      "Requirement already satisfied: requests<3,>=2.21.0 in /Users/tj/opt/anaconda3/lib/python3.9/site-packages (from tensorboard<2.10,>=2.9->tensorflow) (2.26.0)\n",
      "Requirement already satisfied: markdown>=2.6.8 in /Users/tj/opt/anaconda3/lib/python3.9/site-packages (from tensorboard<2.10,>=2.9->tensorflow) (3.4.1)\n",
      "Requirement already satisfied: cachetools<6.0,>=2.0.0 in /Users/tj/opt/anaconda3/lib/python3.9/site-packages (from google-auth<3,>=1.6.3->tensorboard<2.10,>=2.9->tensorflow) (5.2.0)\n",
      "Requirement already satisfied: rsa<5,>=3.1.4 in /Users/tj/opt/anaconda3/lib/python3.9/site-packages (from google-auth<3,>=1.6.3->tensorboard<2.10,>=2.9->tensorflow) (4.8)\n",
      "Requirement already satisfied: pyasn1-modules>=0.2.1 in /Users/tj/opt/anaconda3/lib/python3.9/site-packages (from google-auth<3,>=1.6.3->tensorboard<2.10,>=2.9->tensorflow) (0.2.8)\n",
      "Requirement already satisfied: requests-oauthlib>=0.7.0 in /Users/tj/opt/anaconda3/lib/python3.9/site-packages (from google-auth-oauthlib<0.5,>=0.4.1->tensorboard<2.10,>=2.9->tensorflow) (1.3.1)\n",
      "Requirement already satisfied: importlib-metadata>=4.4 in /Users/tj/opt/anaconda3/lib/python3.9/site-packages (from markdown>=2.6.8->tensorboard<2.10,>=2.9->tensorflow) (4.8.1)\n",
      "Requirement already satisfied: zipp>=0.5 in /Users/tj/opt/anaconda3/lib/python3.9/site-packages (from importlib-metadata>=4.4->markdown>=2.6.8->tensorboard<2.10,>=2.9->tensorflow) (3.6.0)\n",
      "Requirement already satisfied: pyasn1<0.5.0,>=0.4.6 in /Users/tj/opt/anaconda3/lib/python3.9/site-packages (from pyasn1-modules>=0.2.1->google-auth<3,>=1.6.3->tensorboard<2.10,>=2.9->tensorflow) (0.4.8)\n",
      "Requirement already satisfied: idna<4,>=2.5 in /Users/tj/opt/anaconda3/lib/python3.9/site-packages (from requests<3,>=2.21.0->tensorboard<2.10,>=2.9->tensorflow) (3.2)\n",
      "Requirement already satisfied: urllib3<1.27,>=1.21.1 in /Users/tj/opt/anaconda3/lib/python3.9/site-packages (from requests<3,>=2.21.0->tensorboard<2.10,>=2.9->tensorflow) (1.26.7)\n",
      "Requirement already satisfied: charset-normalizer~=2.0.0 in /Users/tj/opt/anaconda3/lib/python3.9/site-packages (from requests<3,>=2.21.0->tensorboard<2.10,>=2.9->tensorflow) (2.0.4)\n",
      "Requirement already satisfied: certifi>=2017.4.17 in /Users/tj/opt/anaconda3/lib/python3.9/site-packages (from requests<3,>=2.21.0->tensorboard<2.10,>=2.9->tensorflow) (2021.10.8)\n",
      "Requirement already satisfied: oauthlib>=3.0.0 in /Users/tj/opt/anaconda3/lib/python3.9/site-packages (from requests-oauthlib>=0.7.0->google-auth-oauthlib<0.5,>=0.4.1->tensorboard<2.10,>=2.9->tensorflow) (3.2.0)\n",
      "Requirement already satisfied: pyparsing>=2.0.2 in /Users/tj/opt/anaconda3/lib/python3.9/site-packages (from packaging->tensorflow) (3.0.4)\n"
     ]
    }
   ],
   "source": [
    "!pip install tensorflow"
   ]
  },
  {
   "cell_type": "code",
   "execution_count": null,
   "metadata": {},
   "outputs": [],
   "source": []
  },
  {
   "cell_type": "code",
   "execution_count": null,
   "metadata": {},
   "outputs": [],
   "source": []
  },
  {
   "cell_type": "code",
   "execution_count": 3,
=======
   "execution_count": 4,
>>>>>>> 8fbf841f90f40865063641e39ddbfdba762f03b6
   "metadata": {},
   "outputs": [
    {
     "name": "stdout",
     "output_type": "stream",
     "text": [
      "Downloading data from https://storage.googleapis.com/tensorflow/tf-keras-datasets/train-labels-idx1-ubyte.gz\n",
      "29515/29515 [==============================] - 0s 1us/step\n",
      "Downloading data from https://storage.googleapis.com/tensorflow/tf-keras-datasets/train-images-idx3-ubyte.gz\n",
      "26421880/26421880 [==============================] - 7s 0us/step\n",
      "Downloading data from https://storage.googleapis.com/tensorflow/tf-keras-datasets/t10k-labels-idx1-ubyte.gz\n",
      "5148/5148 [==============================] - 0s 0us/step\n",
      "Downloading data from https://storage.googleapis.com/tensorflow/tf-keras-datasets/t10k-images-idx3-ubyte.gz\n",
      "4422102/4422102 [==============================] - 2s 0us/step\n"
     ]
    }
   ],
   "source": [
    "# 데이터 불러오기\n",
    "from tensorflow import keras\n",
    "(train_input,train_target), (test_input, test_target) = keras.datasets.fashion_mnist.load_data()\n"
   ]
  },
  {
   "cell_type": "code",
<<<<<<< HEAD
   "execution_count": 6,
=======
   "execution_count": 5,
>>>>>>> 8fbf841f90f40865063641e39ddbfdba762f03b6
   "metadata": {},
   "outputs": [
    {
     "name": "stdout",
     "output_type": "stream",
     "text": [
      "(60000, 28, 28) (60000,)\n"
     ]
    }
   ],
   "source": [
    "print(train_input.shape, train_target.shape)"
   ]
  },
  {
   "cell_type": "code",
<<<<<<< HEAD
   "execution_count": 7,
=======
   "execution_count": 6,
>>>>>>> 8fbf841f90f40865063641e39ddbfdba762f03b6
   "metadata": {},
   "outputs": [
    {
     "name": "stdout",
     "output_type": "stream",
     "text": [
      "(10000, 28, 28) (10000,)\n"
     ]
    }
   ],
   "source": [
    "# test data\n",
    "print(test_input.shape, test_target.shape)"
   ]
  },
  {
   "cell_type": "code",
<<<<<<< HEAD
   "execution_count": 8,
=======
   "execution_count": 7,
>>>>>>> 8fbf841f90f40865063641e39ddbfdba762f03b6
   "metadata": {},
   "outputs": [
    {
     "data": {
      "text/plain": [
       "array([9, 0, 0, 3, 0, 2, 7, 2, 5, 5], dtype=uint8)"
      ]
     },
<<<<<<< HEAD
     "execution_count": 8,
=======
     "execution_count": 7,
>>>>>>> 8fbf841f90f40865063641e39ddbfdba762f03b6
     "metadata": {},
     "output_type": "execute_result"
    }
   ],
   "source": [
    "# train의 target data 파악\n",
    "train_target[0:10]"
   ]
  },
  {
   "cell_type": "markdown",
   "metadata": {},
   "source": [
    "0 : 티셔츠  \n",
    "1 : 바지  \n",
    "2 : 스웨터  \n",
    "3 : 드레스  \n",
    "4 : 코트  \n",
    "5 : 샌들  \n",
    "6 : 셔츠  \n",
    "7 : 스니커즈  \n",
    "8 : 가방  \n",
    "9 : 앵클부츠  "
   ]
  },
  {
   "cell_type": "code",
   "execution_count": null,
   "metadata": {},
   "outputs": [],
   "source": []
  },
  {
   "cell_type": "code",
<<<<<<< HEAD
   "execution_count": 9,
=======
   "execution_count": 8,
>>>>>>> 8fbf841f90f40865063641e39ddbfdba762f03b6
   "metadata": {},
   "outputs": [
    {
     "data": {
<<<<<<< HEAD
      "image/png": "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",
=======
      "image/png": "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",
>>>>>>> 8fbf841f90f40865063641e39ddbfdba762f03b6
      "text/plain": [
       "<Figure size 720x720 with 10 Axes>"
      ]
     },
     "metadata": {
      "needs_background": "light"
     },
     "output_type": "display_data"
    }
   ],
   "source": [
    "# train_input의 모양 10개만 출력해보기\n",
    "import matplotlib.pyplot as plt\n",
    "\n",
    "fig, axs = plt.subplots(1, 10, figsize= (10,10))\n",
    "\n",
    "for i in range(10):\n",
    "    axs[i].imshow(train_input[train_target==i][0],cmap = 'gray_r')\n",
    "    axs[i].axis('off')\n",
    "    \n",
    "plt.show()"
   ]
  },
  {
   "cell_type": "code",
<<<<<<< HEAD
   "execution_count": 10,
=======
   "execution_count": 9,
>>>>>>> 8fbf841f90f40865063641e39ddbfdba762f03b6
   "metadata": {},
   "outputs": [
    {
     "data": {
      "text/plain": [
       "(array([0, 1, 2, 3, 4, 5, 6, 7, 8, 9], dtype=uint8),\n",
       " array([6000, 6000, 6000, 6000, 6000, 6000, 6000, 6000, 6000, 6000]))"
      ]
     },
<<<<<<< HEAD
     "execution_count": 10,
=======
     "execution_count": 9,
>>>>>>> 8fbf841f90f40865063641e39ddbfdba762f03b6
     "metadata": {},
     "output_type": "execute_result"
    }
   ],
   "source": [
    "# train_target의 종류 및 갯수 파악\n",
    "import numpy as np\n",
    "\n",
    "np.unique(train_target, return_counts=True)"
   ]
  },
  {
   "cell_type": "markdown",
   "metadata": {},
   "source": [
    "----\n",
    "### 로지스틱 회귀로 패션 아이템 분류하기"
   ]
  },
  {
   "cell_type": "code",
<<<<<<< HEAD
   "execution_count": 11,
=======
   "execution_count": 10,
>>>>>>> 8fbf841f90f40865063641e39ddbfdba762f03b6
   "metadata": {},
   "outputs": [],
   "source": [
    "# 데이터 표준화 및 2차 행렬로 만들기\n",
    "train_scaled = train_input / 255.0\n",
    "train_scaled = train_scaled.reshape(-1,28*28)"
   ]
  },
  {
   "cell_type": "code",
<<<<<<< HEAD
   "execution_count": 12,
=======
   "execution_count": 11,
>>>>>>> 8fbf841f90f40865063641e39ddbfdba762f03b6
   "metadata": {},
   "outputs": [
    {
     "data": {
      "text/plain": [
       "(60000, 784)"
      ]
     },
<<<<<<< HEAD
     "execution_count": 12,
=======
     "execution_count": 11,
>>>>>>> 8fbf841f90f40865063641e39ddbfdba762f03b6
     "metadata": {},
     "output_type": "execute_result"
    }
   ],
   "source": [
    "# Dimension 확인\n",
    "train_scaled.shape"
   ]
  },
  {
   "cell_type": "code",
<<<<<<< HEAD
   "execution_count": 13,
=======
   "execution_count": 12,
>>>>>>> 8fbf841f90f40865063641e39ddbfdba762f03b6
   "metadata": {},
   "outputs": [
    {
     "name": "stderr",
     "output_type": "stream",
     "text": [
<<<<<<< HEAD
      "/Users/tj/opt/anaconda3/lib/python3.9/site-packages/sklearn/linear_model/_stochastic_gradient.py:574: ConvergenceWarning: Maximum number of iteration reached before convergence. Consider increasing max_iter to improve the fit.\n",
      "  warnings.warn(\"Maximum number of iteration reached before \"\n",
      "/Users/tj/opt/anaconda3/lib/python3.9/site-packages/sklearn/linear_model/_stochastic_gradient.py:574: ConvergenceWarning: Maximum number of iteration reached before convergence. Consider increasing max_iter to improve the fit.\n",
      "  warnings.warn(\"Maximum number of iteration reached before \"\n",
      "/Users/tj/opt/anaconda3/lib/python3.9/site-packages/sklearn/linear_model/_stochastic_gradient.py:574: ConvergenceWarning: Maximum number of iteration reached before convergence. Consider increasing max_iter to improve the fit.\n",
      "  warnings.warn(\"Maximum number of iteration reached before \"\n",
      "/Users/tj/opt/anaconda3/lib/python3.9/site-packages/sklearn/linear_model/_stochastic_gradient.py:574: ConvergenceWarning: Maximum number of iteration reached before convergence. Consider increasing max_iter to improve the fit.\n",
      "  warnings.warn(\"Maximum number of iteration reached before \"\n",
      "/Users/tj/opt/anaconda3/lib/python3.9/site-packages/sklearn/linear_model/_stochastic_gradient.py:574: ConvergenceWarning: Maximum number of iteration reached before convergence. Consider increasing max_iter to improve the fit.\n",
      "  warnings.warn(\"Maximum number of iteration reached before \"\n"
=======
      "/Users/kte/opt/anaconda3/envs/tensorflow/lib/python3.9/site-packages/sklearn/linear_model/_stochastic_gradient.py:696: ConvergenceWarning: Maximum number of iteration reached before convergence. Consider increasing max_iter to improve the fit.\n",
      "  warnings.warn(\n",
      "/Users/kte/opt/anaconda3/envs/tensorflow/lib/python3.9/site-packages/sklearn/linear_model/_stochastic_gradient.py:696: ConvergenceWarning: Maximum number of iteration reached before convergence. Consider increasing max_iter to improve the fit.\n",
      "  warnings.warn(\n",
      "/Users/kte/opt/anaconda3/envs/tensorflow/lib/python3.9/site-packages/sklearn/linear_model/_stochastic_gradient.py:696: ConvergenceWarning: Maximum number of iteration reached before convergence. Consider increasing max_iter to improve the fit.\n",
      "  warnings.warn(\n",
      "/Users/kte/opt/anaconda3/envs/tensorflow/lib/python3.9/site-packages/sklearn/linear_model/_stochastic_gradient.py:696: ConvergenceWarning: Maximum number of iteration reached before convergence. Consider increasing max_iter to improve the fit.\n",
      "  warnings.warn(\n",
      "/Users/kte/opt/anaconda3/envs/tensorflow/lib/python3.9/site-packages/sklearn/linear_model/_stochastic_gradient.py:696: ConvergenceWarning: Maximum number of iteration reached before convergence. Consider increasing max_iter to improve the fit.\n",
      "  warnings.warn(\n"
>>>>>>> 8fbf841f90f40865063641e39ddbfdba762f03b6
     ]
    },
    {
     "data": {
      "text/plain": [
       "0.8197166666666666"
      ]
     },
<<<<<<< HEAD
     "execution_count": 13,
=======
     "execution_count": 12,
>>>>>>> 8fbf841f90f40865063641e39ddbfdba762f03b6
     "metadata": {},
     "output_type": "execute_result"
    }
   ],
   "source": [
    "# 로지스틱 회귀 모델\n",
    "from sklearn.model_selection import cross_validate\n",
    "from sklearn.linear_model import SGDClassifier\n",
    "\n",
    "sc = SGDClassifier(loss = 'log', max_iter = 5,random_state=42) \n",
    "\n",
    "# log_loss 로지스틱회귀모델이 시그모이드임 파이썬 3.9는 log_loss 됨 \n",
    "# max_iter : 100으로 하면 warnings message가 없으나 뒷 부분의 인공신경망과 동일한 횟수를 구성하려고 5로 했음\n",
    "# loss : 손실함수\n",
    "# max_iter : 반복학습\n",
    "# sklearn에는 손실함수가 log뿐이 없다, 원래 log는 이진분류이나\n",
    "# 위의 예제는 다중분류이다. 이때는 OVR(One Versus Rest) 방식으로 10개의 컬럼 중 1개를 정하고 나머지 9개는 나머지로 정하여 사용한 후\n",
    "# sigmoid나 softmax의 확률 변수로 정의한다.\n",
    "\n",
    "scores = cross_validate(sc, train_scaled,train_target,n_jobs=-1)\n",
    "np.mean(scores['test_score'])\n"
   ]
  },
  {
   "cell_type": "code",
<<<<<<< HEAD
   "execution_count": 14,
=======
   "execution_count": 13,
>>>>>>> 8fbf841f90f40865063641e39ddbfdba762f03b6
   "metadata": {},
   "outputs": [
    {
     "data": {
      "text/plain": [
<<<<<<< HEAD
       "{'fit_time': array([12.10701275, 12.09905481, 12.06539917, 12.05641699,  6.19819641]),\n",
       " 'score_time': array([0.36628008, 0.38011217, 0.38702989, 0.36903906, 0.02402997]),\n",
       " 'test_score': array([0.82933333, 0.82041667, 0.8205    , 0.80883333, 0.81733333])}"
      ]
     },
     "execution_count": 14,
=======
       "{'fit_time': array([19.55198002, 20.20747805, 19.88969612, 20.22846317, 20.02506304]),\n",
       " 'score_time': array([0.35159707, 0.06976104, 0.22650599, 0.05741906, 0.133919  ]),\n",
       " 'test_score': array([0.83075   , 0.82025   , 0.82116667, 0.80841667, 0.818     ])}"
      ]
     },
     "execution_count": 13,
>>>>>>> 8fbf841f90f40865063641e39ddbfdba762f03b6
     "metadata": {},
     "output_type": "execute_result"
    }
   ],
   "source": [
    "scores"
   ]
  },
  {
   "cell_type": "markdown",
   "metadata": {},
   "source": [
    "---\n",
    "## 인공신경망"
   ]
  },
  {
   "cell_type": "markdown",
   "metadata": {},
   "source": [
    "- 가장 간단한 인공신경망 입력층과 출력층 \n",
    "- 경사하강법 사용한 로지스틱 회귀나 경사하강법을 사용한 선형회귀 거의 똑같은 구조"
   ]
  },
  {
   "cell_type": "markdown",
   "metadata": {},
   "source": [
    "### tensorFlow의 Keras\n",
    "- Tensorflow는 2015년 구글에서 Opensource로 발표, 이와 비슷한 기능이 Pytorch가 있는 데 2016년에 facebook에서 발표\n",
    "- Pytorch는 Tensorflow보다는 코딩량이 적다.\n",
    "- Tensorflow만으로 작업을 하게 되면 너무 복잡한 코딩을 하게된다.\n",
    "- 이를 기존 방법처럼 간단하게 처리할 수 있는 방법이 Keras이다.\n",
    "- Keras는 2015년(프랑스와 숄레)에 Tensorflow보다 먼저 사용되고 있었고 씨아노(GPU사용)라는 모듈을 기반으로 작성 되어 있었다.\n",
    "- Keras 개발자가 구글에 입사하여 Tensorflow를 쉽게 처리할 수 있도록 제작 하였음.\n",
    "- 최근에는 Tensorflow와 Keras는 거의 동의어로 부른다."
   ]
  },
  {
   "cell_type": "code",
<<<<<<< HEAD
   "execution_count": 15,
=======
   "execution_count": 14,
>>>>>>> 8fbf841f90f40865063641e39ddbfdba762f03b6
   "metadata": {},
   "outputs": [],
   "source": [
    "from sklearn.model_selection import train_test_split\n",
    "train_scaled, val_scaled, train_target, val_target = train_test_split(\n",
    "    train_scaled, train_target, test_size=0.2,random_state=42,\n",
    ")"
   ]
  },
  {
   "cell_type": "code",
<<<<<<< HEAD
   "execution_count": 16,
=======
   "execution_count": 15,
>>>>>>> 8fbf841f90f40865063641e39ddbfdba762f03b6
   "metadata": {},
   "outputs": [
    {
     "name": "stdout",
     "output_type": "stream",
     "text": [
      "(48000, 784) (48000,)\n",
      "(12000, 784) (12000,)\n"
     ]
    }
   ],
   "source": [
    "# Dimension 확인\n",
    "print(train_scaled.shape, train_target.shape)\n",
    "print(val_scaled.shape, val_target.shape)"
   ]
  },
  {
   "cell_type": "code",
<<<<<<< HEAD
   "execution_count": 17,
=======
   "execution_count": 23,
>>>>>>> 8fbf841f90f40865063641e39ddbfdba762f03b6
   "metadata": {},
   "outputs": [],
   "source": [
    "# GPU 사용 설정\n",
    "import os\n",
    "os.environ['TF_CPP_MIN_LOG_LEVEL'] = '1' # 3했는데 나오면 2로 2했는데 안되면 1로 하셈. 1일 젤좋음"
   ]
  },
  {
   "cell_type": "code",
<<<<<<< HEAD
   "execution_count": 18,
=======
   "execution_count": 17,
>>>>>>> 8fbf841f90f40865063641e39ddbfdba762f03b6
   "metadata": {},
   "outputs": [],
   "source": [
    "# 가장 기본이 되는 출력층 만들기\n",
    "dense = keras.layers.Dense(10, activation='softmax', input_shape=(784,))\n",
    "\n",
    "# 10개 노드를 가진 출력층과 입력값을 784개이며 층이 하나이므로 첫번째 입력되는 층에서 input_shape를 정의\n",
    "# 다중 분류이므로 activation은 softmax를 사용, 이진 분류인 경우이면 sigmoid로 표시 \n",
    "# 출력층의 갯수는 클래스 갯수와 동일하여야 함."
   ]
  },
  {
   "cell_type": "code",
<<<<<<< HEAD
   "execution_count": 19,
=======
   "execution_count": 18,
>>>>>>> 8fbf841f90f40865063641e39ddbfdba762f03b6
   "metadata": {},
   "outputs": [
    {
     "name": "stdout",
     "output_type": "stream",
     "text": [
      "Metal device set to: Apple M1\n",
      "\n",
      "systemMemory: 8.00 GB\n",
      "maxCacheSize: 2.67 GB\n",
      "\n"
     ]
    }
   ],
   "source": [
    "# 모델에 추가되는 층은 출력 층 하나뿐임. (입력층은 모델에 포함이 안됨)\n",
    "\n",
    "# Keras의 전체 모델에 층을 추가한다. \n",
    "model = keras.Sequential(dense) "
   ]
  },
  {
   "cell_type": "markdown",
   "metadata": {},
   "source": [
    "### 모델 설정하기"
   ]
  },
  {
   "cell_type": "code",
   "execution_count": 19,
   "metadata": {},
   "outputs": [],
   "source": [
    "# 손실함수 설정\n",
    "# 손실함수의 이름이 컴파일임... 우리가 아는 compile은 아니고 메소드 이름임\n",
    "model.compile(loss = 'sparse_categorical_crossentropy', metrics='accuracy') # 이진분류면 binary_crossentropy\n",
    "# 정수로 구성된 target data를 사용하고 싶으면 loss함수명 앞에  sparse_를 붙여준다.\n",
    "# 그렇지 않으면 이진 분류의 경우는 binary_crossentropy를 사용하고 다중분류인 경우에는 categorical_crossentropy를 사용하는데\n",
    "# 위의 손실함수를 사용하면 원핫인코딩된 결과값이 나온다."
   ]
  },
  {
   "cell_type": "code",
<<<<<<< HEAD
   "execution_count": 21,
=======
   "execution_count": 20,
>>>>>>> 8fbf841f90f40865063641e39ddbfdba762f03b6
   "metadata": {},
   "outputs": [
    {
     "data": {
      "text/plain": [
       "array([7, 3, 5, 8, 6, 9, 3, 3, 9, 9], dtype=uint8)"
      ]
     },
<<<<<<< HEAD
     "execution_count": 21,
=======
     "execution_count": 20,
>>>>>>> 8fbf841f90f40865063641e39ddbfdba762f03b6
     "metadata": {},
     "output_type": "execute_result"
    }
   ],
   "source": [
    "# 현재의 target 확인\n",
    "train_target[:10]"
   ]
  },
  {
   "cell_type": "code",
<<<<<<< HEAD
   "execution_count": 22,
=======
   "execution_count": 21,
>>>>>>> 8fbf841f90f40865063641e39ddbfdba762f03b6
   "metadata": {},
   "outputs": [
    {
     "name": "stdout",
     "output_type": "stream",
     "text": [
      "Epoch 1/5\n",
<<<<<<< HEAD
      "1500/1500 [==============================] - 2s 1ms/step - loss: 0.6106 - accuracy: 0.7922\n",
      "Epoch 2/5\n",
      "1500/1500 [==============================] - 2s 1ms/step - loss: 0.4807 - accuracy: 0.8390\n",
      "Epoch 3/5\n",
      "1500/1500 [==============================] - 2s 1ms/step - loss: 0.4557 - accuracy: 0.8476\n",
      "Epoch 4/5\n",
      "1500/1500 [==============================] - 2s 1ms/step - loss: 0.4456 - accuracy: 0.8525\n",
      "Epoch 5/5\n",
      "1500/1500 [==============================] - 2s 1ms/step - loss: 0.4371 - accuracy: 0.8543\n"
=======
      "1500/1500 [==============================] - 9s 5ms/step - loss: 0.6067 - accuracy: 0.7947\n",
      "Epoch 2/5\n",
      "1500/1500 [==============================] - 7s 5ms/step - loss: 0.4799 - accuracy: 0.8380\n",
      "Epoch 3/5\n",
      "1500/1500 [==============================] - 7s 5ms/step - loss: 0.4571 - accuracy: 0.8463\n",
      "Epoch 4/5\n",
      "1500/1500 [==============================] - 7s 5ms/step - loss: 0.4448 - accuracy: 0.8520\n",
      "Epoch 5/5\n",
      "1500/1500 [==============================] - 7s 5ms/step - loss: 0.4388 - accuracy: 0.8548\n"
>>>>>>> 8fbf841f90f40865063641e39ddbfdba762f03b6
     ]
    },
    {
     "data": {
      "text/plain": [
<<<<<<< HEAD
       "<keras.callbacks.History at 0x7fc658156730>"
      ]
     },
     "execution_count": 22,
=======
       "<keras.callbacks.History at 0x29a7bd070>"
      ]
     },
     "execution_count": 21,
>>>>>>> 8fbf841f90f40865063641e39ddbfdba762f03b6
     "metadata": {},
     "output_type": "execute_result"
    }
   ],
   "source": [
    "model.fit(train_scaled, train_target, epochs=5)"
   ]
  },
  {
   "cell_type": "code",
   "execution_count": 24,
   "metadata": {},
   "outputs": [
    {
     "name": "stdout",
     "output_type": "stream",
     "text": [
      "Epoch 1/20\n",
      "1500/1500 [==============================] - 7s 5ms/step - loss: 0.4314 - accuracy: 0.8564\n",
      "Epoch 2/20\n",
      "1500/1500 [==============================] - 7s 5ms/step - loss: 0.4289 - accuracy: 0.8599\n",
      "Epoch 3/20\n",
      "1500/1500 [==============================] - 7s 5ms/step - loss: 0.4237 - accuracy: 0.8602\n",
      "Epoch 4/20\n",
      "1500/1500 [==============================] - 7s 5ms/step - loss: 0.4225 - accuracy: 0.8612\n",
      "Epoch 5/20\n",
      "1500/1500 [==============================] - 7s 4ms/step - loss: 0.4207 - accuracy: 0.8618\n",
      "Epoch 6/20\n",
      "1500/1500 [==============================] - 7s 5ms/step - loss: 0.4175 - accuracy: 0.8635\n",
      "Epoch 7/20\n",
      "1500/1500 [==============================] - 7s 5ms/step - loss: 0.4167 - accuracy: 0.8629\n",
      "Epoch 8/20\n",
      "1500/1500 [==============================] - 7s 4ms/step - loss: 0.4145 - accuracy: 0.8656\n",
      "Epoch 9/20\n",
      "1500/1500 [==============================] - 7s 5ms/step - loss: 0.4146 - accuracy: 0.8660\n",
      "Epoch 10/20\n",
      "1500/1500 [==============================] - 7s 4ms/step - loss: 0.4131 - accuracy: 0.8662\n",
      "Epoch 11/20\n",
      "1500/1500 [==============================] - 7s 5ms/step - loss: 0.4122 - accuracy: 0.8654\n",
      "Epoch 12/20\n",
      "1500/1500 [==============================] - 7s 4ms/step - loss: 0.4105 - accuracy: 0.8665\n",
      "Epoch 13/20\n",
      "1500/1500 [==============================] - 7s 4ms/step - loss: 0.4110 - accuracy: 0.8670\n",
      "Epoch 14/20\n",
      "1500/1500 [==============================] - 7s 4ms/step - loss: 0.4106 - accuracy: 0.8662\n",
      "Epoch 15/20\n",
      "1500/1500 [==============================] - 7s 4ms/step - loss: 0.4094 - accuracy: 0.8671\n",
      "Epoch 16/20\n",
      "1500/1500 [==============================] - 7s 4ms/step - loss: 0.4092 - accuracy: 0.8676\n",
      "Epoch 17/20\n",
      "1500/1500 [==============================] - 7s 4ms/step - loss: 0.4093 - accuracy: 0.8685\n",
      "Epoch 18/20\n",
      "1500/1500 [==============================] - 7s 4ms/step - loss: 0.4078 - accuracy: 0.8683\n",
      "Epoch 19/20\n",
      "1500/1500 [==============================] - 7s 5ms/step - loss: 0.4084 - accuracy: 0.8678\n",
      "Epoch 20/20\n",
      "1500/1500 [==============================] - 7s 5ms/step - loss: 0.4077 - accuracy: 0.8692\n"
     ]
    },
    {
     "data": {
      "text/plain": [
       "<keras.callbacks.History at 0x291c64cd0>"
      ]
     },
     "execution_count": 24,
     "metadata": {},
     "output_type": "execute_result"
    }
   ],
   "source": [
    "model.fit(train_scaled, train_target, epochs=20)"
   ]
  },
  {
   "cell_type": "code",
   "execution_count": 25,
   "metadata": {},
   "outputs": [
    {
     "name": "stdout",
     "output_type": "stream",
     "text": [
      "375/375 [==============================] - 1s 3ms/step - loss: 0.4658 - accuracy: 0.8524\n"
     ]
    },
    {
     "data": {
      "text/plain": [
       "[0.4658205211162567, 0.8524166345596313]"
      ]
     },
     "execution_count": 25,
     "metadata": {},
     "output_type": "execute_result"
    }
   ],
   "source": [
    "### 검증 데이터로 확인\n",
    "model.evaluate(val_scaled,val_target)"
   ]
  },
  {
   "cell_type": "code",
   "execution_count": null,
   "metadata": {},
   "outputs": [],
   "source": []
  }
 ],
 "metadata": {
  "kernelspec": {
<<<<<<< HEAD
   "display_name": "Python 3.9.7 ('base')",
=======
   "display_name": "Python 3.9.12 ('tensorflow')",
>>>>>>> 8fbf841f90f40865063641e39ddbfdba762f03b6
   "language": "python",
   "name": "python3"
  },
  "language_info": {
   "codemirror_mode": {
    "name": "ipython",
    "version": 3
   },
   "file_extension": ".py",
   "mimetype": "text/x-python",
   "name": "python",
   "nbconvert_exporter": "python",
   "pygments_lexer": "ipython3",
<<<<<<< HEAD
   "version": "3.9.7"
=======
   "version": "3.9.12"
>>>>>>> 8fbf841f90f40865063641e39ddbfdba762f03b6
  },
  "orig_nbformat": 4,
  "vscode": {
   "interpreter": {
<<<<<<< HEAD
    "hash": "c34e8390e776d2ee205b71ed5a6130fee3cef8da5e87e926ce18e14f4a070d72"
=======
    "hash": "8391fe5f87ea823b3933087779d976ca05f6a1d69510a4721448841fffbcd65c"
>>>>>>> 8fbf841f90f40865063641e39ddbfdba762f03b6
   }
  }
 },
 "nbformat": 4,
 "nbformat_minor": 2
}
