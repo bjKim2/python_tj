{
 "cells": [
  {
   "cell_type": "markdown",
   "metadata": {},
   "source": [
    "### 순차 데이터\n",
    "- 텍스트 데이터(ex: I am a boy) : 순서가 의미가 있다. \n",
    "- 시계열 데이티(ex: 1일 10도, 2일 8도) "
   ]
  },
  {
   "cell_type": "markdown",
   "metadata": {},
   "source": [
    "---\n",
    "### 순환신경망(RNN : Recurrent Neural Network"
   ]
  },
  {
   "cell_type": "markdown",
   "metadata": {},
   "source": [
    "- IMDB (Internet Movie Data Base)\n",
    "- IMDB 구성 : Train Data(25000개 중 긍정 12500개 부정 12500개, Test Data(25000개 중 긍정 12500, 부정 12500))\n",
    "- NLP : Natural Language Processing(자연어 처리)\n",
    "- 말뭉치 : 하나의 데이터셋을 말뭉치라고 표현\n",
    "- 토큰 : 하나의 단어를 토큰이라고 표현\n",
    "- 어휘사전 : 번호로 구분된 유일한 단어들의 집단.\n",
    "- 머신러닝이나 딥러닝에서는 데이터가 숫자로 구성되어 있어야 함으로 이런 단어들을 고유한 번호로 할당하여 사용\n"
   ]
  },
  {
   "cell_type": "code",
   "execution_count": 3,
   "metadata": {},
   "outputs": [
    {
     "ename": "NameError",
     "evalue": "name 'tensorflow' is not defined",
     "output_type": "error",
     "traceback": [
      "\u001b[0;31m---------------------------------------------------------------------------\u001b[0m",
      "\u001b[0;31mNameError\u001b[0m                                 Traceback (most recent call last)",
      "\u001b[1;32m/Users/kte/ktePy/python_tj/5.DeepLearning/Note/14.순차데이터와 순환신경망(RNN).ipynb 셀 4\u001b[0m in \u001b[0;36m<cell line: 3>\u001b[0;34m()\u001b[0m\n\u001b[1;32m      <a href='vscode-notebook-cell:/Users/kte/ktePy/python_tj/5.DeepLearning/Note/14.%EC%88%9C%EC%B0%A8%EB%8D%B0%EC%9D%B4%ED%84%B0%EC%99%80%20%EC%88%9C%ED%99%98%EC%8B%A0%EA%B2%BD%EB%A7%9D%28RNN%29.ipynb#ch0000003?line=0'>1</a>\u001b[0m \u001b[39mfrom\u001b[39;00m \u001b[39mtensorflow\u001b[39;00m\u001b[39m.\u001b[39;00m\u001b[39mkeras\u001b[39;00m\u001b[39m.\u001b[39;00m\u001b[39mdatasets\u001b[39;00m \u001b[39mimport\u001b[39;00m imdb\n\u001b[1;32m      <a href='vscode-notebook-cell:/Users/kte/ktePy/python_tj/5.DeepLearning/Note/14.%EC%88%9C%EC%B0%A8%EB%8D%B0%EC%9D%B4%ED%84%B0%EC%99%80%20%EC%88%9C%ED%99%98%EC%8B%A0%EA%B2%BD%EB%A7%9D%28RNN%29.ipynb#ch0000003?line=1'>2</a>\u001b[0m (train_input, train_target), (test_input, test_target) \u001b[39m=\u001b[39m imdb\u001b[39m.\u001b[39mload_data(num_words\u001b[39m=\u001b[39m\u001b[39m500\u001b[39m) \u001b[39m# 500개 단어\u001b[39;00m\n\u001b[0;32m----> <a href='vscode-notebook-cell:/Users/kte/ktePy/python_tj/5.DeepLearning/Note/14.%EC%88%9C%EC%B0%A8%EB%8D%B0%EC%9D%B4%ED%84%B0%EC%99%80%20%EC%88%9C%ED%99%98%EC%8B%A0%EA%B2%BD%EB%A7%9D%28RNN%29.ipynb#ch0000003?line=2'>3</a>\u001b[0m tensorflow\u001b[39m.\u001b[39mconfig\u001b[39m.\u001b[39mlist_physical_devices(\u001b[39m'\u001b[39m\u001b[39mGPU\u001b[39m\u001b[39m'\u001b[39m)\n",
      "\u001b[0;31mNameError\u001b[0m: name 'tensorflow' is not defined"
     ]
    }
   ],
   "source": [
    "from tensorflow.keras.datasets import imdb\n",
    "(train_input, train_target), (test_input, test_target) = imdb.load_data(num_words=500) # 500개 단어\n"
   ]
  },
  {
   "cell_type": "code",
   "execution_count": 4,
   "metadata": {},
   "outputs": [
    {
     "data": {
      "text/plain": [
       "[]"
      ]
     },
     "execution_count": 4,
     "metadata": {},
     "output_type": "execute_result"
    }
   ],
   "source": [
    "import tensorflow\n",
    "tensorflow.config.list_physical_devices('GPU')"
   ]
  },
  {
   "cell_type": "code",
   "execution_count": 5,
   "metadata": {},
   "outputs": [
    {
     "name": "stdout",
     "output_type": "stream",
     "text": [
      "(25000,) (25000,)\n"
     ]
    }
   ],
   "source": [
    "print(train_input.shape, test_input.shape)"
   ]
  },
  {
   "cell_type": "code",
   "execution_count": 6,
   "metadata": {},
   "outputs": [
    {
     "data": {
      "text/plain": [
       "218"
      ]
     },
     "execution_count": 6,
     "metadata": {},
     "output_type": "execute_result"
    }
   ],
   "source": [
    "# train의 첫번째 문장의 Token 갯수\n",
    "len(train_input[0])"
   ]
  },
  {
   "cell_type": "code",
   "execution_count": 7,
   "metadata": {},
   "outputs": [
    {
     "data": {
      "text/plain": [
       "189"
      ]
     },
     "execution_count": 7,
     "metadata": {},
     "output_type": "execute_result"
    }
   ],
   "source": [
    "len(train_input[1])"
   ]
  },
  {
   "cell_type": "code",
   "execution_count": 8,
   "metadata": {},
   "outputs": [
    {
     "name": "stdout",
     "output_type": "stream",
     "text": [
      "[1, 14, 22, 16, 43, 2, 2, 2, 2, 65, 458, 2, 66, 2, 4, 173, 36, 256, 5, 25, 100, 43, 2, 112, 50, 2, 2, 9, 35, 480, 284, 5, 150, 4, 172, 112, 167, 2, 336, 385, 39, 4, 172, 2, 2, 17, 2, 38, 13, 447, 4, 192, 50, 16, 6, 147, 2, 19, 14, 22, 4, 2, 2, 469, 4, 22, 71, 87, 12, 16, 43, 2, 38, 76, 15, 13, 2, 4, 22, 17, 2, 17, 12, 16, 2, 18, 2, 5, 62, 386, 12, 8, 316, 8, 106, 5, 4, 2, 2, 16, 480, 66, 2, 33, 4, 130, 12, 16, 38, 2, 5, 25, 124, 51, 36, 135, 48, 25, 2, 33, 6, 22, 12, 215, 28, 77, 52, 5, 14, 407, 16, 82, 2, 8, 4, 107, 117, 2, 15, 256, 4, 2, 7, 2, 5, 2, 36, 71, 43, 2, 476, 26, 400, 317, 46, 7, 4, 2, 2, 13, 104, 88, 4, 381, 15, 297, 98, 32, 2, 56, 26, 141, 6, 194, 2, 18, 4, 226, 22, 21, 134, 476, 26, 480, 5, 144, 30, 2, 18, 51, 36, 28, 224, 92, 25, 104, 4, 226, 65, 16, 38, 2, 88, 12, 16, 283, 5, 16, 2, 113, 103, 32, 15, 16, 2, 19, 178, 32]\n"
     ]
    }
   ],
   "source": [
    "# 첫번째 댓글 출력\n",
    "print(train_input[0])"
   ]
  },
  {
   "cell_type": "markdown",
   "metadata": {},
   "source": [
    "- 샘플의 시작부분 토큰은 1을 사용한다.\n",
    "- 2는 선정한 단어갯수에 포함되지 않는 단어를 표현한다.\n",
    "- train_input 자체는 numpy 배열이나 댓글에 사용된 토큰 수가 다르기 때문에 numpy 배열을 사용못하고 python list를 사용한다."
   ]
  },
  {
   "cell_type": "code",
   "execution_count": 9,
   "metadata": {},
   "outputs": [
    {
     "name": "stdout",
     "output_type": "stream",
     "text": [
      "[1 0 0 1 0 0 1 0 1 0]\n"
     ]
    }
   ],
   "source": [
    "# train의 target 출력\n",
    "print(train_target[:10]) # 1은 좋아요 0은 나빠요"
   ]
  },
  {
   "cell_type": "code",
   "execution_count": 10,
   "metadata": {},
   "outputs": [],
   "source": [
    "# 훈련세트 준비\n",
    "from sklearn.model_selection import train_test_split\n",
    "train_input, val_input, train_target, val_target = train_test_split(train_input, train_target, test_size=0.2, random_state=42)"
   ]
  },
  {
   "cell_type": "code",
   "execution_count": 11,
   "metadata": {},
   "outputs": [
    {
     "name": "stdout",
     "output_type": "stream",
     "text": [
      "239.00925 178.0\n"
     ]
    }
   ],
   "source": [
    "# 깍 리뷰마다 문장 길이를 시각화\n",
    "\n",
    "import numpy as np\n",
    "lengths = np.array([len(x) for x in train_input])\n",
    "print(np.mean(lengths), np.median(lengths))"
   ]
  },
  {
   "cell_type": "code",
   "execution_count": 12,
   "metadata": {},
   "outputs": [
    {
     "data": {
      "image/png": "[encoded data removed]",
      "text/plain": [
       "<Figure size 432x288 with 1 Axes>"
      ]
     },
     "metadata": {
      "needs_background": "light"
     },
     "output_type": "display_data"
    }
   ],
   "source": [
    "import matplotlib.pyplot as plt\n",
    "plt.hist(lengths)\n",
    "plt.xlabel('length')\n",
    "plt.ylabel('frequency')\n",
    "plt.show()"
   ]
  },
  {
   "cell_type": "markdown",
   "metadata": {},
   "source": [
    "---\n",
    "### Sequence Padding\n",
    "- 전체 자릿수를 100으로 가정했을 경우 한문장에 3개 토큰만 있을 경우 나머지 97개는 비워지고 이를 0으로 채우는 과정"
   ]
  },
  {
   "cell_type": "code",
   "execution_count": 13,
   "metadata": {},
   "outputs": [],
   "source": [
    "from tensorflow.keras.preprocessing.sequence import pad_sequences\n",
    "\n",
    "train_seq = pad_sequences(train_input, maxlen=100) # 위의 차트에서 100개 부분이 제일 많은 것 같아 100개의 토큰만 사용\n",
    "val_seq = pad_sequences(val_input, maxlen= 100)"
   ]
  },
  {
   "cell_type": "code",
   "execution_count": 14,
   "metadata": {},
   "outputs": [
    {
     "name": "stdout",
     "output_type": "stream",
     "text": [
      "(20000, 100)\n"
     ]
    }
   ],
   "source": [
    "# 크기 확인\n",
    "print(train_seq.shape)"
   ]
  },
  {
   "cell_type": "markdown",
   "metadata": {},
   "source": [
    "> 25000개의 훈련세트 중 500개는 검증세트로 빠짐"
   ]
  },
  {
   "cell_type": "code",
   "execution_count": 15,
   "metadata": {},
   "outputs": [
    {
     "name": "stdout",
     "output_type": "stream",
     "text": [
      "[ 10   4  20   9   2 364 352   5  45   6   2   2  33 269   8   2 142   2\n",
      "   5   2  17  73  17 204   5   2  19  55   2   2  92  66 104  14  20  93\n",
      "  76   2 151  33   4  58  12 188   2 151  12 215  69 224 142  73 237   6\n",
      "   2   7   2   2 188   2 103  14  31  10  10 451   7   2   5   2  80  91\n",
      "   2  30   2  34  14  20 151  50  26 131  49   2  84  46  50  37  80  79\n",
      "   6   2  46   7  14  20  10  10 470 158]\n"
     ]
    }
   ],
   "source": [
    "# 첫번째 댓글 확인\n",
    "print(train_seq[0])"
   ]
  },
  {
   "cell_type": "code",
   "execution_count": 16,
   "metadata": {},
   "outputs": [
    {
     "name": "stdout",
     "output_type": "stream",
     "text": [
      "[6, 2, 46, 7, 14, 20, 10, 10, 470, 158]\n"
     ]
    }
   ],
   "source": [
    "# 원본의 첫번째 댓글의 마지막 10개만 출력\n",
    "print(train_input[0][-10:])"
   ]
  },
  {
   "cell_type": "code",
   "execution_count": 17,
   "metadata": {},
   "outputs": [
    {
     "name": "stdout",
     "output_type": "stream",
     "text": [
      "[  0   0   0   0   1   2 195  19  49   2   2 190   4   2 352   2 183  10\n",
      "  10  13  82  79   4   2  36  71 269   8   2  25  19  49   7   4   2   2\n",
      "   2   2   2  10  10  48  25  40   2  11   2   2  40   2   2   5   4   2\n",
      "   2  95  14 238  56 129   2  10  10  21   2  94 364 352   2   2  11 190\n",
      "  24 484   2   7  94 205 405  10  10  87   2  34  49   2   7   2   2   2\n",
      "   2   2 290   2  46  48  64  18   4   2]\n"
     ]
    }
   ],
   "source": [
    "print(train_seq[5])"
   ]
  },
  {
   "cell_type": "markdown",
   "metadata": {},
   "source": [
    "---\n",
    "# 순환 신경망 모델 만들기"
   ]
  },
  {
   "cell_type": "code",
   "execution_count": 18,
   "metadata": {},
   "outputs": [],
   "source": [
    "from tensorflow import keras\n",
    "\n",
    "model = keras.Sequential()\n",
    "model.add(keras.layers.SimpleRNN(8,input_shape=(100, 500))) # 500 : One Hot Encoding  숫자가 의미가 없으면 무적권\n",
    "model.add(keras.layers.Dense(1,activation = 'sigmoid'))\n"
   ]
  },
  {
   "cell_type": "code",
   "execution_count": 19,
   "metadata": {},
   "outputs": [
    {
     "name": "stdout",
     "output_type": "stream",
     "text": [
      "(20000, 100, 500)\n"
     ]
    }
   ],
   "source": [
    "# One hot encoding\n",
    "train_oh = keras.utils.to_categorical(train_seq)\n",
    "print(train_oh.shape)"
   ]
  },
  {
   "cell_type": "code",
   "execution_count": 20,
   "metadata": {},
   "outputs": [
    {
     "name": "stdout",
     "output_type": "stream",
     "text": [
      "1.0\n"
     ]
    }
   ],
   "source": [
    "# one hot encoding 확인하기\n",
    "print(np.sum(train_oh[0][0]))"
   ]
  },
  {
   "cell_type": "code",
   "execution_count": 21,
   "metadata": {},
   "outputs": [],
   "source": [
    "val_oh = keras.utils.to_categorical(val_seq)"
   ]
  },
  {
   "cell_type": "code",
   "execution_count": 22,
   "metadata": {},
   "outputs": [
    {
     "name": "stdout",
     "output_type": "stream",
     "text": [
      "Model: \"sequential\"\n",
      "_________________________________________________________________\n",
      " Layer (type)                Output Shape              Param #   \n",
      "=================================================================\n",
      " simple_rnn (SimpleRNN)      (None, 8)                 4072      \n",
      "                                                                 \n",
      " dense (Dense)               (None, 1)                 9         \n",
      "                                                                 \n",
      "=================================================================\n",
      "Total params: 4,081\n",
      "Trainable params: 4,081\n",
      "Non-trainable params: 0\n",
      "_________________________________________________________________\n"
     ]
    }
   ],
   "source": [
    "model.summary()"
   ]
  },
  {
   "cell_type": "markdown",
   "metadata": {},
   "source": [
    "500 * 8 + (8 * 8)[8개의 뉴런이 8번 반복] + 8[절편]"
   ]
  },
  {
   "cell_type": "code",
   "execution_count": 23,
   "metadata": {},
   "outputs": [
    {
     "name": "stdout",
     "output_type": "stream",
     "text": [
      "Epoch 1/100\n"
     ]
    },
    {
     "name": "stderr",
     "output_type": "stream",
     "text": [
      "2022-07-22 12:07:30.060996: W tensorflow/core/platform/profile_utils/cpu_utils.cc:128] Failed to get CPU frequency: 0 Hz\n"
     ]
    },
    {
     "name": "stdout",
     "output_type": "stream",
     "text": [
      "313/313 [==============================] - 7s 19ms/step - loss: 0.6976 - accuracy: 0.4992 - val_loss: 0.6952 - val_accuracy: 0.5112\n",
      "Epoch 2/100\n",
      "313/313 [==============================] - 6s 18ms/step - loss: 0.6946 - accuracy: 0.5104 - val_loss: 0.6938 - val_accuracy: 0.5094\n",
      "Epoch 3/100\n",
      "313/313 [==============================] - 6s 18ms/step - loss: 0.6921 - accuracy: 0.5191 - val_loss: 0.6924 - val_accuracy: 0.5146\n",
      "Epoch 4/100\n",
      "313/313 [==============================] - 6s 18ms/step - loss: 0.6899 - accuracy: 0.5296 - val_loss: 0.6908 - val_accuracy: 0.5224\n",
      "Epoch 5/100\n",
      "313/313 [==============================] - 6s 18ms/step - loss: 0.6874 - accuracy: 0.5433 - val_loss: 0.6889 - val_accuracy: 0.5324\n",
      "Epoch 6/100\n",
      "313/313 [==============================] - 6s 18ms/step - loss: 0.6842 - accuracy: 0.5566 - val_loss: 0.6857 - val_accuracy: 0.5462\n",
      "Epoch 7/100\n",
      "313/313 [==============================] - 6s 18ms/step - loss: 0.6782 - accuracy: 0.5832 - val_loss: 0.6750 - val_accuracy: 0.5888\n",
      "Epoch 8/100\n",
      "313/313 [==============================] - 6s 19ms/step - loss: 0.6553 - accuracy: 0.6307 - val_loss: 0.6478 - val_accuracy: 0.6382\n",
      "Epoch 9/100\n",
      "313/313 [==============================] - 6s 18ms/step - loss: 0.6352 - accuracy: 0.6555 - val_loss: 0.6305 - val_accuracy: 0.6626\n",
      "Epoch 10/100\n",
      "313/313 [==============================] - 6s 18ms/step - loss: 0.6157 - accuracy: 0.6806 - val_loss: 0.6112 - val_accuracy: 0.6880\n",
      "Epoch 11/100\n",
      "313/313 [==============================] - 6s 19ms/step - loss: 0.5969 - accuracy: 0.7024 - val_loss: 0.5946 - val_accuracy: 0.7038\n",
      "Epoch 12/100\n",
      "313/313 [==============================] - 6s 18ms/step - loss: 0.5806 - accuracy: 0.7161 - val_loss: 0.5809 - val_accuracy: 0.7124\n",
      "Epoch 13/100\n",
      "313/313 [==============================] - 6s 18ms/step - loss: 0.5662 - accuracy: 0.7280 - val_loss: 0.5680 - val_accuracy: 0.7214\n",
      "Epoch 14/100\n",
      "313/313 [==============================] - 6s 18ms/step - loss: 0.5533 - accuracy: 0.7370 - val_loss: 0.5569 - val_accuracy: 0.7326\n",
      "Epoch 15/100\n",
      "313/313 [==============================] - 6s 18ms/step - loss: 0.5406 - accuracy: 0.7472 - val_loss: 0.5483 - val_accuracy: 0.7346\n",
      "Epoch 16/100\n",
      "313/313 [==============================] - 6s 18ms/step - loss: 0.5290 - accuracy: 0.7538 - val_loss: 0.5327 - val_accuracy: 0.7502\n",
      "Epoch 17/100\n",
      "313/313 [==============================] - 6s 18ms/step - loss: 0.5179 - accuracy: 0.7637 - val_loss: 0.5261 - val_accuracy: 0.7518\n",
      "Epoch 18/100\n",
      "313/313 [==============================] - 6s 18ms/step - loss: 0.5092 - accuracy: 0.7682 - val_loss: 0.5171 - val_accuracy: 0.7592\n",
      "Epoch 19/100\n",
      "313/313 [==============================] - 6s 18ms/step - loss: 0.5000 - accuracy: 0.7740 - val_loss: 0.5097 - val_accuracy: 0.7626\n",
      "Epoch 20/100\n",
      "313/313 [==============================] - 6s 18ms/step - loss: 0.4916 - accuracy: 0.7795 - val_loss: 0.5101 - val_accuracy: 0.7578\n",
      "Epoch 21/100\n",
      "313/313 [==============================] - 6s 18ms/step - loss: 0.4855 - accuracy: 0.7825 - val_loss: 0.5006 - val_accuracy: 0.7660\n",
      "Epoch 22/100\n",
      "313/313 [==============================] - 6s 18ms/step - loss: 0.4793 - accuracy: 0.7851 - val_loss: 0.4947 - val_accuracy: 0.7688\n",
      "Epoch 23/100\n",
      "313/313 [==============================] - 6s 19ms/step - loss: 0.4739 - accuracy: 0.7890 - val_loss: 0.4898 - val_accuracy: 0.7726\n",
      "Epoch 24/100\n",
      "313/313 [==============================] - 6s 19ms/step - loss: 0.4680 - accuracy: 0.7917 - val_loss: 0.4868 - val_accuracy: 0.7706\n",
      "Epoch 25/100\n",
      "313/313 [==============================] - 6s 19ms/step - loss: 0.4633 - accuracy: 0.7954 - val_loss: 0.4848 - val_accuracy: 0.7722\n",
      "Epoch 26/100\n",
      "313/313 [==============================] - 6s 19ms/step - loss: 0.4588 - accuracy: 0.7974 - val_loss: 0.4847 - val_accuracy: 0.7730\n",
      "Epoch 27/100\n",
      "313/313 [==============================] - 6s 20ms/step - loss: 0.4555 - accuracy: 0.7983 - val_loss: 0.4785 - val_accuracy: 0.7748\n",
      "Epoch 28/100\n",
      "313/313 [==============================] - 6s 18ms/step - loss: 0.4516 - accuracy: 0.8008 - val_loss: 0.4832 - val_accuracy: 0.7740\n",
      "Epoch 29/100\n",
      "313/313 [==============================] - 6s 19ms/step - loss: 0.4484 - accuracy: 0.8025 - val_loss: 0.4775 - val_accuracy: 0.7756\n",
      "Epoch 30/100\n",
      "313/313 [==============================] - 6s 19ms/step - loss: 0.4459 - accuracy: 0.8048 - val_loss: 0.4728 - val_accuracy: 0.7800\n",
      "Epoch 31/100\n",
      "313/313 [==============================] - 6s 19ms/step - loss: 0.4441 - accuracy: 0.8058 - val_loss: 0.4726 - val_accuracy: 0.7798\n",
      "Epoch 32/100\n",
      "313/313 [==============================] - 6s 19ms/step - loss: 0.4410 - accuracy: 0.8069 - val_loss: 0.4701 - val_accuracy: 0.7814\n",
      "Epoch 33/100\n",
      "313/313 [==============================] - 6s 19ms/step - loss: 0.4384 - accuracy: 0.8088 - val_loss: 0.4688 - val_accuracy: 0.7808\n",
      "Epoch 34/100\n",
      "313/313 [==============================] - 6s 19ms/step - loss: 0.4372 - accuracy: 0.8094 - val_loss: 0.4690 - val_accuracy: 0.7828\n",
      "Epoch 35/100\n",
      "313/313 [==============================] - 6s 18ms/step - loss: 0.4352 - accuracy: 0.8105 - val_loss: 0.4707 - val_accuracy: 0.7816\n"
     ]
    }
   ],
   "source": [
    "rmsprop = keras.optimizers.RMSprop(learning_rate = 1e-4)\n",
    "\n",
    "model.compile(optimizer= rmsprop, \n",
    "              loss = 'binary_crossentropy',\n",
    "              metrics = 'accuracy'\n",
    "              )\n",
    "\n",
    "early_stopping_cb = keras.callbacks.EarlyStopping(patience=2, restore_best_weights=True )\n",
    "checkpoint_cb = keras.callbacks.ModelCheckpoint('../Data/best-simplernn-model.h5')\n",
    "\n",
    "history = model.fit(\n",
    "    train_oh,\n",
    "    train_target, \n",
    "    epochs =100, # RNN에서 가장 낮은 에포크가 100\n",
    "    batch_size = 64, # 미니배치 경사 하강법|\n",
    "    validation_data = (val_oh,val_target),\n",
    "    callbacks = [checkpoint_cb,early_stopping_cb]\n",
    ")"
   ]
  },
  {
   "cell_type": "code",
   "execution_count": 27,
   "metadata": {},
   "outputs": [
    {
     "data": {
      "text/plain": [
       "dict_keys(['loss', 'accuracy', 'val_loss', 'val_accuracy'])"
      ]
     },
     "execution_count": 27,
     "metadata": {},
     "output_type": "execute_result"
    }
   ],
   "source": [
    "history.history.keys()"
   ]
  },
  {
   "cell_type": "code",
   "execution_count": 29,
   "metadata": {},
   "outputs": [
    {
     "data": {
      "image/png": "[encoded data removed]",
      "text/plain": [
       "<Figure size 432x288 with 1 Axes>"
      ]
     },
     "metadata": {
      "needs_background": "light"
     },
     "output_type": "display_data"
    }
   ],
   "source": [
    "# 시각화 해보기\n",
    "import matplotlib.pyplot as plt\n",
    "\n",
    "\n",
    "plt.plot(history.history['loss'])\n",
    "plt.plot(history.history['val_loss'])\n",
    "plt.xlabel('a')\n",
    "plt.ylabel('b')\n",
    "plt.show()"
   ]
  },
  {
   "cell_type": "markdown",
   "metadata": {},
   "source": [
    "---\n",
    "### LSTM(Long Short Term Memory) 신경망 모델 구성하기\n",
    "- 순환신경망의 셀로 이전 타입스텝의 샘플을 기억하고 있음"
   ]
  },
  {
   "cell_type": "code",
   "execution_count": 24,
   "metadata": {},
   "outputs": [
    {
     "name": "stdout",
     "output_type": "stream",
     "text": [
      "Model: \"sequential_2\"\n",
      "_________________________________________________________________\n",
      " Layer (type)                Output Shape              Param #   \n",
      "=================================================================\n",
      " embedding (Embedding)       (None, 100, 16)           8000      \n",
      "                                                                 \n",
      " lstm (LSTM)                 (None, 8)                 800       \n",
      "                                                                 \n",
      " dense_1 (Dense)             (None, 1)                 9         \n",
      "                                                                 \n",
      "=================================================================\n",
      "Total params: 8,809\n",
      "Trainable params: 8,809\n",
      "Non-trainable params: 0\n",
      "_________________________________________________________________\n"
     ]
    }
   ],
   "source": [
    "model = keras.Sequential()\n",
    "\n",
    "model.add(keras.layers.Embedding(500,16,input_length = 100)) # one hot encoding, 16은 그냥 정하는 거? 8개 2개 세트로 묶어서 쓴다고 ? 함\n",
    "model.add(keras.layers.LSTM(8)) # 8개의 Cell을 사용한다.\n",
    "model.add(keras.layers.Dense(1,activation = 'sigmoid'))\n",
    "\n",
    "model.summary()\n"
   ]
  },
  {
   "cell_type": "code",
   "execution_count": 25,
   "metadata": {},
   "outputs": [
    {
     "name": "stdout",
     "output_type": "stream",
     "text": [
      "Epoch 1/100\n"
     ]
    },
    {
     "name": "stderr",
     "output_type": "stream",
     "text": [
      "2022-07-22 11:46:45.289095: I tensorflow/core/grappler/optimizers/custom_graph_optimizer_registry.cc:113] Plugin optimizer for device_type GPU is enabled.\n",
      "2022-07-22 11:46:45.631138: I tensorflow/core/grappler/optimizers/custom_graph_optimizer_registry.cc:113] Plugin optimizer for device_type GPU is enabled.\n",
      "2022-07-22 11:46:46.716345: I tensorflow/core/grappler/optimizers/custom_graph_optimizer_registry.cc:113] Plugin optimizer for device_type GPU is enabled.\n"
     ]
    },
    {
     "name": "stdout",
     "output_type": "stream",
     "text": [
      "313/313 [==============================] - ETA: 0s - loss: 0.6921 - accuracy: 0.5533"
     ]
    },
    {
     "name": "stderr",
     "output_type": "stream",
     "text": [
      "2022-07-22 11:46:59.687772: I tensorflow/core/grappler/optimizers/custom_graph_optimizer_registry.cc:113] Plugin optimizer for device_type GPU is enabled.\n",
      "2022-07-22 11:46:59.759450: I tensorflow/core/grappler/optimizers/custom_graph_optimizer_registry.cc:113] Plugin optimizer for device_type GPU is enabled.\n"
     ]
    },
    {
     "name": "stdout",
     "output_type": "stream",
     "text": [
      "313/313 [==============================] - 17s 44ms/step - loss: 0.6921 - accuracy: 0.5533 - val_loss: 0.6910 - val_accuracy: 0.5830\n",
      "Epoch 2/100\n",
      "313/313 [==============================] - 12s 39ms/step - loss: 0.6877 - accuracy: 0.6314 - val_loss: 0.6830 - val_accuracy: 0.6588\n",
      "Epoch 3/100\n",
      "313/313 [==============================] - 12s 39ms/step - loss: 0.6565 - accuracy: 0.6900 - val_loss: 0.6150 - val_accuracy: 0.7042\n",
      "Epoch 4/100\n",
      "313/313 [==============================] - 12s 39ms/step - loss: 0.5955 - accuracy: 0.7078 - val_loss: 0.5866 - val_accuracy: 0.7218\n",
      "Epoch 5/100\n",
      "313/313 [==============================] - 12s 39ms/step - loss: 0.5702 - accuracy: 0.7323 - val_loss: 0.5654 - val_accuracy: 0.7352\n",
      "Epoch 6/100\n",
      "313/313 [==============================] - 12s 40ms/step - loss: 0.5498 - accuracy: 0.7474 - val_loss: 0.5488 - val_accuracy: 0.7380\n",
      "Epoch 7/100\n",
      "313/313 [==============================] - 12s 39ms/step - loss: 0.5328 - accuracy: 0.7594 - val_loss: 0.5342 - val_accuracy: 0.7564\n",
      "Epoch 8/100\n",
      "313/313 [==============================] - 12s 40ms/step - loss: 0.5178 - accuracy: 0.7708 - val_loss: 0.5189 - val_accuracy: 0.7634\n",
      "Epoch 9/100\n",
      "313/313 [==============================] - 12s 40ms/step - loss: 0.5044 - accuracy: 0.7778 - val_loss: 0.5079 - val_accuracy: 0.7630\n",
      "Epoch 10/100\n",
      "313/313 [==============================] - 14s 44ms/step - loss: 0.4923 - accuracy: 0.7824 - val_loss: 0.4969 - val_accuracy: 0.7726\n",
      "Epoch 11/100\n",
      "313/313 [==============================] - 13s 41ms/step - loss: 0.4809 - accuracy: 0.7886 - val_loss: 0.4872 - val_accuracy: 0.7778\n",
      "Epoch 12/100\n",
      "313/313 [==============================] - 14s 44ms/step - loss: 0.4713 - accuracy: 0.7939 - val_loss: 0.4797 - val_accuracy: 0.7790\n",
      "Epoch 13/100\n",
      "313/313 [==============================] - 14s 44ms/step - loss: 0.4627 - accuracy: 0.7971 - val_loss: 0.4710 - val_accuracy: 0.7880\n",
      "Epoch 14/100\n",
      "313/313 [==============================] - 13s 43ms/step - loss: 0.4549 - accuracy: 0.8003 - val_loss: 0.4636 - val_accuracy: 0.7902\n",
      "Epoch 15/100\n",
      "313/313 [==============================] - 13s 42ms/step - loss: 0.4481 - accuracy: 0.8036 - val_loss: 0.4589 - val_accuracy: 0.7894\n",
      "Epoch 16/100\n",
      "313/313 [==============================] - 13s 43ms/step - loss: 0.4419 - accuracy: 0.8068 - val_loss: 0.4533 - val_accuracy: 0.7936\n",
      "Epoch 17/100\n",
      "313/313 [==============================] - 13s 41ms/step - loss: 0.4371 - accuracy: 0.8078 - val_loss: 0.4501 - val_accuracy: 0.7932\n",
      "Epoch 18/100\n",
      "313/313 [==============================] - 13s 43ms/step - loss: 0.4332 - accuracy: 0.8093 - val_loss: 0.4493 - val_accuracy: 0.7944\n",
      "Epoch 19/100\n",
      "313/313 [==============================] - 13s 43ms/step - loss: 0.4289 - accuracy: 0.8104 - val_loss: 0.4434 - val_accuracy: 0.7982\n",
      "Epoch 20/100\n",
      "313/313 [==============================] - 13s 43ms/step - loss: 0.4257 - accuracy: 0.8137 - val_loss: 0.4398 - val_accuracy: 0.8026\n",
      "Epoch 21/100\n",
      "313/313 [==============================] - 13s 40ms/step - loss: 0.4230 - accuracy: 0.8137 - val_loss: 0.4383 - val_accuracy: 0.8032\n",
      "Epoch 22/100\n",
      "313/313 [==============================] - 110s 354ms/step - loss: 0.4202 - accuracy: 0.8126 - val_loss: 0.4394 - val_accuracy: 0.8022\n",
      "Epoch 23/100\n",
      "313/313 [==============================] - 13s 42ms/step - loss: 0.4186 - accuracy: 0.8145 - val_loss: 0.4379 - val_accuracy: 0.8010\n",
      "Epoch 24/100\n",
      "313/313 [==============================] - 13s 43ms/step - loss: 0.4165 - accuracy: 0.8144 - val_loss: 0.4350 - val_accuracy: 0.8038\n",
      "Epoch 25/100\n",
      "313/313 [==============================] - 13s 42ms/step - loss: 0.4146 - accuracy: 0.8163 - val_loss: 0.4323 - val_accuracy: 0.8048\n",
      "Epoch 26/100\n",
      "313/313 [==============================] - 13s 42ms/step - loss: 0.4132 - accuracy: 0.8149 - val_loss: 0.4319 - val_accuracy: 0.8042\n",
      "Epoch 27/100\n",
      "313/313 [==============================] - 13s 42ms/step - loss: 0.4117 - accuracy: 0.8154 - val_loss: 0.4327 - val_accuracy: 0.8004\n",
      "Epoch 28/100\n",
      "176/313 [===============>..............] - ETA: 7:48 - loss: 0.4064 - accuracy: 0.8220"
     ]
    }
   ],
   "source": [
    "rmsprop = keras.optimizers.RMSprop(learning_rate = 1e-4)\n",
    "\n",
    "model.compile(optimizer= rmsprop, \n",
    "              loss = 'binary_crossentropy',\n",
    "              metrics = 'accuracy'\n",
    "              )\n",
    "\n",
    "early_stopping_cb = keras.callbacks.EarlyStopping(patience=3, restore_best_weights=True )\n",
    "checkpoint_cb = keras.callbacks.ModelCheckpoint('../Data/best-lstm-model.h5')\n",
    "\n",
    "history = model.fit(\n",
    "    train_seq, \n",
    "    train_target, \n",
    "    epochs =100, # RNN에서 가장 낮은 에포크가 100\n",
    "    batch_size = 64, # 미니배치 경사 하강법|\n",
    "    validation_data = (val_seq,val_target),\n",
    "    callbacks = [checkpoint_cb,early_stopping_cb]\n",
    ")"
   ]
  },
  {
   "cell_type": "code",
   "execution_count": null,
   "metadata": {},
   "outputs": [
    {
     "data": {
      "image/png": "[encoded data removed]",
      "text/plain": [
       "<Figure size 432x288 with 1 Axes>"
      ]
     },
     "metadata": {},
     "output_type": "display_data"
    }
   ],
   "source": [
    "# 시각화 해보기\n",
    "import matplotlib.pyplot as plt\n",
    "\n",
    "\n",
    "plt.plot(history.history['loss'])\n",
    "plt.plot(history.history['val_loss'])\n",
    "plt.xlabel('a')\n",
    "plt.ylabel('b')\n",
    "plt.show()"
   ]
  },
  {
   "cell_type": "markdown",
   "metadata": {},
   "source": [
    "---\n",
    "### 순환층에 Dropout 하기"
   ]
  },
  {
   "cell_type": "code",
   "execution_count": 39,
   "metadata": {},
   "outputs": [
    {
     "name": "stdout",
     "output_type": "stream",
     "text": [
      "Model: \"sequential_2\"\n",
      "_________________________________________________________________\n",
      " Layer (type)                Output Shape              Param #   \n",
      "=================================================================\n",
      " embedding_1 (Embedding)     (None, 100, 16)           8000      \n",
      "                                                                 \n",
      " lstm_1 (LSTM)               (None, 8)                 800       \n",
      "                                                                 \n",
      " dense_2 (Dense)             (None, 1)                 9         \n",
      "                                                                 \n",
      "=================================================================\n",
      "Total params: 8,809\n",
      "Trainable params: 8,809\n",
      "Non-trainable params: 0\n",
      "_________________________________________________________________\n"
     ]
    }
   ],
   "source": [
    "model = keras.Sequential()\n",
    "\n",
    "model.add(keras.layers.Embedding(500,16,input_length = 100))\n",
    "model.add(keras.layers.LSTM(8,dropout=0.3)) # 8개의 Cell을 사용한다.\n",
    "\n",
    "model.add(keras.layers.Dense(1,activation = 'sigmoid'))\n",
    "\n",
    "model.summary()\n"
   ]
  },
  {
   "cell_type": "code",
   "execution_count": 40,
   "metadata": {},
   "outputs": [
    {
     "name": "stdout",
     "output_type": "stream",
     "text": [
      "Epoch 1/100\n",
      "313/313 [==============================] - 6s 14ms/step - loss: 0.6920 - accuracy: 0.5619 - val_loss: 0.6906 - val_accuracy: 0.6198\n",
      "Epoch 2/100\n",
      "313/313 [==============================] - 4s 13ms/step - loss: 0.6878 - accuracy: 0.6245 - val_loss: 0.6832 - val_accuracy: 0.6708\n",
      "Epoch 3/100\n",
      "313/313 [==============================] - 4s 13ms/step - loss: 0.6659 - accuracy: 0.6696 - val_loss: 0.6361 - val_accuracy: 0.7172\n",
      "Epoch 4/100\n",
      "313/313 [==============================] - 4s 14ms/step - loss: 0.6133 - accuracy: 0.7172 - val_loss: 0.5939 - val_accuracy: 0.7286\n",
      "Epoch 5/100\n",
      "313/313 [==============================] - 4s 14ms/step - loss: 0.5865 - accuracy: 0.7301 - val_loss: 0.5722 - val_accuracy: 0.7416\n",
      "Epoch 6/100\n",
      "313/313 [==============================] - 4s 13ms/step - loss: 0.5649 - accuracy: 0.7418 - val_loss: 0.5527 - val_accuracy: 0.7534\n",
      "Epoch 7/100\n",
      "313/313 [==============================] - 4s 14ms/step - loss: 0.5455 - accuracy: 0.7527 - val_loss: 0.5344 - val_accuracy: 0.7604\n",
      "Epoch 8/100\n",
      "313/313 [==============================] - 4s 14ms/step - loss: 0.5256 - accuracy: 0.7655 - val_loss: 0.5181 - val_accuracy: 0.7634\n",
      "Epoch 9/100\n",
      "313/313 [==============================] - 4s 14ms/step - loss: 0.5085 - accuracy: 0.7721 - val_loss: 0.5028 - val_accuracy: 0.7720\n",
      "Epoch 10/100\n",
      "313/313 [==============================] - 4s 13ms/step - loss: 0.4935 - accuracy: 0.7807 - val_loss: 0.4904 - val_accuracy: 0.7772\n",
      "Epoch 11/100\n",
      "313/313 [==============================] - 4s 14ms/step - loss: 0.4816 - accuracy: 0.7867 - val_loss: 0.4782 - val_accuracy: 0.7828\n",
      "Epoch 12/100\n",
      "313/313 [==============================] - 4s 14ms/step - loss: 0.4701 - accuracy: 0.7911 - val_loss: 0.4696 - val_accuracy: 0.7888\n",
      "Epoch 13/100\n",
      "313/313 [==============================] - 4s 13ms/step - loss: 0.4630 - accuracy: 0.7928 - val_loss: 0.4627 - val_accuracy: 0.7928\n",
      "Epoch 14/100\n",
      "313/313 [==============================] - 4s 13ms/step - loss: 0.4566 - accuracy: 0.7965 - val_loss: 0.4585 - val_accuracy: 0.7930\n",
      "Epoch 15/100\n",
      "313/313 [==============================] - 4s 13ms/step - loss: 0.4511 - accuracy: 0.7976 - val_loss: 0.4541 - val_accuracy: 0.7932\n",
      "Epoch 16/100\n",
      "313/313 [==============================] - 4s 13ms/step - loss: 0.4466 - accuracy: 0.8004 - val_loss: 0.4516 - val_accuracy: 0.7952\n",
      "Epoch 17/100\n",
      "313/313 [==============================] - 4s 13ms/step - loss: 0.4428 - accuracy: 0.7996 - val_loss: 0.4494 - val_accuracy: 0.7936\n",
      "Epoch 18/100\n",
      "313/313 [==============================] - 4s 13ms/step - loss: 0.4402 - accuracy: 0.8015 - val_loss: 0.4462 - val_accuracy: 0.7964\n",
      "Epoch 19/100\n",
      "313/313 [==============================] - 4s 13ms/step - loss: 0.4376 - accuracy: 0.8019 - val_loss: 0.4451 - val_accuracy: 0.7978\n",
      "Epoch 20/100\n",
      "313/313 [==============================] - 4s 14ms/step - loss: 0.4357 - accuracy: 0.8026 - val_loss: 0.4424 - val_accuracy: 0.7978\n",
      "Epoch 21/100\n",
      "313/313 [==============================] - 4s 13ms/step - loss: 0.4315 - accuracy: 0.8065 - val_loss: 0.4430 - val_accuracy: 0.8012\n",
      "Epoch 22/100\n",
      "313/313 [==============================] - 4s 13ms/step - loss: 0.4310 - accuracy: 0.8048 - val_loss: 0.4398 - val_accuracy: 0.7976\n",
      "Epoch 23/100\n",
      "313/313 [==============================] - 4s 13ms/step - loss: 0.4292 - accuracy: 0.8052 - val_loss: 0.4390 - val_accuracy: 0.7958\n",
      "Epoch 24/100\n",
      "313/313 [==============================] - 4s 13ms/step - loss: 0.4274 - accuracy: 0.8059 - val_loss: 0.4375 - val_accuracy: 0.7990\n",
      "Epoch 25/100\n",
      "313/313 [==============================] - 4s 14ms/step - loss: 0.4274 - accuracy: 0.8059 - val_loss: 0.4365 - val_accuracy: 0.7986\n",
      "Epoch 26/100\n",
      "313/313 [==============================] - 4s 14ms/step - loss: 0.4242 - accuracy: 0.8069 - val_loss: 0.4381 - val_accuracy: 0.8012\n",
      "Epoch 27/100\n",
      "313/313 [==============================] - 4s 14ms/step - loss: 0.4247 - accuracy: 0.8084 - val_loss: 0.4351 - val_accuracy: 0.7982\n",
      "Epoch 28/100\n",
      "313/313 [==============================] - 4s 13ms/step - loss: 0.4238 - accuracy: 0.8091 - val_loss: 0.4360 - val_accuracy: 0.7984\n",
      "Epoch 29/100\n",
      "313/313 [==============================] - 4s 14ms/step - loss: 0.4212 - accuracy: 0.8080 - val_loss: 0.4343 - val_accuracy: 0.7998\n",
      "Epoch 30/100\n",
      "313/313 [==============================] - 4s 14ms/step - loss: 0.4201 - accuracy: 0.8100 - val_loss: 0.4337 - val_accuracy: 0.7980\n",
      "Epoch 31/100\n",
      "313/313 [==============================] - 4s 14ms/step - loss: 0.4214 - accuracy: 0.8060 - val_loss: 0.4330 - val_accuracy: 0.8018\n",
      "Epoch 32/100\n",
      "313/313 [==============================] - 4s 14ms/step - loss: 0.4196 - accuracy: 0.8109 - val_loss: 0.4342 - val_accuracy: 0.8020\n",
      "Epoch 33/100\n",
      "313/313 [==============================] - 4s 14ms/step - loss: 0.4186 - accuracy: 0.8098 - val_loss: 0.4338 - val_accuracy: 0.7980\n",
      "Epoch 34/100\n",
      "313/313 [==============================] - 4s 14ms/step - loss: 0.4168 - accuracy: 0.8095 - val_loss: 0.4321 - val_accuracy: 0.8026\n",
      "Epoch 35/100\n",
      "313/313 [==============================] - 4s 14ms/step - loss: 0.4178 - accuracy: 0.8098 - val_loss: 0.4331 - val_accuracy: 0.8038\n",
      "Epoch 36/100\n",
      "313/313 [==============================] - 4s 14ms/step - loss: 0.4166 - accuracy: 0.8091 - val_loss: 0.4315 - val_accuracy: 0.8030\n",
      "Epoch 37/100\n",
      "313/313 [==============================] - 4s 14ms/step - loss: 0.4159 - accuracy: 0.8120 - val_loss: 0.4320 - val_accuracy: 0.8036\n",
      "Epoch 38/100\n",
      "313/313 [==============================] - 4s 14ms/step - loss: 0.4147 - accuracy: 0.8116 - val_loss: 0.4323 - val_accuracy: 0.8040\n",
      "Epoch 39/100\n",
      "313/313 [==============================] - 4s 14ms/step - loss: 0.4143 - accuracy: 0.8115 - val_loss: 0.4307 - val_accuracy: 0.8036\n",
      "Epoch 40/100\n",
      "313/313 [==============================] - 4s 14ms/step - loss: 0.4123 - accuracy: 0.8109 - val_loss: 0.4311 - val_accuracy: 0.8008\n",
      "Epoch 41/100\n",
      "313/313 [==============================] - 4s 14ms/step - loss: 0.4126 - accuracy: 0.8115 - val_loss: 0.4298 - val_accuracy: 0.8030\n",
      "Epoch 42/100\n",
      "313/313 [==============================] - 4s 14ms/step - loss: 0.4115 - accuracy: 0.8122 - val_loss: 0.4299 - val_accuracy: 0.8030\n",
      "Epoch 43/100\n",
      "313/313 [==============================] - 4s 14ms/step - loss: 0.4121 - accuracy: 0.8117 - val_loss: 0.4302 - val_accuracy: 0.7994\n",
      "Epoch 44/100\n",
      "313/313 [==============================] - 4s 14ms/step - loss: 0.4117 - accuracy: 0.8125 - val_loss: 0.4297 - val_accuracy: 0.8048\n",
      "Epoch 45/100\n",
      "313/313 [==============================] - 4s 14ms/step - loss: 0.4108 - accuracy: 0.8112 - val_loss: 0.4291 - val_accuracy: 0.8018\n",
      "Epoch 46/100\n",
      "313/313 [==============================] - 4s 14ms/step - loss: 0.4116 - accuracy: 0.8107 - val_loss: 0.4287 - val_accuracy: 0.8034\n",
      "Epoch 47/100\n",
      "313/313 [==============================] - 4s 14ms/step - loss: 0.4096 - accuracy: 0.8116 - val_loss: 0.4288 - val_accuracy: 0.8030\n",
      "Epoch 48/100\n",
      "313/313 [==============================] - 4s 14ms/step - loss: 0.4083 - accuracy: 0.8126 - val_loss: 0.4334 - val_accuracy: 0.7948\n",
      "Epoch 49/100\n",
      "313/313 [==============================] - 4s 14ms/step - loss: 0.4082 - accuracy: 0.8135 - val_loss: 0.4286 - val_accuracy: 0.8048\n",
      "Epoch 50/100\n",
      "313/313 [==============================] - 4s 14ms/step - loss: 0.4076 - accuracy: 0.8123 - val_loss: 0.4280 - val_accuracy: 0.8038\n",
      "Epoch 51/100\n",
      "313/313 [==============================] - 4s 14ms/step - loss: 0.4084 - accuracy: 0.8134 - val_loss: 0.4292 - val_accuracy: 0.8020\n",
      "Epoch 52/100\n",
      "313/313 [==============================] - 4s 13ms/step - loss: 0.4076 - accuracy: 0.8148 - val_loss: 0.4278 - val_accuracy: 0.8052\n",
      "Epoch 53/100\n",
      "313/313 [==============================] - 4s 14ms/step - loss: 0.4071 - accuracy: 0.8135 - val_loss: 0.4301 - val_accuracy: 0.8038\n",
      "Epoch 54/100\n",
      "313/313 [==============================] - 4s 14ms/step - loss: 0.4063 - accuracy: 0.8138 - val_loss: 0.4303 - val_accuracy: 0.8030\n",
      "Epoch 55/100\n",
      "313/313 [==============================] - 4s 14ms/step - loss: 0.4056 - accuracy: 0.8141 - val_loss: 0.4271 - val_accuracy: 0.8020\n",
      "Epoch 56/100\n",
      "313/313 [==============================] - 4s 14ms/step - loss: 0.4061 - accuracy: 0.8145 - val_loss: 0.4271 - val_accuracy: 0.8040\n",
      "Epoch 57/100\n",
      "313/313 [==============================] - 4s 14ms/step - loss: 0.4064 - accuracy: 0.8128 - val_loss: 0.4272 - val_accuracy: 0.8032\n",
      "Epoch 58/100\n",
      "313/313 [==============================] - 4s 14ms/step - loss: 0.4052 - accuracy: 0.8139 - val_loss: 0.4275 - val_accuracy: 0.8034\n"
     ]
    }
   ],
   "source": [
    "rmsprop = keras.optimizers.RMSprop(learning_rate = 1e-4)\n",
    "\n",
    "model.compile(optimizer= rmsprop, \n",
    "              loss = 'binary_crossentropy',\n",
    "              metrics = 'accuracy'\n",
    "              )\n",
    "\n",
    "early_stopping_cb = keras.callbacks.EarlyStopping(patience=3, restore_best_weights=True )\n",
    "checkpoint_cb = keras.callbacks.ModelCheckpoint('../Data/best-lstm-dropout-model.h5')\n",
    "\n",
    "history = model.fit(\n",
    "    train_seq, \n",
    "    train_target, \n",
    "    epochs =100, # RNN에서 가장 낮은 에포크가 100\n",
    "    batch_size = 64, # 미니배치 경사 하강법|\n",
    "    validation_data = (val_seq,val_target),\n",
    "    callbacks = [checkpoint_cb,early_stopping_cb]\n",
    ")"
   ]
  },
  {
   "cell_type": "code",
   "execution_count": 41,
   "metadata": {},
   "outputs": [
    {
     "data": {
      "image/png": "[encoded data removed]",
      "text/plain": [
       "<Figure size 432x288 with 1 Axes>"
      ]
     },
     "metadata": {
      "needs_background": "light"
     },
     "output_type": "display_data"
    }
   ],
   "source": [
    "# 시각화 해보기\n",
    "import matplotlib.pyplot as plt\n",
    "\n",
    "\n",
    "plt.plot(history.history['loss'])\n",
    "plt.plot(history.history['val_loss'])\n",
    "plt.xlabel('a')\n",
    "plt.ylabel('b')\n",
    "plt.show()"
   ]
  },
  {
   "cell_type": "code",
   "execution_count": null,
   "metadata": {},
   "outputs": [],
   "source": []
  },
  {
   "cell_type": "markdown",
   "metadata": {},
   "source": [
    "---\n",
    "## 2개층을 연결하기"
   ]
  },
  {
   "cell_type": "code",
   "execution_count": 42,
   "metadata": {},
   "outputs": [
    {
     "name": "stdout",
     "output_type": "stream",
     "text": [
      "Model: \"sequential_3\"\n",
      "_________________________________________________________________\n",
      " Layer (type)                Output Shape              Param #   \n",
      "=================================================================\n",
      " embedding_2 (Embedding)     (None, 100, 16)           8000      \n",
      "                                                                 \n",
      " lstm_2 (LSTM)               (None, 100, 8)            800       \n",
      "                                                                 \n",
      " lstm_3 (LSTM)               (None, 8)                 544       \n",
      "                                                                 \n",
      " dense_3 (Dense)             (None, 1)                 9         \n",
      "                                                                 \n",
      "=================================================================\n",
      "Total params: 9,353\n",
      "Trainable params: 9,353\n",
      "Non-trainable params: 0\n",
      "_________________________________________________________________\n"
     ]
    }
   ],
   "source": [
    "model = keras.Sequential()\n",
    "\n",
    "model.add(keras.layers.Embedding(500,16,input_length = 100))\n",
    "model.add(keras.layers.LSTM(8,dropout=0.3, return_sequences=True)) # 2개층 이상을 쓸 때에는 return_sequences = True 라고 적어야 새로 만든 문장을 다시 입력해줌\n",
    "\n",
    "model.add(keras.layers.LSTM(8,dropout=0.3)) # 모든 타임스텝의 은닉상태를 출력하려면 return_sequence = True하여야 한다.\n",
    "\n",
    "model.add(keras.layers.Dense(1,activation = 'sigmoid'))\n",
    "\n",
    "model.summary()"
   ]
  },
  {
   "cell_type": "code",
   "execution_count": 43,
   "metadata": {},
   "outputs": [
    {
     "name": "stdout",
     "output_type": "stream",
     "text": [
      "Epoch 1/100\n",
      "313/313 [==============================] - 10s 26ms/step - loss: 0.6924 - accuracy: 0.5502 - val_loss: 0.6918 - val_accuracy: 0.5962\n",
      "Epoch 2/100\n",
      "313/313 [==============================] - 8s 25ms/step - loss: 0.6894 - accuracy: 0.6211 - val_loss: 0.6859 - val_accuracy: 0.6562\n",
      "Epoch 3/100\n",
      "313/313 [==============================] - 8s 25ms/step - loss: 0.6720 - accuracy: 0.6643 - val_loss: 0.6437 - val_accuracy: 0.6996\n",
      "Epoch 4/100\n",
      "313/313 [==============================] - 8s 25ms/step - loss: 0.6054 - accuracy: 0.7092 - val_loss: 0.5782 - val_accuracy: 0.7218\n",
      "Epoch 5/100\n",
      "313/313 [==============================] - 8s 26ms/step - loss: 0.5663 - accuracy: 0.7248 - val_loss: 0.5489 - val_accuracy: 0.7450\n",
      "Epoch 6/100\n",
      "313/313 [==============================] - 8s 25ms/step - loss: 0.5379 - accuracy: 0.7466 - val_loss: 0.5242 - val_accuracy: 0.7558\n",
      "Epoch 7/100\n",
      "313/313 [==============================] - 8s 26ms/step - loss: 0.5177 - accuracy: 0.7587 - val_loss: 0.5097 - val_accuracy: 0.7620\n",
      "Epoch 8/100\n",
      "313/313 [==============================] - 8s 26ms/step - loss: 0.5038 - accuracy: 0.7650 - val_loss: 0.4920 - val_accuracy: 0.7724\n",
      "Epoch 9/100\n",
      "313/313 [==============================] - 8s 26ms/step - loss: 0.4915 - accuracy: 0.7732 - val_loss: 0.4854 - val_accuracy: 0.7736\n",
      "Epoch 10/100\n",
      "313/313 [==============================] - 8s 26ms/step - loss: 0.4823 - accuracy: 0.7774 - val_loss: 0.4786 - val_accuracy: 0.7778\n",
      "Epoch 11/100\n",
      "313/313 [==============================] - 8s 26ms/step - loss: 0.4764 - accuracy: 0.7818 - val_loss: 0.4796 - val_accuracy: 0.7714\n",
      "Epoch 12/100\n",
      "313/313 [==============================] - 384s 1s/step - loss: 0.4707 - accuracy: 0.7839 - val_loss: 0.4678 - val_accuracy: 0.7820\n",
      "Epoch 13/100\n",
      "313/313 [==============================] - 8s 27ms/step - loss: 0.4668 - accuracy: 0.7858 - val_loss: 0.4662 - val_accuracy: 0.7808\n",
      "Epoch 14/100\n",
      "313/313 [==============================] - 8s 26ms/step - loss: 0.4597 - accuracy: 0.7913 - val_loss: 0.4611 - val_accuracy: 0.7848\n",
      "Epoch 15/100\n",
      "313/313 [==============================] - 8s 26ms/step - loss: 0.4576 - accuracy: 0.7914 - val_loss: 0.4594 - val_accuracy: 0.7848\n",
      "Epoch 16/100\n",
      "313/313 [==============================] - 8s 26ms/step - loss: 0.4529 - accuracy: 0.7928 - val_loss: 0.4536 - val_accuracy: 0.7866\n",
      "Epoch 17/100\n",
      "313/313 [==============================] - 8s 26ms/step - loss: 0.4490 - accuracy: 0.7962 - val_loss: 0.4515 - val_accuracy: 0.7864\n",
      "Epoch 18/100\n",
      "313/313 [==============================] - 8s 26ms/step - loss: 0.4448 - accuracy: 0.7966 - val_loss: 0.4503 - val_accuracy: 0.7888\n",
      "Epoch 19/100\n",
      "313/313 [==============================] - 8s 26ms/step - loss: 0.4445 - accuracy: 0.7980 - val_loss: 0.4472 - val_accuracy: 0.7906\n",
      "Epoch 20/100\n",
      "313/313 [==============================] - 8s 27ms/step - loss: 0.4409 - accuracy: 0.8003 - val_loss: 0.4459 - val_accuracy: 0.7912\n",
      "Epoch 21/100\n",
      "313/313 [==============================] - 8s 27ms/step - loss: 0.4381 - accuracy: 0.8009 - val_loss: 0.4455 - val_accuracy: 0.7874\n",
      "Epoch 22/100\n",
      "313/313 [==============================] - 8s 26ms/step - loss: 0.4376 - accuracy: 0.8008 - val_loss: 0.4423 - val_accuracy: 0.7938\n",
      "Epoch 23/100\n",
      "313/313 [==============================] - 8s 26ms/step - loss: 0.4362 - accuracy: 0.8006 - val_loss: 0.4428 - val_accuracy: 0.7932\n",
      "Epoch 24/100\n",
      "313/313 [==============================] - 8s 26ms/step - loss: 0.4324 - accuracy: 0.8054 - val_loss: 0.4419 - val_accuracy: 0.7900\n",
      "Epoch 25/100\n",
      "313/313 [==============================] - 8s 26ms/step - loss: 0.4314 - accuracy: 0.8038 - val_loss: 0.4396 - val_accuracy: 0.7952\n",
      "Epoch 26/100\n",
      "313/313 [==============================] - 8s 26ms/step - loss: 0.4314 - accuracy: 0.8007 - val_loss: 0.4390 - val_accuracy: 0.7976\n",
      "Epoch 27/100\n",
      "313/313 [==============================] - 8s 27ms/step - loss: 0.4303 - accuracy: 0.8041 - val_loss: 0.4377 - val_accuracy: 0.7978\n",
      "Epoch 28/100\n",
      "313/313 [==============================] - 8s 27ms/step - loss: 0.4279 - accuracy: 0.8059 - val_loss: 0.4362 - val_accuracy: 0.7942\n",
      "Epoch 29/100\n",
      "313/313 [==============================] - 8s 27ms/step - loss: 0.4289 - accuracy: 0.8044 - val_loss: 0.4357 - val_accuracy: 0.7988\n",
      "Epoch 30/100\n",
      "313/313 [==============================] - 8s 26ms/step - loss: 0.4271 - accuracy: 0.8066 - val_loss: 0.4356 - val_accuracy: 0.7976\n",
      "Epoch 31/100\n",
      "313/313 [==============================] - 8s 26ms/step - loss: 0.4244 - accuracy: 0.8059 - val_loss: 0.4343 - val_accuracy: 0.8002\n",
      "Epoch 32/100\n",
      "313/313 [==============================] - 8s 26ms/step - loss: 0.4256 - accuracy: 0.8073 - val_loss: 0.4396 - val_accuracy: 0.7886\n",
      "Epoch 33/100\n",
      "313/313 [==============================] - 8s 27ms/step - loss: 0.4242 - accuracy: 0.8064 - val_loss: 0.4351 - val_accuracy: 0.7926\n",
      "Epoch 34/100\n",
      "313/313 [==============================] - 8s 27ms/step - loss: 0.4222 - accuracy: 0.8061 - val_loss: 0.4333 - val_accuracy: 0.7988\n",
      "Epoch 35/100\n",
      "313/313 [==============================] - 9s 27ms/step - loss: 0.4216 - accuracy: 0.8074 - val_loss: 0.4320 - val_accuracy: 0.8016\n",
      "Epoch 36/100\n",
      "313/313 [==============================] - 8s 26ms/step - loss: 0.4206 - accuracy: 0.8069 - val_loss: 0.4356 - val_accuracy: 0.7994\n",
      "Epoch 37/100\n",
      "313/313 [==============================] - 8s 26ms/step - loss: 0.4204 - accuracy: 0.8079 - val_loss: 0.4310 - val_accuracy: 0.7994\n",
      "Epoch 38/100\n",
      "313/313 [==============================] - 8s 26ms/step - loss: 0.4189 - accuracy: 0.8081 - val_loss: 0.4305 - val_accuracy: 0.8008\n",
      "Epoch 39/100\n",
      "313/313 [==============================] - 8s 27ms/step - loss: 0.4190 - accuracy: 0.8097 - val_loss: 0.4330 - val_accuracy: 0.7940\n",
      "Epoch 40/100\n",
      "313/313 [==============================] - 8s 27ms/step - loss: 0.4175 - accuracy: 0.8088 - val_loss: 0.4347 - val_accuracy: 0.8006\n",
      "Epoch 41/100\n",
      "313/313 [==============================] - 8s 26ms/step - loss: 0.4161 - accuracy: 0.8095 - val_loss: 0.4297 - val_accuracy: 0.8000\n",
      "Epoch 42/100\n",
      "313/313 [==============================] - 8s 27ms/step - loss: 0.4169 - accuracy: 0.8084 - val_loss: 0.4374 - val_accuracy: 0.8010\n",
      "Epoch 43/100\n",
      "313/313 [==============================] - 8s 26ms/step - loss: 0.4164 - accuracy: 0.8095 - val_loss: 0.4302 - val_accuracy: 0.7978\n",
      "Epoch 44/100\n",
      "313/313 [==============================] - 8s 26ms/step - loss: 0.4160 - accuracy: 0.8093 - val_loss: 0.4291 - val_accuracy: 0.8002\n",
      "Epoch 45/100\n",
      "313/313 [==============================] - 8s 26ms/step - loss: 0.4148 - accuracy: 0.8094 - val_loss: 0.4297 - val_accuracy: 0.8034\n",
      "Epoch 46/100\n",
      "313/313 [==============================] - 8s 26ms/step - loss: 0.4145 - accuracy: 0.8106 - val_loss: 0.4299 - val_accuracy: 0.8038\n",
      "Epoch 47/100\n",
      "313/313 [==============================] - 8s 26ms/step - loss: 0.4121 - accuracy: 0.8115 - val_loss: 0.4276 - val_accuracy: 0.8008\n",
      "Epoch 48/100\n",
      "313/313 [==============================] - 8s 26ms/step - loss: 0.4121 - accuracy: 0.8102 - val_loss: 0.4274 - val_accuracy: 0.8010\n",
      "Epoch 49/100\n",
      "313/313 [==============================] - 8s 26ms/step - loss: 0.4116 - accuracy: 0.8124 - val_loss: 0.4274 - val_accuracy: 0.8018\n",
      "Epoch 50/100\n",
      "313/313 [==============================] - 8s 26ms/step - loss: 0.4125 - accuracy: 0.8104 - val_loss: 0.4331 - val_accuracy: 0.8002\n",
      "Epoch 51/100\n",
      "313/313 [==============================] - 8s 26ms/step - loss: 0.4118 - accuracy: 0.8098 - val_loss: 0.4307 - val_accuracy: 0.8032\n",
      "Epoch 52/100\n",
      "313/313 [==============================] - 8s 26ms/step - loss: 0.4107 - accuracy: 0.8107 - val_loss: 0.4299 - val_accuracy: 0.7968\n"
     ]
    }
   ],
   "source": [
    "rmsprop = keras.optimizers.RMSprop(learning_rate = 1e-4)\n",
    "\n",
    "model.compile(optimizer= rmsprop, \n",
    "              loss = 'binary_crossentropy',\n",
    "              metrics = 'accuracy'\n",
    "              )\n",
    "\n",
    "early_stopping_cb = keras.callbacks.EarlyStopping(patience=3, restore_best_weights=True )\n",
    "checkpoint_cb = keras.callbacks.ModelCheckpoint('../Data/best-lstm-2rnn-model.h5')\n",
    "\n",
    "history = model.fit(\n",
    "    train_seq, \n",
    "    train_target, \n",
    "    epochs =100, # RNN에서 가장 낮은 에포크가 100\n",
    "    batch_size = 64, # 미니배치 경사 하강법|\n",
    "    validation_data = (val_seq,val_target),\n",
    "    callbacks = [checkpoint_cb,early_stopping_cb]\n",
    ")"
   ]
  },
  {
   "cell_type": "code",
   "execution_count": 44,
   "metadata": {},
   "outputs": [
    {
     "data": {
      "image/png": "[encoded data removed]",
      "text/plain": [
       "<Figure size 432x288 with 1 Axes>"
      ]
     },
     "metadata": {
      "needs_background": "light"
     },
     "output_type": "display_data"
    }
   ],
   "source": [
    "# 시각화 해보기\n",
    "import matplotlib.pyplot as plt\n",
    "\n",
    "\n",
    "plt.plot(history.history['loss'])\n",
    "plt.plot(history.history['val_loss'])\n",
    "plt.xlabel('a')\n",
    "plt.ylabel('b')\n",
    "plt.show()"
   ]
  },
  {
   "cell_type": "markdown",
   "metadata": {},
   "source": [
    "-----\n",
    "### GRU(Gated Recurrent Unit) 신경망\n",
    "- LSTM의 간소화 버전\n",
    "- LSTM은 다 좋은데 문장이 길어지면 셀이 기억하고 있던 것들이 너무 많다는 단점이 있음.\n",
    "- GRU 는 셀의 기억 한도를 정해서 나머지에게 나머지 기억을 시킴₩"
   ]
  },
  {
   "cell_type": "code",
   "execution_count": 45,
   "metadata": {},
   "outputs": [
    {
     "name": "stdout",
     "output_type": "stream",
     "text": [
      "Model: \"sequential_4\"\n",
      "_________________________________________________________________\n",
      " Layer (type)                Output Shape              Param #   \n",
      "=================================================================\n",
      " embedding_3 (Embedding)     (None, 100, 16)           8000      \n",
      "                                                                 \n",
      " gru (GRU)                   (None, 8)                 624       \n",
      "                                                                 \n",
      " dense_4 (Dense)             (None, 1)                 9         \n",
      "                                                                 \n",
      "=================================================================\n",
      "Total params: 8,633\n",
      "Trainable params: 8,633\n",
      "Non-trainable params: 0\n",
      "_________________________________________________________________\n"
     ]
    }
   ],
   "source": [
    "model = keras.Sequential()\n",
    "\n",
    "model.add(keras.layers.Embedding(500,16,input_length = 100))\n",
    "model.add(keras.layers.GRU(8)) # Dropout 자동으로 되는 것이 GRU의 특징이기에 적을 필요가없다.\n",
    "\n",
    "model.add(keras.layers.Dense(1,activation = 'sigmoid'))\n",
    "\n",
    "model.summary()"
   ]
  },
  {
   "cell_type": "code",
   "execution_count": 46,
   "metadata": {},
   "outputs": [
    {
     "name": "stdout",
     "output_type": "stream",
     "text": [
      "Epoch 1/100\n",
      "313/313 [==============================] - 6s 16ms/step - loss: 0.6929 - accuracy: 0.5095 - val_loss: 0.6923 - val_accuracy: 0.5266\n",
      "Epoch 2/100\n",
      "313/313 [==============================] - 5s 15ms/step - loss: 0.6911 - accuracy: 0.5512 - val_loss: 0.6904 - val_accuracy: 0.5488\n",
      "Epoch 3/100\n",
      "313/313 [==============================] - 5s 14ms/step - loss: 0.6885 - accuracy: 0.5745 - val_loss: 0.6877 - val_accuracy: 0.5572\n",
      "Epoch 4/100\n",
      "313/313 [==============================] - 5s 15ms/step - loss: 0.6843 - accuracy: 0.5882 - val_loss: 0.6827 - val_accuracy: 0.5834\n",
      "Epoch 5/100\n",
      "313/313 [==============================] - 5s 15ms/step - loss: 0.6776 - accuracy: 0.6112 - val_loss: 0.6753 - val_accuracy: 0.5986\n",
      "Epoch 6/100\n",
      "313/313 [==============================] - 5s 15ms/step - loss: 0.6673 - accuracy: 0.6278 - val_loss: 0.6640 - val_accuracy: 0.6162\n",
      "Epoch 7/100\n",
      "313/313 [==============================] - 5s 15ms/step - loss: 0.6524 - accuracy: 0.6425 - val_loss: 0.6482 - val_accuracy: 0.6328\n",
      "Epoch 8/100\n",
      "313/313 [==============================] - 5s 15ms/step - loss: 0.6300 - accuracy: 0.6628 - val_loss: 0.6225 - val_accuracy: 0.6608\n",
      "Epoch 9/100\n",
      "313/313 [==============================] - 5s 15ms/step - loss: 0.5949 - accuracy: 0.6880 - val_loss: 0.5810 - val_accuracy: 0.7002\n",
      "Epoch 10/100\n",
      "313/313 [==============================] - 5s 15ms/step - loss: 0.5344 - accuracy: 0.7327 - val_loss: 0.5182 - val_accuracy: 0.7496\n",
      "Epoch 11/100\n",
      "313/313 [==============================] - 5s 15ms/step - loss: 0.4926 - accuracy: 0.7612 - val_loss: 0.4958 - val_accuracy: 0.7598\n",
      "Epoch 12/100\n",
      "313/313 [==============================] - 5s 15ms/step - loss: 0.4743 - accuracy: 0.7760 - val_loss: 0.4829 - val_accuracy: 0.7682\n",
      "Epoch 13/100\n",
      "313/313 [==============================] - 5s 15ms/step - loss: 0.4620 - accuracy: 0.7846 - val_loss: 0.4711 - val_accuracy: 0.7786\n",
      "Epoch 14/100\n",
      "313/313 [==============================] - 5s 15ms/step - loss: 0.4520 - accuracy: 0.7912 - val_loss: 0.4633 - val_accuracy: 0.7820\n",
      "Epoch 15/100\n",
      "313/313 [==============================] - 5s 15ms/step - loss: 0.4448 - accuracy: 0.7958 - val_loss: 0.4627 - val_accuracy: 0.7858\n",
      "Epoch 16/100\n",
      "313/313 [==============================] - 5s 15ms/step - loss: 0.4394 - accuracy: 0.7994 - val_loss: 0.4563 - val_accuracy: 0.7856\n",
      "Epoch 17/100\n",
      "313/313 [==============================] - 5s 15ms/step - loss: 0.4348 - accuracy: 0.8015 - val_loss: 0.4511 - val_accuracy: 0.7900\n",
      "Epoch 18/100\n",
      "313/313 [==============================] - 5s 15ms/step - loss: 0.4309 - accuracy: 0.8045 - val_loss: 0.4507 - val_accuracy: 0.7962\n",
      "Epoch 19/100\n",
      "313/313 [==============================] - 5s 15ms/step - loss: 0.4278 - accuracy: 0.8081 - val_loss: 0.4469 - val_accuracy: 0.7900\n",
      "Epoch 20/100\n",
      "313/313 [==============================] - 5s 16ms/step - loss: 0.4261 - accuracy: 0.8087 - val_loss: 0.4452 - val_accuracy: 0.7960\n",
      "Epoch 21/100\n",
      "313/313 [==============================] - 5s 15ms/step - loss: 0.4235 - accuracy: 0.8098 - val_loss: 0.4447 - val_accuracy: 0.7926\n",
      "Epoch 22/100\n",
      "313/313 [==============================] - 5s 15ms/step - loss: 0.4221 - accuracy: 0.8111 - val_loss: 0.4438 - val_accuracy: 0.7946\n",
      "Epoch 23/100\n",
      "313/313 [==============================] - 5s 15ms/step - loss: 0.4206 - accuracy: 0.8109 - val_loss: 0.4461 - val_accuracy: 0.7958\n",
      "Epoch 24/100\n",
      "313/313 [==============================] - 5s 15ms/step - loss: 0.4194 - accuracy: 0.8116 - val_loss: 0.4420 - val_accuracy: 0.7936\n",
      "Epoch 25/100\n",
      "313/313 [==============================] - 5s 15ms/step - loss: 0.4185 - accuracy: 0.8141 - val_loss: 0.4420 - val_accuracy: 0.7980\n",
      "Epoch 26/100\n",
      "313/313 [==============================] - 5s 15ms/step - loss: 0.4173 - accuracy: 0.8143 - val_loss: 0.4433 - val_accuracy: 0.7920\n",
      "Epoch 27/100\n",
      "313/313 [==============================] - 5s 15ms/step - loss: 0.4163 - accuracy: 0.8138 - val_loss: 0.4408 - val_accuracy: 0.7978\n",
      "Epoch 28/100\n",
      "313/313 [==============================] - 5s 15ms/step - loss: 0.4155 - accuracy: 0.8152 - val_loss: 0.4444 - val_accuracy: 0.7908\n",
      "Epoch 29/100\n",
      "313/313 [==============================] - 5s 15ms/step - loss: 0.4147 - accuracy: 0.8131 - val_loss: 0.4397 - val_accuracy: 0.7980\n",
      "Epoch 30/100\n",
      "313/313 [==============================] - 5s 15ms/step - loss: 0.4148 - accuracy: 0.8155 - val_loss: 0.4451 - val_accuracy: 0.7940\n",
      "Epoch 31/100\n",
      "313/313 [==============================] - 5s 15ms/step - loss: 0.4141 - accuracy: 0.8141 - val_loss: 0.4391 - val_accuracy: 0.7966\n",
      "Epoch 32/100\n",
      "313/313 [==============================] - 5s 15ms/step - loss: 0.4138 - accuracy: 0.8150 - val_loss: 0.4429 - val_accuracy: 0.7906\n",
      "Epoch 33/100\n",
      "313/313 [==============================] - 5s 15ms/step - loss: 0.4133 - accuracy: 0.8159 - val_loss: 0.4384 - val_accuracy: 0.7978\n",
      "Epoch 34/100\n",
      "313/313 [==============================] - 5s 15ms/step - loss: 0.4126 - accuracy: 0.8169 - val_loss: 0.4393 - val_accuracy: 0.7964\n",
      "Epoch 35/100\n",
      "313/313 [==============================] - 5s 15ms/step - loss: 0.4126 - accuracy: 0.8159 - val_loss: 0.4418 - val_accuracy: 0.7942\n",
      "Epoch 36/100\n",
      "313/313 [==============================] - 5s 15ms/step - loss: 0.4121 - accuracy: 0.8159 - val_loss: 0.4375 - val_accuracy: 0.7984\n",
      "Epoch 37/100\n",
      "313/313 [==============================] - 5s 15ms/step - loss: 0.4116 - accuracy: 0.8160 - val_loss: 0.4392 - val_accuracy: 0.7982\n",
      "Epoch 38/100\n",
      "313/313 [==============================] - 5s 15ms/step - loss: 0.4110 - accuracy: 0.8174 - val_loss: 0.4370 - val_accuracy: 0.8008\n",
      "Epoch 39/100\n",
      "313/313 [==============================] - 5s 15ms/step - loss: 0.4109 - accuracy: 0.8156 - val_loss: 0.4366 - val_accuracy: 0.7984\n",
      "Epoch 40/100\n",
      "313/313 [==============================] - 5s 15ms/step - loss: 0.4109 - accuracy: 0.8160 - val_loss: 0.4359 - val_accuracy: 0.8008\n",
      "Epoch 41/100\n",
      "313/313 [==============================] - 5s 15ms/step - loss: 0.4106 - accuracy: 0.8169 - val_loss: 0.4361 - val_accuracy: 0.7994\n",
      "Epoch 42/100\n",
      "313/313 [==============================] - 5s 15ms/step - loss: 0.4103 - accuracy: 0.8149 - val_loss: 0.4368 - val_accuracy: 0.8010\n",
      "Epoch 43/100\n",
      "313/313 [==============================] - 5s 15ms/step - loss: 0.4094 - accuracy: 0.8161 - val_loss: 0.4353 - val_accuracy: 0.8010\n",
      "Epoch 44/100\n",
      "313/313 [==============================] - 5s 15ms/step - loss: 0.4090 - accuracy: 0.8163 - val_loss: 0.4351 - val_accuracy: 0.8008\n",
      "Epoch 45/100\n",
      "313/313 [==============================] - 5s 15ms/step - loss: 0.4091 - accuracy: 0.8181 - val_loss: 0.4354 - val_accuracy: 0.7998\n",
      "Epoch 46/100\n",
      "313/313 [==============================] - 5s 15ms/step - loss: 0.4088 - accuracy: 0.8158 - val_loss: 0.4417 - val_accuracy: 0.7922\n",
      "Epoch 47/100\n",
      "313/313 [==============================] - 5s 15ms/step - loss: 0.4084 - accuracy: 0.8170 - val_loss: 0.4354 - val_accuracy: 0.7982\n"
     ]
    }
   ],
   "source": [
    "rmsprop = keras.optimizers.RMSprop(learning_rate = 1e-4)\n",
    "\n",
    "model.compile(optimizer= rmsprop, \n",
    "              loss = 'binary_crossentropy',\n",
    "              metrics = 'accuracy'\n",
    "              )\n",
    "\n",
    "early_stopping_cb = keras.callbacks.EarlyStopping(patience=3, restore_best_weights=True )\n",
    "checkpoint_cb = keras.callbacks.ModelCheckpoint('../Data/best-gru-model.h5')\n",
    "\n",
    "history = model.fit(\n",
    "    train_seq, \n",
    "    train_target, \n",
    "    epochs =100, # RNN에서 가장 낮은 에포크가 100\n",
    "    batch_size = 64, # 미니배치 경사 하강법|\n",
    "    validation_data = (val_seq,val_target),\n",
    "    callbacks = [checkpoint_cb,early_stopping_cb]\n",
    ")"
   ]
  },
  {
   "cell_type": "code",
   "execution_count": 47,
   "metadata": {},
   "outputs": [
    {
     "data": {
      "image/png": "[encoded data removed]",
      "text/plain": [
       "<Figure size 432x288 with 1 Axes>"
      ]
     },
     "metadata": {
      "needs_background": "light"
     },
     "output_type": "display_data"
    }
   ],
   "source": [
    "# 시각화 해보기\n",
    "import matplotlib.pyplot as plt\n",
    "\n",
    "\n",
    "plt.plot(history.history['loss'])\n",
    "plt.plot(history.history['val_loss'])\n",
    "plt.xlabel('a')\n",
    "plt.ylabel('b')\n",
    "plt.show()"
   ]
  },
  {
   "cell_type": "code",
   "execution_count": null,
   "metadata": {},
   "outputs": [],
   "source": []
  }
 ],
 "metadata": {
  "kernelspec": {
   "display_name": "Python 3.9.12 ('tensorflow')",
   "language": "python",
   "name": "python3"
  },
  "language_info": {
   "codemirror_mode": {
    "name": "ipython",
    "version": 3
   },
   "file_extension": ".py",
   "mimetype": "text/x-python",
   "name": "python",
   "nbconvert_exporter": "python",
   "pygments_lexer": "ipython3",
   "version": "3.9.12"
  },
  "orig_nbformat": 4,
  "vscode": {
   "interpreter": {
    "hash": "8391fe5f87ea823b3933087779d976ca05f6a1d69510a4721448841fffbcd65c"
   }
  }
 },
 "nbformat": 4,
 "nbformat_minor": 2
}
