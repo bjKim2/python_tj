{
 "cells": [
  {
   "cell_type": "markdown",
   "metadata": {},
   "source": [
    "# 텍스트 분류\n",
    "- 베이즈 정리를 이용한 텍스트 분류 방법인 베이지안 필터를 이용\n",
    "- 학습을 많이 시키면 필터의 분류 능력이 향상됨\n",
    "- 매일 서비스에서 스팸 메일을 구분하거나 커뮤니티 사이트에서 스팸글을 구분할 떄 많이 사용됨\n",
    "- 머신러닝 중 지도학습에 해당"
   ]
  },
  {
   "cell_type": "code",
   "execution_count": 8,
   "metadata": {},
   "outputs": [],
   "source": [
    "from bayes import BayesianFilter"
   ]
  },
  {
   "cell_type": "code",
   "execution_count": 9,
   "metadata": {},
   "outputs": [],
   "source": [
    "bf = BayesianFilter()"
   ]
  },
  {
   "cell_type": "code",
   "execution_count": 10,
   "metadata": {},
   "outputs": [
    {
     "ename": "OSError",
     "evalue": "[Errno 0] JVM DLL not found: /Library/Java/JavaVirtualMachines/jdk-11.0.14.jdk/Contents/Home/lib/jli/libjli.dylib\n",
     "output_type": "error",
     "traceback": [
      "\u001b[0;31m---------------------------------------------------------------------------\u001b[0m",
      "\u001b[0;31mOSError\u001b[0m                                   Traceback (most recent call last)",
      "\u001b[1;32m/Users/kte/ktePy/python_tj/5.DeepLearning/Note/17.베이즈 정리로 텍스트 분류.ipynb 셀 4\u001b[0m in \u001b[0;36m<cell line: 2>\u001b[0;34m()\u001b[0m\n\u001b[1;32m      <a href='vscode-notebook-cell:/Users/kte/ktePy/python_tj/5.DeepLearning/Note/17.%EB%B2%A0%EC%9D%B4%EC%A6%88%20%EC%A0%95%EB%A6%AC%EB%A1%9C%20%ED%85%8D%EC%8A%A4%ED%8A%B8%20%EB%B6%84%EB%A5%98.ipynb#ch0000005?line=0'>1</a>\u001b[0m \u001b[39m# 텍스트 학습\u001b[39;00m\n\u001b[0;32m----> <a href='vscode-notebook-cell:/Users/kte/ktePy/python_tj/5.DeepLearning/Note/17.%EB%B2%A0%EC%9D%B4%EC%A6%88%20%EC%A0%95%EB%A6%AC%EB%A1%9C%20%ED%85%8D%EC%8A%A4%ED%8A%B8%20%EB%B6%84%EB%A5%98.ipynb#ch0000005?line=1'>2</a>\u001b[0m bf\u001b[39m.\u001b[39;49mfit(\u001b[39m\"\u001b[39;49m\u001b[39m파격 세일 - 오늘까지만 30\u001b[39;49m\u001b[39m%\u001b[39;49m\u001b[39m 할인\u001b[39;49m\u001b[39m\"\u001b[39;49m, \u001b[39m\"\u001b[39;49m\u001b[39m광고\u001b[39;49m\u001b[39m\"\u001b[39;49m)\n\u001b[1;32m      <a href='vscode-notebook-cell:/Users/kte/ktePy/python_tj/5.DeepLearning/Note/17.%EB%B2%A0%EC%9D%B4%EC%A6%88%20%EC%A0%95%EB%A6%AC%EB%A1%9C%20%ED%85%8D%EC%8A%A4%ED%8A%B8%20%EB%B6%84%EB%A5%98.ipynb#ch0000005?line=2'>3</a>\u001b[0m bf\u001b[39m.\u001b[39mfit(\u001b[39m\"\u001b[39m\u001b[39m쿠폰 선물 & 무료 배송\u001b[39m\u001b[39m\"\u001b[39m, \u001b[39m\"\u001b[39m\u001b[39m광고\u001b[39m\u001b[39m\"\u001b[39m)\n\u001b[1;32m      <a href='vscode-notebook-cell:/Users/kte/ktePy/python_tj/5.DeepLearning/Note/17.%EB%B2%A0%EC%9D%B4%EC%A6%88%20%EC%A0%95%EB%A6%AC%EB%A1%9C%20%ED%85%8D%EC%8A%A4%ED%8A%B8%20%EB%B6%84%EB%A5%98.ipynb#ch0000005?line=3'>4</a>\u001b[0m bf\u001b[39m.\u001b[39mfit(\u001b[39m\"\u001b[39m\u001b[39m현대계 백화점 세일\u001b[39m\u001b[39m\"\u001b[39m, \u001b[39m\"\u001b[39m\u001b[39m광고\u001b[39m\u001b[39m\"\u001b[39m)\n",
      "File \u001b[0;32m~/ktePy/python_tj/5.DeepLearning/Note/bayes.py:47\u001b[0m, in \u001b[0;36mBayesianFilter.fit\u001b[0;34m(self, text, category)\u001b[0m\n\u001b[1;32m     45\u001b[0m \u001b[39mdef\u001b[39;00m \u001b[39mfit\u001b[39m(\u001b[39mself\u001b[39m, text, category):\n\u001b[1;32m     46\u001b[0m     \u001b[39m\"\"\" 텍스트 학습 \"\"\"\u001b[39;00m\n\u001b[0;32m---> 47\u001b[0m     word_list \u001b[39m=\u001b[39m \u001b[39mself\u001b[39;49m\u001b[39m.\u001b[39;49msplit(text)\n\u001b[1;32m     48\u001b[0m     \u001b[39mfor\u001b[39;00m word \u001b[39min\u001b[39;00m word_list:\n\u001b[1;32m     49\u001b[0m         \u001b[39mself\u001b[39m\u001b[39m.\u001b[39minc_word(word, category)\n",
      "File \u001b[0;32m~/ktePy/python_tj/5.DeepLearning/Note/bayes.py:19\u001b[0m, in \u001b[0;36mBayesianFilter.split\u001b[0;34m(self, text)\u001b[0m\n\u001b[1;32m     17\u001b[0m \u001b[39mdef\u001b[39;00m \u001b[39msplit\u001b[39m(\u001b[39mself\u001b[39m, text):\n\u001b[1;32m     18\u001b[0m     results \u001b[39m=\u001b[39m []\n\u001b[0;32m---> 19\u001b[0m     twitter \u001b[39m=\u001b[39m Okt()\n\u001b[1;32m     20\u001b[0m     \u001b[39m# 단어의 기본형 사용\u001b[39;00m\n\u001b[1;32m     21\u001b[0m     malist \u001b[39m=\u001b[39m twitter\u001b[39m.\u001b[39mpos(text, norm\u001b[39m=\u001b[39m\u001b[39mTrue\u001b[39;00m, stem\u001b[39m=\u001b[39m\u001b[39mTrue\u001b[39;00m)\n",
      "File \u001b[0;32m~/opt/anaconda3/envs/tensorflow/lib/python3.9/site-packages/konlpy/tag/_okt.py:51\u001b[0m, in \u001b[0;36mOkt.__init__\u001b[0;34m(self, jvmpath, max_heap_size)\u001b[0m\n\u001b[1;32m     49\u001b[0m \u001b[39mdef\u001b[39;00m \u001b[39m__init__\u001b[39m(\u001b[39mself\u001b[39m, jvmpath\u001b[39m=\u001b[39m\u001b[39mNone\u001b[39;00m, max_heap_size\u001b[39m=\u001b[39m\u001b[39m1024\u001b[39m):\n\u001b[1;32m     50\u001b[0m     \u001b[39mif\u001b[39;00m \u001b[39mnot\u001b[39;00m jpype\u001b[39m.\u001b[39misJVMStarted():\n\u001b[0;32m---> 51\u001b[0m         jvm\u001b[39m.\u001b[39;49minit_jvm(jvmpath, max_heap_size)\n\u001b[1;32m     53\u001b[0m     oktJavaPackage \u001b[39m=\u001b[39m jpype\u001b[39m.\u001b[39mJPackage(\u001b[39m'\u001b[39m\u001b[39mkr.lucypark.okt\u001b[39m\u001b[39m'\u001b[39m)\n\u001b[1;32m     54\u001b[0m     OktInterfaceJavaClass \u001b[39m=\u001b[39m oktJavaPackage\u001b[39m.\u001b[39mOktInterface\n",
      "File \u001b[0;32m~/opt/anaconda3/envs/tensorflow/lib/python3.9/site-packages/konlpy/jvm.py:64\u001b[0m, in \u001b[0;36minit_jvm\u001b[0;34m(jvmpath, max_heap_size)\u001b[0m\n\u001b[1;32m     61\u001b[0m     jvmpath \u001b[39m=\u001b[39m \u001b[39m'\u001b[39m\u001b[39m%s\u001b[39;00m\u001b[39m/lib/jli/libjli.dylib\u001b[39m\u001b[39m'\u001b[39m \u001b[39m%\u001b[39m jvmpath\u001b[39m.\u001b[39msplit(\u001b[39m'\u001b[39m\u001b[39m/lib/\u001b[39m\u001b[39m'\u001b[39m)[\u001b[39m0\u001b[39m]\n\u001b[1;32m     63\u001b[0m \u001b[39mif\u001b[39;00m jvmpath:\n\u001b[0;32m---> 64\u001b[0m     jpype\u001b[39m.\u001b[39;49mstartJVM(jvmpath, \u001b[39m'\u001b[39;49m\u001b[39m-Dfile.encoding=UTF8\u001b[39;49m\u001b[39m'\u001b[39;49m,\n\u001b[1;32m     65\u001b[0m                             \u001b[39m'\u001b[39;49m\u001b[39m-ea\u001b[39;49m\u001b[39m'\u001b[39;49m, \u001b[39m'\u001b[39;49m\u001b[39m-Xmx\u001b[39;49m\u001b[39m{}\u001b[39;49;00m\u001b[39mm\u001b[39;49m\u001b[39m'\u001b[39;49m\u001b[39m.\u001b[39;49mformat(max_heap_size),\n\u001b[1;32m     66\u001b[0m                             classpath\u001b[39m=\u001b[39;49mclasspath,\n\u001b[1;32m     67\u001b[0m                             convertStrings\u001b[39m=\u001b[39;49m\u001b[39mTrue\u001b[39;49;00m)\n\u001b[1;32m     68\u001b[0m \u001b[39melse\u001b[39;00m:\n\u001b[1;32m     69\u001b[0m     \u001b[39mraise\u001b[39;00m \u001b[39mValueError\u001b[39;00m(\u001b[39m\"\u001b[39m\u001b[39mPlease specify the JVM path.\u001b[39m\u001b[39m\"\u001b[39m)\n",
      "File \u001b[0;32m~/opt/anaconda3/envs/tensorflow/lib/python3.9/site-packages/jpype/_core.py:226\u001b[0m, in \u001b[0;36mstartJVM\u001b[0;34m(*args, **kwargs)\u001b[0m\n\u001b[1;32m    222\u001b[0m     \u001b[39mraise\u001b[39;00m \u001b[39mTypeError\u001b[39;00m(\u001b[39m\"\u001b[39m\u001b[39mstartJVM() got an unexpected keyword argument \u001b[39m\u001b[39m'\u001b[39m\u001b[39m%s\u001b[39;00m\u001b[39m'\u001b[39m\u001b[39m\"\u001b[39m\n\u001b[1;32m    223\u001b[0m                     \u001b[39m%\u001b[39m (\u001b[39m'\u001b[39m\u001b[39m,\u001b[39m\u001b[39m'\u001b[39m\u001b[39m.\u001b[39mjoin([\u001b[39mstr\u001b[39m(i) \u001b[39mfor\u001b[39;00m i \u001b[39min\u001b[39;00m kwargs])))\n\u001b[1;32m    225\u001b[0m \u001b[39mtry\u001b[39;00m:\n\u001b[0;32m--> 226\u001b[0m     _jpype\u001b[39m.\u001b[39;49mstartup(jvmpath, \u001b[39mtuple\u001b[39;49m(args),\n\u001b[1;32m    227\u001b[0m                    ignoreUnrecognized, convertStrings, interrupt)\n\u001b[1;32m    228\u001b[0m     initializeResources()\n\u001b[1;32m    229\u001b[0m \u001b[39mexcept\u001b[39;00m \u001b[39mRuntimeError\u001b[39;00m \u001b[39mas\u001b[39;00m ex:\n",
      "\u001b[0;31mOSError\u001b[0m: [Errno 0] JVM DLL not found: /Library/Java/JavaVirtualMachines/jdk-11.0.14.jdk/Contents/Home/lib/jli/libjli.dylib\n"
     ]
    }
   ],
   "source": [
    "# 텍스트 학습\n",
    "bf.fit(\"파격 세일 - 오늘까지만 30% 할인\", \"광고\")\n",
    "bf.fit(\"쿠폰 선물 & 무료 배송\", \"광고\")\n",
    "bf.fit(\"현대계 백화점 세일\", \"광고\")\n",
    "bf.fit(\"봄과 함께 찾아온 따뜻한 신제품 소식\", \"광고\")\n",
    "bf.fit(\"인기 제품 기간 한정 세일\", \"광고\")\n",
    "bf.fit(\"오늘 일정 확인\", \"중요\")\n",
    "bf.fit(\"프로젝트 진행 상황 보고\",\"중요\")\n",
    "bf.fit(\"계약 잘 부탁드립니다\",\"중요\")\n",
    "bf.fit(\"회의 일정이 등록되었습니다.\",\"중요\")\n",
    "bf.fit(\"오늘 일정이 없습니다.\",\"중요\")"
   ]
  },
  {
   "cell_type": "code",
   "execution_count": null,
   "metadata": {},
   "outputs": [],
   "source": []
  },
  {
   "cell_type": "code",
   "execution_count": null,
   "metadata": {},
   "outputs": [],
   "source": [
    "# 예측\n"
   ]
  }
 ],
 "metadata": {
  "kernelspec": {
   "display_name": "Python 3.9.12 ('tensorflow')",
   "language": "python",
   "name": "python3"
  },
  "language_info": {
   "codemirror_mode": {
    "name": "ipython",
    "version": 3
   },
   "file_extension": ".py",
   "mimetype": "text/x-python",
   "name": "python",
   "nbconvert_exporter": "python",
   "pygments_lexer": "ipython3",
   "version": "3.9.12"
  },
  "orig_nbformat": 4,
  "vscode": {
   "interpreter": {
    "hash": "8391fe5f87ea823b3933087779d976ca05f6a1d69510a4721448841fffbcd65c"
   }
  }
 },
 "nbformat": 4,
 "nbformat_minor": 2
}
